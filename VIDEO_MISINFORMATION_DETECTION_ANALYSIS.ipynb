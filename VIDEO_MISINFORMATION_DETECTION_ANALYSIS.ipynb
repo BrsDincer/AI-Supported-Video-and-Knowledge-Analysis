{
  "nbformat": 4,
  "nbformat_minor": 0,
  "metadata": {
    "colab": {
      "provenance": [],
      "toc_visible": true
    },
    "kernelspec": {
      "name": "python3",
      "display_name": "Python 3"
    },
    "language_info": {
      "name": "python"
    }
  },
  "cells": [
    {
      "cell_type": "markdown",
      "source": [
        "# Utilization Process"
      ],
      "metadata": {
        "id": "wVeEPEvnoIVh"
      }
    },
    {
      "cell_type": "markdown",
      "source": [
        "## Modules"
      ],
      "metadata": {
        "id": "69YyvoyXoJ-b"
      }
    },
    {
      "cell_type": "code",
      "execution_count": 1,
      "metadata": {
        "id": "TIv53eX5df8G"
      },
      "outputs": [],
      "source": [
        "modules:list = [\n",
        "    \"pyautogen\",\n",
        "    \"langchain-openai==0.0.3\",\n",
        "    \"langchain_experimental==0.0.49\",\n",
        "    \"huggingface_hub==0.20.2\",\n",
        "    \"newspaper3k==0.2.8\",\n",
        "    \"wikipedia==1.4.0\",\n",
        "    \"moviepy==1.0.3\",\n",
        "    \"-U -q google-generativeai\"\n",
        "]"
      ]
    },
    {
      "cell_type": "code",
      "source": [
        "for module in modules:\n",
        "  !pip install $module >> \"general_library_log.txt\""
      ],
      "metadata": {
        "id": "7YZVKbDNoUym"
      },
      "execution_count": 2,
      "outputs": []
    },
    {
      "cell_type": "markdown",
      "source": [
        "## Packages"
      ],
      "metadata": {
        "id": "4dVPjeT4oiPr"
      }
    },
    {
      "cell_type": "code",
      "source": [
        "import os,shutil,autogen,pathlib,time\n",
        "import cv2 as cv\n",
        "import numpy as np\n",
        "import google.generativeai as genai\n",
        "import wikipedia as wpp\n",
        "import moviepy.editor as mp\n",
        "from PIL import Image as PILImage\n",
        "from typing import Union,Optional,Any,Type\n",
        "from google.colab import userdata\n",
        "from langchain.llms import HuggingFaceHub\n",
        "from langchain.pydantic_v1 import BaseModel,Field\n",
        "from langchain.tools import BaseTool,WikipediaQueryRun\n",
        "from langchain_community.utilities import GoogleSearchAPIWrapper\n",
        "from langchain_community.document_loaders import NewsURLLoader\n",
        "from langchain.utilities.arxiv import ArxivAPIWrapper\n",
        "from langchain.utilities import WikipediaAPIWrapper\n",
        "from autogen.code_utils import content_str"
      ],
      "metadata": {
        "id": "mW5giKnOohNU"
      },
      "execution_count": 3,
      "outputs": []
    },
    {
      "cell_type": "code",
      "source": [
        "import warnings\n",
        "disabledWarningList:list = [DeprecationWarning,FutureWarning,UserWarning,RuntimeWarning]\n",
        "for warn in disabledWarningList: warnings.filterwarnings(\"ignore\",category=warn)"
      ],
      "metadata": {
        "id": "1mkq9T_sp4RF"
      },
      "execution_count": 4,
      "outputs": []
    },
    {
      "cell_type": "markdown",
      "source": [
        "## Default Class"
      ],
      "metadata": {
        "id": "5K2bK6jpqbEE"
      }
    },
    {
      "cell_type": "code",
      "source": [
        "class ClassInitial(object): pass\n",
        "class ErrorInitial(Exception): pass\n",
        "class ProcessInitial(object): pass\n",
        "class ModelInitial(object): pass\n",
        "class ResultInitial(object): pass\n",
        "class NullInitial(object): pass\n",
        "class FunctionInitial(object): pass"
      ],
      "metadata": {
        "id": "yOt9vYXzqWec"
      },
      "execution_count": 73,
      "outputs": []
    },
    {
      "cell_type": "code",
      "source": [
        "class File:\n",
        "  def __init__(self,path:str,name:str=None)->Optional[ClassInitial]:\n",
        "    self.path = path\n",
        "    if name:\n",
        "      self.name = name\n",
        "    self.timestep = self.GetTimeStep(path)\n",
        "  def FileResponse(self,response:Optional[ClassInitial])->ProcessInitial:\n",
        "    self.response = response\n",
        "  def GetTimeStep(self,fileName:str,defaultPrefix:str=\"_frame_\")->str:\n",
        "    try:\n",
        "      parts = fileName.split(defaultPrefix)\n",
        "      return parts[1].split(\".\")[0]\n",
        "    except:\n",
        "      return \"GENERAL AUDIO FILE\""
      ],
      "metadata": {
        "id": "okq9retJwZFB"
      },
      "execution_count": 74,
      "outputs": []
    },
    {
      "cell_type": "markdown",
      "source": [
        "## Default Function"
      ],
      "metadata": {
        "id": "BMGRvxvTqpfL"
      }
    },
    {
      "cell_type": "code",
      "source": [
        "CreateDirectory:Optional[FunctionInitial] = lambda path: os.mkdir(path) if not os.path.exists(path) else None\n",
        "DeleteDirectory:Optional[FunctionInitial] = lambda path: shutil.rmtree(path) if len(os.listdir(path)) >= 1 else None\n",
        "KeyControl:Optional[FunctionInitial] = lambda key: key.name.lower().replace(\" \",\"_\") if \" \" in key.name else key.name\n",
        "DeleteHTTP:Optional[FunctionInitial] = lambda site: site.replace(\"https://\",\"\").replace(\"http://\",\"\").rstrip()\n",
        "GlobalChecker:Optional[FunctionInitial] = lambda variable: str(variable) in globals()"
      ],
      "metadata": {
        "id": "9WMe8a9CVUyz"
      },
      "execution_count": 75,
      "outputs": []
    },
    {
      "cell_type": "code",
      "source": [
        "def StrToList(output:str)->list:\n",
        "  output = output.strip(\"][\").replace(\"'\",\"\")\n",
        "  output = output.strip('][').replace('\"','').replace(\"]\",\"\").replace(\"[\",\"\").replace(\"\\n\",\"\").rstrip().lstrip().split(\", \")\n",
        "  return output"
      ],
      "metadata": {
        "id": "N8in4jT0_UYy"
      },
      "execution_count": 76,
      "outputs": []
    },
    {
      "cell_type": "code",
      "source": [
        "def ExtendDirectoryList()->list:\n",
        "  emptyList = []\n",
        "  framePath = os.path.join(os.getcwd(),\"video_frame\")\n",
        "  audioPath = os.path.join(os.getcwd(),\"video_sound_output\")\n",
        "  if os.path.exists(framePath) and len(os.listdir(framePath)) > 1:\n",
        "    for base,_,files in os.walk(framePath):\n",
        "      for idx in files:\n",
        "        emptyList.append(os.path.join(base,idx))\n",
        "  if os.path.exists(audioPath) and len(os.listdir(audioPath)) >= 1:\n",
        "    for base,_,files in os.walk(audioPath):\n",
        "      for idx in files:\n",
        "        emptyList.append(os.path.join(base,idx))\n",
        "  return sorted(emptyList)"
      ],
      "metadata": {
        "id": "MwY-JmSAPR8M"
      },
      "execution_count": 77,
      "outputs": []
    },
    {
      "cell_type": "code",
      "source": [
        "def IsTerminated(message:Union[dict,ClassInitial])->bool:\n",
        "  if isinstance(message,dict):\n",
        "    message = message.get(\"content\")\n",
        "    if message is None:\n",
        "      return False\n",
        "    else:\n",
        "      return message.rstrip().endswith(\"TERMINATE\")"
      ],
      "metadata": {
        "id": "0Dpc_4a2qoEo"
      },
      "execution_count": 78,
      "outputs": []
    },
    {
      "cell_type": "code",
      "source": [
        "def PrintDecoder(func:ClassInitial)->Union[str,None]:\n",
        "  def Wrapper(*args,**kwargs)->Union[str,None]:\n",
        "    result = func(*args,**kwargs)\n",
        "    print(f\"[::FROM SYSTEM::] {str(result).upper()}\")\n",
        "    return result\n",
        "  return Wrapper"
      ],
      "metadata": {
        "id": "99gGX5Peq4me"
      },
      "execution_count": 79,
      "outputs": []
    },
    {
      "cell_type": "code",
      "source": [
        "def TimerDecoder(func:ClassInitial)->Union[str,None]:\n",
        "  def Wrapper(*args,**kwargs)->Union[str,None]:\n",
        "    before = time.time()\n",
        "    result = func(*args,**kwargs)\n",
        "    after = time.time()\n",
        "    difference = after-before\n",
        "    print(f\"[:: FROM SYSTEM::] EXECUTED IN {difference:.8f} SECONDS\")\n",
        "    return result\n",
        "  return Wrapper"
      ],
      "metadata": {
        "id": "M93j7X0BrUH8"
      },
      "execution_count": 80,
      "outputs": []
    },
    {
      "cell_type": "code",
      "source": [
        "class ErrorModule(ErrorInitial):\n",
        "  def __init__(self,errorType:ErrorInitial=NotImplementedError)->Optional[ClassInitial]:\n",
        "    self.error = errorType\n",
        "  def __str__(self)->str:\n",
        "    return \"ERROR MODULATION\"\n",
        "  def __len__(self)->int:\n",
        "    return 0\n",
        "  def __getstate__(self,message:Optional[str]=NotImplemented)->ErrorInitial:\n",
        "    return self.error(message)\n",
        "  def __call__(self,message:Optional[str]=NotImplemented)->ErrorInitial:\n",
        "    raise self.error(message)\n",
        "  def __repr__(self)->str:\n",
        "    return ErrorModule.__doc__\n",
        "  @property\n",
        "  def Default(self,message:Optional[str]=NotImplemented)->ErrorInitial:\n",
        "    raise self.error(message)\n",
        "  def Manuel(self,error:ErrorInitial,message:Optional[str])->ErrorInitial:\n",
        "    raise error(message)"
      ],
      "metadata": {
        "id": "JbwmwQfgrvPQ"
      },
      "execution_count": 81,
      "outputs": []
    },
    {
      "cell_type": "code",
      "source": [
        "errorEngine = ErrorModule()"
      ],
      "metadata": {
        "id": "3TqEyLG3slbK"
      },
      "execution_count": 82,
      "outputs": []
    },
    {
      "cell_type": "code",
      "source": [
        "class WriteTxt(FunctionInitial):\n",
        "  def __init__(self,path:str)->Optional[ClassInitial]:\n",
        "    self.__path = path\n",
        "    self.ops = None\n",
        "  def __str__(self)->str:\n",
        "    return \"WRITE TXT MODULATION\"\n",
        "  def __call__(self)->NullInitial:\n",
        "    return None\n",
        "  def __getstate__(self)->ErrorInitial:\n",
        "    errorEngine()\n",
        "  def __repr__(self)->str:\n",
        "    return WriteTxt.__doc__\n",
        "  def Active(self,text:Union[str,bytes])->ProcessInitial:\n",
        "    if isinstance(text,bytes): text = text.decode()\n",
        "    return self.ops.write(str(text))\n",
        "  def __enter__(self)->ProcessInitial:\n",
        "    self.ops = open(self.__path,\"w\",encoding=\"utf-8\")\n",
        "    return self\n",
        "  def __exit__(self,ex:ClassInitial,eb:ClassInitial,et:ClassInitial)->ProcessInitial:\n",
        "    self.ops.close()"
      ],
      "metadata": {
        "id": "eFttVUsGssAS"
      },
      "execution_count": 83,
      "outputs": []
    },
    {
      "cell_type": "code",
      "source": [
        "class Credentials(FunctionInitial):\n",
        "  def __init__(self)->Optional[ClassInitial]:\n",
        "    self.__google = userdata.get(\"GOOGLE_API_KEY\")\n",
        "    self.__gemini = userdata.get(\"GEMINI_NEW_API\")\n",
        "    self.__hugging = userdata.get(\"HUGGINGFACEHUB_API_TOKEN\")\n",
        "    self.__openai = userdata.get(\"OPENAI_API_KEY\")\n",
        "    self.__cse = userdata.get(\"CSE_ID_KEY\")\n",
        "    self.__mapillary = userdata.get(\"MAPILLARY_TOKEN\")\n",
        "  def __str__(self)->str:\n",
        "    return \"CREDENTIALS MODULATION\"\n",
        "  @TimerDecoder\n",
        "  def __call__(self)->ProcessInitial:\n",
        "    os.environ[\"OPENAI_API_KEY\"] = self.__openai\n",
        "    os.environ[\"GEMINI_API_KEY\"] = self.__gemini\n",
        "    os.environ[\"GOOGLE_API_KEY\"] = self.__google\n",
        "    os.environ[\"GOOGLE_CSE_ID\"] = self.__cse\n",
        "    os.environ[\"HUGGINGFACEHUB_API_TOKEN\"] = self.__hugging\n",
        "    self.HuggingFaceLogin()\n",
        "    self.MapKey()\n",
        "    print(\"[:: FROM SYSTEM::] CREDENTIALS HAS BEEN DEFINED\")\n",
        "  def __getstate__(self)->ErrorInitial:\n",
        "    errorEngine()\n",
        "  def __len__(self)->int:\n",
        "    return 0\n",
        "  def __repr__(self)->str:\n",
        "    return Credentials.__doc__\n",
        "  def HuggingFaceLogin(self)->ProcessInitial:\n",
        "    if \"HUGGINGFACEHUB_API_TOKEN\" in os.environ:\n",
        "      globals()[\"HUGGING_KEY_LOGIN\"] = self.__hugging\n",
        "      !huggingface-cli login --token $HUGGING_KEY_LOGIN\n",
        "    else:\n",
        "      os.environ[\"HUGGINGFACEHUB_API_TOKEN\"] = self.__hugging\n",
        "      globals()[\"HUGGING_KEY_LOGIN\"] = self.__hugging\n",
        "      !huggingface-cli login --token $HUGGING_KEY_LOGIN\n",
        "  def MapKey(self)->ProcessInitial:\n",
        "    globals()[\"MAP_CLIENT_TOKEN\"] = self.__mapillary"
      ],
      "metadata": {
        "id": "yevndlvutNAn"
      },
      "execution_count": 84,
      "outputs": []
    },
    {
      "cell_type": "code",
      "source": [
        "credentialEngine = Credentials()\n",
        "credentialEngine()"
      ],
      "metadata": {
        "colab": {
          "base_uri": "https://localhost:8080/"
        },
        "id": "eqv4S-CWt5wG",
        "outputId": "5d7a3f44-1fc6-4991-9bea-9b9e972f1529"
      },
      "execution_count": 85,
      "outputs": [
        {
          "output_type": "stream",
          "name": "stdout",
          "text": [
            "Token will not been saved to git credential helper. Pass `add_to_git_credential=True` if you want to set the git credential as well.\n",
            "Token is valid (permission: read).\n",
            "Your token has been saved to /root/.cache/huggingface/token\n",
            "Login successful\n",
            "[:: FROM SYSTEM::] CREDENTIALS HAS BEEN DEFINED\n",
            "[:: FROM SYSTEM::] EXECUTED IN 0.80876803 SECONDS\n"
          ]
        }
      ]
    },
    {
      "cell_type": "markdown",
      "source": [
        "## Default Requirements"
      ],
      "metadata": {
        "id": "ouNeUcRrvaIF"
      }
    },
    {
      "cell_type": "code",
      "source": [
        "safety:list = [\n",
        "    {\n",
        "        \"category\":\"HARM_CATEGORY_HARASSMENT\",\n",
        "        \"threshold\":\"BLOCK_NONE\"\n",
        "    },\n",
        "    {\n",
        "        \"category\":\"HARM_CATEGORY_HATE_SPEECH\",\n",
        "        \"threshold\":\"BLOCK_NONE\"\n",
        "    },\n",
        "    {\n",
        "        \"category\":\"HARM_CATEGORY_SEXUALLY_EXPLICIT\",\n",
        "        \"threshold\":\"BLOCK_NONE\"\n",
        "    },\n",
        "    {\n",
        "        \"category\":\"HARM_CATEGORY_DANGEROUS_CONTENT\",\n",
        "        \"threshold\":\"BLOCK_NONE\"\n",
        "    }\n",
        "]"
      ],
      "metadata": {
        "id": "fDr7h9_MvQJT"
      },
      "execution_count": 86,
      "outputs": []
    },
    {
      "cell_type": "code",
      "source": [
        "parameters:dict = {\n",
        "    \"temperature\":0.2,\n",
        "    \"top_k\":1,\n",
        "    \"max_output_tokens\":4096,\n",
        "    \"candidate_count\":1\n",
        "}"
      ],
      "metadata": {
        "id": "VfitCFVZvdzL"
      },
      "execution_count": 87,
      "outputs": []
    },
    {
      "cell_type": "code",
      "source": [
        "configuration:list = [\n",
        "    {\n",
        "        \"model\":\"gpt-4-1106-preview\",\n",
        "        \"api_key\":os.environ.get(\"OPENAI_API_KEY\")\n",
        "    },\n",
        "    {\n",
        "        \"model\":\"gpt-4-vision-preview\",\n",
        "        \"api_key\":os.environ.get(\"OPENAI_API_KEY\")\n",
        "    },\n",
        "    {\n",
        "        \"model\":\"dalle\",\n",
        "        \"api_key\":os.environ.get(\"OPENAI_API_KEY\")\n",
        "    },\n",
        "    {\n",
        "        \"model\": \"gemini-pro\",\n",
        "        \"api_key\": os.environ.get(\"GEMINI_API_KEY\")\n",
        "    },\n",
        "    {\n",
        "        \"model\": \"gemini-pro-vision\",\n",
        "        \"api_key\": os.environ.get(\"GEMINI_API_KEY\")\n",
        "    },\n",
        "    {\n",
        "        \"model\": \"gemini-1.5-pro-latest\",\n",
        "        \"api_key\": os.environ.get(\"GEMINI_API_KEY\")\n",
        "    }\n",
        "]"
      ],
      "metadata": {
        "id": "_wwC_gNoviMw"
      },
      "execution_count": 88,
      "outputs": []
    },
    {
      "cell_type": "markdown",
      "source": [
        "# Gathering Modulation"
      ],
      "metadata": {
        "id": "gJSCN8rsv12e"
      }
    },
    {
      "cell_type": "markdown",
      "source": [
        "## Google Search"
      ],
      "metadata": {
        "id": "5XLyqEKRv4KE"
      }
    },
    {
      "cell_type": "code",
      "source": [
        "class GoogleSearch(object):\n",
        "  def __init__(self)->Optional[ClassInitial]:\n",
        "    self.similarity = 1\n",
        "    self.power = 1\n",
        "    self.wrapper = GoogleSearchAPIWrapper(k=self.similarity,siterestrict=False)\n",
        "  def __str__(self)->str:\n",
        "    return \"GOOGLE SEARCH MODULATION\"\n",
        "  def __call__(self)->NullInitial:\n",
        "    return None\n",
        "  def __len__(self)->int:\n",
        "    return 0\n",
        "  def __repr__(self)->str:\n",
        "    return GoogleSearch.__doc__\n",
        "  def __getstate__(self)->ErrorInitial:\n",
        "    errorEngine()\n",
        "  @TimerDecoder\n",
        "  def Query(self,topic:str,sites:Union[list,str]=None)->tuple:\n",
        "    content = \"\"\n",
        "    links = []\n",
        "    if sites is not None:\n",
        "      queryList = []\n",
        "      if isinstance(sites,str):\n",
        "        sites = [sites]\n",
        "      for site in sites:\n",
        "        query = f\"site: {DeleteHTTP(str(site).lower()).lstrip().rstrip()} '{topic}'\"\n",
        "        queryList.append(query)\n",
        "      for q in queryList:\n",
        "        result = self.wrapper.results(query=q,num_results=self.power)\n",
        "        if (result is not None) and (len(result) > 0):\n",
        "          try:\n",
        "            for idx in range(len(result)):\n",
        "              data = result[idx]\n",
        "              print(data)\n",
        "              content += (\n",
        "                  f\"Title: {data['title']}\\n\"\n",
        "                  f\"Description: {data['snippet']}\\n\"\n",
        "              )\n",
        "              links.append(data[\"link\"])\n",
        "          except:\n",
        "            pass\n",
        "        else:\n",
        "          pass\n",
        "        return content,links\n",
        "    else:\n",
        "      result = self.wrapper.results(query=str(topic),num_results=self.power)\n",
        "      if (result is not None) and (len(result) > 0):\n",
        "        try:\n",
        "          for idx in range(len(result)):\n",
        "            data = result[idx]\n",
        "            content += (\n",
        "                f\"Title: {data['title']}\\n\"\n",
        "                f\"Description: {data['snippet']}\\n\"\n",
        "            )\n",
        "            links.append(data[\"link\"])\n",
        "        except:\n",
        "          pass\n",
        "      else:\n",
        "        pass\n",
        "      return content,links"
      ],
      "metadata": {
        "id": "w2PntQPvvmMZ"
      },
      "execution_count": 89,
      "outputs": []
    },
    {
      "cell_type": "code",
      "source": [
        "gSearch = GoogleSearch()"
      ],
      "metadata": {
        "id": "1hRCoeIfQ3Jh"
      },
      "execution_count": 90,
      "outputs": []
    },
    {
      "cell_type": "markdown",
      "source": [
        "- Test Option:\n",
        "\n",
        "```\n",
        "gSearch.power = 3\n",
        "cnt,lnk = gSearch.Query(\"Nikola Tesla\",sites=[\"wikipedia.com\",\"seaworld.com\"])\n",
        "```"
      ],
      "metadata": {
        "id": "A2KDrh-QDTow"
      }
    },
    {
      "cell_type": "markdown",
      "source": [
        "## Wikipedia Search"
      ],
      "metadata": {
        "id": "EKwvSR7oOWqp"
      }
    },
    {
      "cell_type": "code",
      "source": [
        "class WikipediaSearch(object):\n",
        "  def __init__(self)->Optional[ClassInitial]:\n",
        "    self.power = 1\n",
        "  def __str__(self)->str:\n",
        "    return \"WIKIPEDIA SEARCH MODULATION\"\n",
        "  def __call__(self)->NullInitial:\n",
        "    return None\n",
        "  def __getstate__(self)->ErrorInitial:\n",
        "    errorEngine()\n",
        "  def __len__(self)->int:\n",
        "    return 0\n",
        "  def __repr__(self)->str:\n",
        "    return WikipediaSearch.__doc__\n",
        "  @TimerDecoder\n",
        "  def Query(self,topic:str,**load_kwargs:Any)->tuple:\n",
        "    content = \"\"\n",
        "    links = []\n",
        "    result = wpp.search(\n",
        "        str(topic),\n",
        "        results=self.power\n",
        "    )\n",
        "    if (result is not None) and (len(result) > 0):\n",
        "      for idx in range(len(result)):\n",
        "        try:\n",
        "          base = wpp.page(str(idx),**load_kwargs)\n",
        "          content += (\n",
        "              f\"Title: {base.title}\\n\"\n",
        "              f\"Description: {base.content}\\n\"\n",
        "          )\n",
        "          links.append(base.url)\n",
        "        except:\n",
        "          pass\n",
        "    else:\n",
        "      pass\n",
        "    return content,links"
      ],
      "metadata": {
        "id": "4Cejh0t_OOkR"
      },
      "execution_count": 91,
      "outputs": []
    },
    {
      "cell_type": "code",
      "source": [
        "wSearch = WikipediaSearch()"
      ],
      "metadata": {
        "id": "h6X5PzU2Qq3L"
      },
      "execution_count": 92,
      "outputs": []
    },
    {
      "cell_type": "markdown",
      "source": [
        "## News Search"
      ],
      "metadata": {
        "id": "USgyJKI4RhQB"
      }
    },
    {
      "cell_type": "code",
      "source": [
        "class NewsSearch(object):\n",
        "  def __init__(self)->Optional[ClassInitial]:\n",
        "    self.nlp = True\n",
        "    if self.nlp:\n",
        "      import nltk\n",
        "      try:\n",
        "        nltk.download(\"punkt\")\n",
        "      except:\n",
        "        pass\n",
        "      self.optimization = dict(\n",
        "          text_mode=True,\n",
        "          continue_on_failure=True,\n",
        "          show_progress_bar=False,\n",
        "          nlp=True\n",
        "      )\n",
        "    else:\n",
        "      self.optimization = dict(\n",
        "          text_mode=True,\n",
        "          continue_on_failure=True,\n",
        "          show_progress_bar=False,\n",
        "          nlp=False\n",
        "      )\n",
        "  def __str__(self)->str:\n",
        "    return \"NEWS SEARCH MODULATION\"\n",
        "  def __call__(self)->NullInitial:\n",
        "    return None\n",
        "  def __getstate__(self)->ErrorInitial:\n",
        "    errorEngine()\n",
        "  def __len__(self)->int:\n",
        "    return 0\n",
        "  def Query(self,urls:Union[str,list])->str:\n",
        "    content = \"\"\n",
        "    if isinstance(urls,str):\n",
        "      urls = [urls]\n",
        "    self.optimization[\"urls\"] = urls\n",
        "    loader = NewsURLLoader(**self.optimization)\n",
        "    result = loader.load()\n",
        "    if (result is not None) and (len(result) > 0):\n",
        "      try:\n",
        "        for idx in range(len(result)):\n",
        "          data = result[idx]\n",
        "          try:\n",
        "            content += data.metadata[\"summary\"]\n",
        "          except:\n",
        "            content += data.metadata[\"description\"]\n",
        "      except:\n",
        "        pass\n",
        "    else:\n",
        "      pass\n",
        "    return content"
      ],
      "metadata": {
        "id": "l8vMleWFRKcI"
      },
      "execution_count": 93,
      "outputs": []
    },
    {
      "cell_type": "code",
      "source": [
        "nSearch = NewsSearch()"
      ],
      "metadata": {
        "colab": {
          "base_uri": "https://localhost:8080/"
        },
        "id": "oHWkC4D-T7z-",
        "outputId": "abfe8776-9285-485d-8ab0-072811f831ff"
      },
      "execution_count": 94,
      "outputs": [
        {
          "output_type": "stream",
          "name": "stderr",
          "text": [
            "[nltk_data] Downloading package punkt to /root/nltk_data...\n",
            "[nltk_data]   Package punkt is already up-to-date!\n"
          ]
        }
      ]
    },
    {
      "cell_type": "markdown",
      "source": [
        "- Test Option:\n",
        "\n",
        "```\n",
        "cnt,lnk = wSearch.Query(\"Nikola Tesla\")\n",
        "cntG,lnkG = gSearch.Query(\"Nikola Tesla\")\n",
        "lnk.extend(lnkG)\n",
        "cnt = nSearch.Query(lnk)\n",
        "```"
      ],
      "metadata": {
        "id": "eVbCQ4PLU0_n"
      }
    },
    {
      "cell_type": "markdown",
      "source": [
        "## Audio Extraction"
      ],
      "metadata": {
        "id": "vAEDWHE6VLIN"
      }
    },
    {
      "cell_type": "code",
      "source": [
        "class AudioExtraction(object):\n",
        "  def __init__(self)->Optional[ClassInitial]:\n",
        "    CreateDirectory(os.path.join(os.getcwd(),\"video_sound_output\"))\n",
        "    self.__path = os.path.join(os.getcwd(),\"video_sound_output\",\"sound_video_saved.mp3\")\n",
        "  def __str__(self)->str:\n",
        "    return \"AUDIO EXTRACTION MODULATION\"\n",
        "  def __call__(self)->NullInitial:\n",
        "    return None\n",
        "  def __getstate__(self)->ErrorInitial:\n",
        "    errorEngine()\n",
        "  def __repr__(self)->str:\n",
        "    return AudioExtraction.__doc__\n",
        "  def __len__(self)->int:\n",
        "    return 0\n",
        "  def GetAudio(self,videoPath:str)->Union[ProcessInitial,bool]:\n",
        "    if os.path.exists(str(videoPath)):\n",
        "      engine = mp.VideoFileClip(str(videoPath))\n",
        "      try:\n",
        "        audio = engine.audio\n",
        "        audio.write_audiofile(self.__path)\n",
        "        return True\n",
        "      except:\n",
        "        return False\n",
        "    else:\n",
        "      return False\n"
      ],
      "metadata": {
        "id": "zktg17EfUrg8"
      },
      "execution_count": 95,
      "outputs": []
    },
    {
      "cell_type": "code",
      "source": [
        "audioEngine = AudioExtraction()"
      ],
      "metadata": {
        "id": "EH4SVZM0Xut3"
      },
      "execution_count": 96,
      "outputs": []
    },
    {
      "cell_type": "markdown",
      "source": [
        "- Test Option:\n",
        "\n",
        "```\n",
        "isAudioSaved = audioEngine.GetAudio(\"/content/Defining_The_State_Of_The_World.mp4\")\n",
        "```"
      ],
      "metadata": {
        "id": "ysYUH5IyX_OR"
      }
    },
    {
      "cell_type": "markdown",
      "source": [
        "## Video Extraction"
      ],
      "metadata": {
        "id": "dwawACRuJsWS"
      }
    },
    {
      "cell_type": "code",
      "source": [
        "class VideoExtraction(object):\n",
        "  def __init__(self)->ClassInitial:\n",
        "    self.__path = os.path.join(os.getcwd(),\"video_frame\")\n",
        "  def __str__(self)->str:\n",
        "    return \"VIDEO EXTRACTION MODULATION\"\n",
        "  def __call__(self)->NullInitial:\n",
        "    return None\n",
        "  def __getstate__(self)->ErrorInitial:\n",
        "    errorEngine()\n",
        "  def __len__(self)->int:\n",
        "    return 0\n",
        "  def __repr__(self)->str:\n",
        "    return VideoExtraction.__doc__\n",
        "  @TimerDecoder\n",
        "  def GetFrames(self,video:str)->Union[bool,ProcessInitial]:\n",
        "    CreateDirectory(os.path.join(os.getcwd(),\"video_frame\"))\n",
        "    if os.path.exists(str(video)):\n",
        "      cap = cv.VideoCapture(str(video))\n",
        "      fps = cap.get(cv.CAP_PROP_FPS)\n",
        "      duration = 1/fps\n",
        "      prefix = os.path.basename(str(video)).replace(\".\",\"_\")\n",
        "      frameCount = 0\n",
        "      count = 0\n",
        "      while (cap.isOpened()):\n",
        "        s,frame = cap.read()\n",
        "        if not s:\n",
        "          break\n",
        "        if int(count/fps) == frameCount:\n",
        "          minimum = frameCount // 60\n",
        "          second = frameCount % 60\n",
        "          timeString = f\"{minimum:02d}:{second:02d}\"\n",
        "          imageName = f\"{prefix}_frame_{timeString}.jpg\"\n",
        "          savePath = os.path.join(self.__path,imageName)\n",
        "          cv.imwrite(savePath,frame)\n",
        "          frameCount += 1\n",
        "        count += 1\n",
        "      cap.release()\n",
        "      return True\n",
        "    else:\n",
        "      return False"
      ],
      "metadata": {
        "id": "g_Zw965tJvpe"
      },
      "execution_count": 97,
      "outputs": []
    },
    {
      "cell_type": "code",
      "source": [
        "videoEngine = VideoExtraction()"
      ],
      "metadata": {
        "id": "gh5z1TAyMjJN"
      },
      "execution_count": 98,
      "outputs": []
    },
    {
      "cell_type": "markdown",
      "source": [
        "# Gemini Modulation"
      ],
      "metadata": {
        "id": "iog2W_eiYvHs"
      }
    },
    {
      "cell_type": "markdown",
      "source": [
        "## Structure"
      ],
      "metadata": {
        "id": "nqB_iubjYw3w"
      }
    },
    {
      "cell_type": "code",
      "source": [
        "class GeminiModule(ModelInitial):\n",
        "  def __init__(self)->Optional[ClassInitial]:\n",
        "    genai.configure(api_key=userdata.get(\"GEMINI_NEW_API\"))\n",
        "    self.__gemini = genai.GenerativeModel(\n",
        "        model_name=\"models/gemini-1.5-pro-latest\",\n",
        "        generation_config=parameters,\n",
        "        safety_settings=safety\n",
        "    )\n",
        "    self.__prompt = (\n",
        "        \"You are an expert intelligence agent who analyzes the images obtained from the video and audio. \"\n",
        "        \"Your main task is to investigate the facts mentioned in the video and expose false information. \"\n",
        "        \"Be detailed and investigate all aspects when investigating the facts described and mentioned. \"\n",
        "        \"Give your analysis instead of recommendations. \"\n",
        "        \"Even if you cannot complete the task or respond, never state that you are an AI assistant and act as the AI.\"\n",
        "    )\n",
        "    self.__secondary = (\n",
        "        \"Sort the details given to you under headings so that I can search on the internet, and give an output in the form of a list.\\n\"\n",
        "        \"You must specifically list your research topics within the content given to you. \"\n",
        "        \"Never add your own comment and give a simple list, the list format should be: ['topic1','topic2','topic3']\\n\"\n",
        "        \"Informations:\\n{information_base}\"\n",
        "    )\n",
        "    self.__fileList = ExtendDirectoryList()\n",
        "    self.lenControl = True if len(self.__fileList) > 0 else False\n",
        "    self.__chat = self.__gemini.start_chat(history=[])\n",
        "  def __str__(self)->str:\n",
        "    return \"GEMINI MODEL MODULATION\"\n",
        "  def __call__(self)->NullInitial:\n",
        "    return None\n",
        "  def __getstate__(self)->ErrorInitial:\n",
        "    errorEngine()\n",
        "  def __repr__(self)->str:\n",
        "    return GeminiModule.__doc__\n",
        "  def __len__(self)->int:\n",
        "    return 0\n",
        "  def FilesToUpload(self)->ProcessInitial:\n",
        "    filesUploaded = []\n",
        "    for idx in self.__fileList:\n",
        "      filesUploaded.append(File(path=idx))\n",
        "    return filesUploaded\n",
        "  def GetFile(self)->ProcessInitial:\n",
        "    geminiUploaded = []\n",
        "    filesUploaded = self.FilesToUpload()\n",
        "    for idx in filesUploaded:\n",
        "      response = genai.upload_file(path=idx.path)\n",
        "      idx.FileResponse(response)\n",
        "      geminiUploaded.append(idx)\n",
        "    print(f\"[:: FROM SYSTEM::] MODEL FILES HAVE BEEN UPLOADED - TOTAL: {len(geminiUploaded)}\")\n",
        "    return geminiUploaded\n",
        "  def CreateRequest(self)->Union[tuple,ProcessInitial]:\n",
        "    request = [self.__prompt]\n",
        "    geminiUploaded = self.GetFile()\n",
        "    for idx in geminiUploaded:\n",
        "      request.append(idx.response)\n",
        "      request.append(idx.timestep)\n",
        "    return request,geminiUploaded\n",
        "  def Response(self)->ProcessInitial:\n",
        "    if self.lenControl:\n",
        "      request,geminiUploaded = self.CreateRequest()\n",
        "      response = self.__gemini.generate_content(\n",
        "          request,\n",
        "          request_options={\"timeout\":600}\n",
        "      )\n",
        "      if response is not None:\n",
        "        try:\n",
        "          response.resolve()\n",
        "          if len(response.parts) > 0:\n",
        "            output = response.text\n",
        "            self.__secondary = self.__secondary.format(information_base=output)\n",
        "            topics = self.__chat.send_message(self.__secondary)\n",
        "          else:\n",
        "            output = \"[:: FROM MODEL::] NO RESPONSE FROM MODEL\"\n",
        "        except:\n",
        "          if len(response.parts) > 0:\n",
        "            output = response.text\n",
        "            self.__secondary = self.__secondary.format(information_base=output)\n",
        "            topics = self.__chat.send_message(self.__secondary)\n",
        "          else:\n",
        "            output = \"[:: FROM MODEL::] NO RESPONSE FROM MODEL\"\n",
        "        try:\n",
        "          for idx in geminiUploaded:\n",
        "            genai.delete_file(idx.response.name)\n",
        "        except:\n",
        "          pass\n",
        "        if os.path.exists(os.path.join(os.getcwd(),\"video_frame\")):\n",
        "          DeleteDirectory(os.path.join(os.getcwd(),\"video_frame\"))\n",
        "        if os.path.exists(os.path.join(os.getcwd(),\"video_sound_output\")):\n",
        "          DeleteDirectory(os.path.join(os.getcwd(),\"video_sound_output\"))\n",
        "      else:\n",
        "        output = \"[:: FROM MODEL::] NO RESPONSE FROM MODEL\"\n",
        "      return output,topics\n",
        "    else:\n",
        "      return \"[:: FROM SYSTEM::] NO FILES TO UPLOAD\",\"[:: FROM SYSTEM::] NO TOPIC TO SEARCH\""
      ],
      "metadata": {
        "id": "gpQGXpyfXzL-"
      },
      "execution_count": 99,
      "outputs": []
    },
    {
      "cell_type": "markdown",
      "source": [
        "- Test Option:\n",
        "\n",
        "```\n",
        "isFrameSaved = videoEngine.GetFrames(\"/content/Defining_The_State_Of_The_World.mp4\")\n",
        "isAudioSaved = audioEngine.GetAudio(\"/content/Defining_The_State_Of_The_World.mp4\")\n",
        "\n",
        "geminiModel = GeminiModule()\n",
        "output = geminiModel.Response()\n",
        "output,topics = geminiModel.Response()\n",
        "print(output)\n",
        "print(topics)\n",
        "```"
      ],
      "metadata": {
        "id": "c8_UPvuZef1E"
      }
    },
    {
      "cell_type": "markdown",
      "source": [
        "# Main Operation"
      ],
      "metadata": {
        "id": "V9M1J44m9cqB"
      }
    },
    {
      "cell_type": "markdown",
      "source": [
        "## Structure"
      ],
      "metadata": {
        "id": "1RR7UJKs9ffO"
      }
    },
    {
      "cell_type": "code",
      "source": [
        "class MainOperation(object):\n",
        "  def __init__(self,video:str)->Optional[ClassInitial]:\n",
        "    self.__path = video\n",
        "    self.isFrameSaved = videoEngine.GetFrames(str(video))\n",
        "    self.isAudioSaved = audioEngine.GetAudio(str(video))\n",
        "    self.__gemini = GeminiModule()\n",
        "  def __str__(self)->str:\n",
        "    return \"MAIN OPERATION MODULATION\"\n",
        "  def __call__(self)->NullInitial:\n",
        "    return None\n",
        "  def __getstate__(self)->ErrorInitial:\n",
        "    errorEngine()\n",
        "  def __len__(self)->int:\n",
        "    return 0\n",
        "  def __repr__(self)->str:\n",
        "    return MainOperation.__doc__\n",
        "  @TimerDecoder\n",
        "  def Launch(self,searchPower:int=None)->Union[str,ProcessInitial]:\n",
        "    content = \"\\nSEARCH RESULTS:\\n\"\n",
        "    links = []\n",
        "    if self.isFrameSaved and self.isAudioSaved:\n",
        "      output,topics = self.__gemini.Response()\n",
        "      topicList = StrToList(topics.text)\n",
        "      print(f\"[:: FROM SYSTEM::] TOPICS TO SEARCH:\\n{topicList}\\n\")\n",
        "      for idx in topicList:\n",
        "        if searchPower is not None:\n",
        "          gSearch.power = int(searchPower)\n",
        "          wSearch.power = int(searchPower)\n",
        "        cntG,lnkG = gSearch.Query(str(idx))\n",
        "        cntW,lnkW = wSearch.Query(str(idx))\n",
        "        content += cntG+\"\\n\"\n",
        "        content += cntW+\"\\n\"\n",
        "        links.extend(lnkG)\n",
        "        links.extend(lnkW)\n",
        "      newsSearch = nSearch.Query(links)\n",
        "      content += \"\\nNEWS RESULT\\n\"\n",
        "      content += newsSearch+\"\\n\"\n",
        "      content += \"\\nINVESTIGATION RESULT\\n\"\n",
        "      content += output+\"\\n\"\n",
        "      return content\n",
        "    else:\n",
        "      return \"[:: FROM SYSTEM::] NO FILES TO INVESTIGATE\""
      ],
      "metadata": {
        "id": "d-51ZN8Iln24"
      },
      "execution_count": 100,
      "outputs": []
    },
    {
      "cell_type": "markdown",
      "source": [
        "- Test Option:\n",
        "\n",
        "```\n",
        "operation = MainOperation(video=\"/content/Defining_The_State_Of_The_World.mp4\")\n",
        "content = operation.Launch()\n",
        "print(content)\n",
        "```"
      ],
      "metadata": {
        "id": "EHgg1uLDHQVi"
      }
    },
    {
      "cell_type": "markdown",
      "source": [
        "# Tool Configuration"
      ],
      "metadata": {
        "id": "RGelim7FLFr7"
      }
    },
    {
      "cell_type": "markdown",
      "source": [
        "## Inputs"
      ],
      "metadata": {
        "id": "3YXNUnL8LHIt"
      }
    },
    {
      "cell_type": "code",
      "source": [
        "class OperationInput(BaseModel):\n",
        "  videoPath:Optional[str] = Field(description=\"User input for video path to analyze\")\n",
        "  searchPower:Optional[int] = Field(description=\"User input for search limit for the internet\")"
      ],
      "metadata": {
        "id": "lcqaAB0qDXdi"
      },
      "execution_count": 101,
      "outputs": []
    },
    {
      "cell_type": "markdown",
      "source": [
        "## Structure"
      ],
      "metadata": {
        "id": "BU0btyMxLVb7"
      }
    },
    {
      "cell_type": "code",
      "source": [
        "class OperationTool(BaseTool):\n",
        "  name = \"Video_Analysis_Intelligence_Tool\"\n",
        "  description = \"Use this tool to analyze videos, obtain critical information about video content and data for the video\"\n",
        "  args_schema = OperationInput\n",
        "  def _run(self,videoPath:Optional[str],searchPower:Optional[int]=1)->ProcessInitial:\n",
        "    print(f\"[:: FROM SYSTEM::] TARGET FILE: {str(videoPath)}\")\n",
        "    operation = MainOperation(video=str(videoPath))\n",
        "    content = operation.Launch(int(searchPower))\n",
        "    return content"
      ],
      "metadata": {
        "id": "dX1SV9joLU0Y"
      },
      "execution_count": 102,
      "outputs": []
    },
    {
      "cell_type": "code",
      "source": [
        "operationTool = OperationTool()"
      ],
      "metadata": {
        "id": "kuqw4p4CNOKa"
      },
      "execution_count": 103,
      "outputs": []
    },
    {
      "cell_type": "markdown",
      "source": [
        "# Agent & Proxy Process"
      ],
      "metadata": {
        "id": "p33Z8iWFMANT"
      }
    },
    {
      "cell_type": "markdown",
      "source": [
        "## Configuration File"
      ],
      "metadata": {
        "id": "Qq6BDGAXMCPY"
      }
    },
    {
      "cell_type": "code",
      "source": [
        "systemConfiguration = dict()\n",
        "systemConfiguration[\"functions\"] = []\n",
        "systemConfiguration[\"config_list\"] = configuration\n",
        "systemConfiguration[\"timeout\"] = 600\n",
        "systemConfiguration[\"temperature\"] = 0.1"
      ],
      "metadata": {
        "id": "87QGNi9lL-YW"
      },
      "execution_count": 104,
      "outputs": []
    },
    {
      "cell_type": "markdown",
      "source": [
        "## Configuration Function"
      ],
      "metadata": {
        "id": "jdGUqywUMZt9"
      }
    },
    {
      "cell_type": "code",
      "source": [
        "def ToolDefine(baseTool:Union[ClassInitial,BaseTool])->dict:\n",
        "  schema:dict = {\n",
        "      \"name\":KeyControl(baseTool),\n",
        "      \"description\":baseTool.description,\n",
        "      \"parameters\":{\n",
        "          \"type\":\"object\",\n",
        "          \"properties\":{},\n",
        "          \"required\":[]\n",
        "      }\n",
        "  }\n",
        "  if baseTool.args is not None:\n",
        "    schema[\"parameters\"][\"properties\"] = baseTool.args\n",
        "  else:\n",
        "    pass\n",
        "  return schema"
      ],
      "metadata": {
        "id": "z6kE_aIzMYkw"
      },
      "execution_count": 105,
      "outputs": []
    },
    {
      "cell_type": "code",
      "source": [
        "def ConfigurationSetup(configurationFile:dict,baseTool:Union[ClassInitial,BaseTool])->dict:\n",
        "  configurationFile[\"functions\"].append(ToolDefine(baseTool))"
      ],
      "metadata": {
        "id": "cfBb02EBM6wq"
      },
      "execution_count": 106,
      "outputs": []
    },
    {
      "cell_type": "code",
      "source": [
        "ConfigurationSetup(systemConfiguration,operationTool)"
      ],
      "metadata": {
        "id": "-EE505dpNLhO"
      },
      "execution_count": 107,
      "outputs": []
    },
    {
      "cell_type": "markdown",
      "source": [
        "## Proxy Define"
      ],
      "metadata": {
        "id": "5hmGxEqtNZ_b"
      }
    },
    {
      "cell_type": "code",
      "source": [
        "proxy = autogen.UserProxyAgent(\n",
        "    name=\"user_proxy\",\n",
        "    human_input_mode=\"NEVER\",\n",
        "    max_consecutive_auto_reply=15,\n",
        "    is_termination_msg=IsTerminated,\n",
        "    code_execution_config={\n",
        "        \"work_dir\":\"coding\",\n",
        "        \"use_docker\":False\n",
        "    }\n",
        ")"
      ],
      "metadata": {
        "id": "HyDJx-6JNXjE"
      },
      "execution_count": 108,
      "outputs": []
    },
    {
      "cell_type": "code",
      "source": [
        "proxy.register_function(\n",
        "    function_map={\n",
        "        operationTool.name:operationTool._run\n",
        "    }\n",
        ")"
      ],
      "metadata": {
        "id": "shsMd260Nw1v"
      },
      "execution_count": 109,
      "outputs": []
    },
    {
      "cell_type": "markdown",
      "source": [
        "## Assistant Define"
      ],
      "metadata": {
        "id": "X5MFX8b5N5Q0"
      }
    },
    {
      "cell_type": "code",
      "source": [
        "assistantSystem = (\n",
        "    \"You are an expert intelligence commentator who checks the validity of the intelligence information given to you. \"\n",
        "    \"Data is provided to you as a result of the information obtained from the video and research by returning to the video. \"\n",
        "    \"By looking at this data, investigate the accuracy of the information and analyze the information. \"\n",
        "    \"Prepare a comprehensive report as a result of your analysis and include all suspicious details in the video. \"\n",
        "    \"Especially highlight false information and tell the truth. \"\n",
        "    \"If there is a person speaking singularly in the video, examine her/his body language and speaking style and report it and add to report. \"\n",
        "    \"At the end of everything, give the total accuracy of the mentioned information in percentage. \"\n",
        "    \"Don't forget to use the tools defined for you to create the report. \"\n",
        "    \"Even when you can't answer, you never mention that it is an AI assistant and that it is an AI-based structure. \"\n",
        "    \"You don't leave your answers open-ended and you complete them. \"\n",
        "    \"If you have created the report completely, reply TERMINATE. \"\n",
        "    \"Otherwise, reply CONTINUE, or the reason why the task is not solved yet.\"\n",
        ")"
      ],
      "metadata": {
        "id": "fzB3CLqzN2mQ"
      },
      "execution_count": 110,
      "outputs": []
    },
    {
      "cell_type": "code",
      "source": [
        "agent = autogen.AssistantAgent(\n",
        "    name=\"assistant\",\n",
        "    system_message=assistantSystem,\n",
        "    llm_config=systemConfiguration\n",
        ")"
      ],
      "metadata": {
        "colab": {
          "base_uri": "https://localhost:8080/"
        },
        "id": "OXDhRSMkO5FH",
        "outputId": "00048e28-bebb-4aee-b587-9743c7391d6f"
      },
      "execution_count": 111,
      "outputs": [
        {
          "output_type": "stream",
          "name": "stdout",
          "text": [
            "[autogen.oai.client: 04-15 22:35:25] {122} WARNING - The API key specified is not a valid OpenAI format; it won't work with the OpenAI-hosted model.\n"
          ]
        },
        {
          "output_type": "stream",
          "name": "stderr",
          "text": [
            "WARNING:autogen.oai.client:The API key specified is not a valid OpenAI format; it won't work with the OpenAI-hosted model.\n"
          ]
        },
        {
          "output_type": "stream",
          "name": "stdout",
          "text": [
            "[autogen.oai.client: 04-15 22:35:25] {122} WARNING - The API key specified is not a valid OpenAI format; it won't work with the OpenAI-hosted model.\n"
          ]
        },
        {
          "output_type": "stream",
          "name": "stderr",
          "text": [
            "WARNING:autogen.oai.client:The API key specified is not a valid OpenAI format; it won't work with the OpenAI-hosted model.\n"
          ]
        },
        {
          "output_type": "stream",
          "name": "stdout",
          "text": [
            "[autogen.oai.client: 04-15 22:35:25] {122} WARNING - The API key specified is not a valid OpenAI format; it won't work with the OpenAI-hosted model.\n"
          ]
        },
        {
          "output_type": "stream",
          "name": "stderr",
          "text": [
            "WARNING:autogen.oai.client:The API key specified is not a valid OpenAI format; it won't work with the OpenAI-hosted model.\n"
          ]
        }
      ]
    },
    {
      "cell_type": "markdown",
      "source": [
        "## Response Callback"
      ],
      "metadata": {
        "id": "Uqj7LrCZPHCL"
      }
    },
    {
      "cell_type": "code",
      "source": [
        "def CallbackResponse(sender:ClassInitial,recipient:ClassInitial,context:Optional[dict])->str:\n",
        "  additionalInformation = context.get(\"additional_information\",\"None\")\n",
        "  targetVideo = context.get(\"target_video\",\"None\")\n",
        "  searchPower = context.get(\"search_power\",1)\n",
        "  endMessage = (\n",
        "      \"Reply TERMINATE if the task has been solved at full satisfaction. \"\n",
        "      \"Otherwise, reply CONTINUE, or the reason why the task is not solved yet.\"\n",
        "  )\n",
        "  command = (\n",
        "      \"You are an expert identification and personality profiling expert. \"\n",
        "      \"In a special intelligence unit, you analyze the video and information about video given to you using the tools defined for you and create details from which you can obtain intelligence. \"\n",
        "      \"Additional information was presented to you along with the data you obtained from the video. \"\n",
        "      \"You are responsible for creating as detailed a report as possible. \"\n",
        "      \"Never change the visual file location given to you. Don't create random file names. \"\n",
        "      \"Create a comprehensive report by combining the additional information below with the information you obtained from the video. \"\n",
        "      \"If there is a person speaking singularly in the video, examine her/his body language and speaking style and report it and add to report. \"\n",
        "      \"Even when you can't answer, you never mention that it is an AI assistant and that it is an AI-based structure. \"\n",
        "      \"You don't leave your answers open-ended and you complete them. \"\n",
        "      \"Especially highlight false information and tell the truth.\"\n",
        "  )\n",
        "  if additionalInformation != \"None\":\n",
        "    command += (\n",
        "        f\"\\nVideo Path: {targetVideo}\\n\"\n",
        "        f\"\\nSearch Power: {searchPower}\\n\"\n",
        "        \"\\nFocus on this detail requested from you while doing your research:\\n\"\n",
        "        f\"{additionalInformation}\\n\"\n",
        "    )\n",
        "  command += endMessage\n",
        "  return command\n"
      ],
      "metadata": {
        "id": "DnDhA0yIPDdY"
      },
      "execution_count": 112,
      "outputs": []
    },
    {
      "cell_type": "markdown",
      "source": [
        "# User Interaction"
      ],
      "metadata": {
        "id": "iuFe70rPQYuE"
      }
    },
    {
      "cell_type": "markdown",
      "source": [
        "## Inputs"
      ],
      "metadata": {
        "id": "m9MZ907ZS0cR"
      }
    },
    {
      "cell_type": "code",
      "source": [
        "additionalInformation = \"focus on the speaking techniques hitler used\" # @param {type:\"string\"}\n",
        "searchPower = 1 # @param {type:\"slider\", min:1, max:10, step:1}\n",
        "videoPath = \"/content/Adolf_Hitler_British.mp4\" # @param {type:\"string\"}"
      ],
      "metadata": {
        "id": "-KRFZSi9QX4-"
      },
      "execution_count": 113,
      "outputs": []
    },
    {
      "cell_type": "markdown",
      "source": [
        "## Launch"
      ],
      "metadata": {
        "id": "IWJFAzAcS1ff"
      }
    },
    {
      "cell_type": "code",
      "source": [
        "result = proxy.initiate_chat(\n",
        "    recipient=agent,\n",
        "    message=CallbackResponse,\n",
        "    clear_history=False,\n",
        "    handle_tool_error=True,\n",
        "    llm_config=systemConfiguration,\n",
        "    additional_information=additionalInformation,\n",
        "    target_video=videoPath,\n",
        "    search_power=searchPower\n",
        ")"
      ],
      "metadata": {
        "colab": {
          "base_uri": "https://localhost:8080/",
          "height": 1000
        },
        "id": "VxhkiszjQxHV",
        "outputId": "6f14ee65-6c04-4779-8d5e-e76465c592ec"
      },
      "execution_count": 114,
      "outputs": [
        {
          "output_type": "stream",
          "name": "stdout",
          "text": [
            "user_proxy (to assistant):\n",
            "\n",
            "You are an expert identification and personality profiling expert. In a special intelligence unit, you analyze the video and information about video given to you using the tools defined for you and create details from which you can obtain intelligence. Additional information was presented to you along with the data you obtained from the video. You are responsible for creating as detailed a report as possible. Never change the visual file location given to you. Don't create random file names. Create a comprehensive report by combining the additional information below with the information you obtained from the video. If there is a person speaking singularly in the video, examine her/his body language and speaking style and report it and add to report. Even when you can't answer, you never mention that it is an AI assistant and that it is an AI-based structure. You don't leave your answers open-ended and you complete them. Especially highlight false information and tell the truth.\n",
            "Video Path: /content/Adolf_Hitler_British.mp4\n",
            "\n",
            "Search Power: 1\n",
            "\n",
            "Focus on this detail requested from you while doing your research:\n",
            "focus on the speaking techniques hitler used\n",
            "Reply TERMINATE if the task has been solved at full satisfaction. Otherwise, reply CONTINUE, or the reason why the task is not solved yet.\n",
            "\n",
            "--------------------------------------------------------------------------------\n",
            "assistant (to user_proxy):\n",
            "\n",
            "***** Suggested function call: Video_Analysis_Intelligence_Tool *****\n",
            "Arguments: \n",
            "{\"videoPath\":\"/content/Adolf_Hitler_British.mp4\",\"searchPower\":1}\n",
            "*********************************************************************\n",
            "\n",
            "--------------------------------------------------------------------------------\n",
            "\n",
            ">>>>>>>> EXECUTING FUNCTION Video_Analysis_Intelligence_Tool...\n",
            "[:: FROM SYSTEM::] TARGET FILE: /content/Adolf_Hitler_British.mp4\n",
            "[:: FROM SYSTEM::] EXECUTED IN 1.97846770 SECONDS\n",
            "MoviePy - Writing audio in /content/video_sound_output/sound_video_saved.mp3\n"
          ]
        },
        {
          "output_type": "stream",
          "name": "stderr",
          "text": []
        },
        {
          "output_type": "stream",
          "name": "stdout",
          "text": [
            "MoviePy - Done.\n",
            "[:: FROM SYSTEM::] MODEL FILES HAVE BEEN UPLOADED - TOTAL: 28\n",
            "[:: FROM SYSTEM::] TOPICS TO SEARCH:\n",
            "['Adolf Hitler', 'Nazi Party', 'Nazi Germany', 'Propaganda in Nazi Germany', 'Treaty of Versailles', 'World War I']\n",
            "\n",
            "[:: FROM SYSTEM::] EXECUTED IN 0.54306149 SECONDS\n",
            "[:: FROM SYSTEM::] EXECUTED IN 0.54970479 SECONDS\n",
            "[:: FROM SYSTEM::] EXECUTED IN 0.44459915 SECONDS\n",
            "[:: FROM SYSTEM::] EXECUTED IN 0.55154991 SECONDS\n",
            "[:: FROM SYSTEM::] EXECUTED IN 0.28714371 SECONDS\n",
            "[:: FROM SYSTEM::] EXECUTED IN 0.99947214 SECONDS\n",
            "[:: FROM SYSTEM::] EXECUTED IN 0.28471947 SECONDS\n",
            "[:: FROM SYSTEM::] EXECUTED IN 1.19859004 SECONDS\n",
            "[:: FROM SYSTEM::] EXECUTED IN 0.30670786 SECONDS\n",
            "[:: FROM SYSTEM::] EXECUTED IN 0.53494215 SECONDS\n",
            "[:: FROM SYSTEM::] EXECUTED IN 0.41982388 SECONDS\n",
            "[:: FROM SYSTEM::] EXECUTED IN 1.25569272 SECONDS\n",
            "[:: FROM SYSTEM::] EXECUTED IN 109.70210338 SECONDS\n",
            "user_proxy (to assistant):\n",
            "\n",
            "***** Response from calling function (Video_Analysis_Intelligence_Tool) *****\n",
            "\n",
            "SEARCH RESULTS:\n",
            "Title: Adolf Hitler - Wikipedia\n",
            "Description: Hitler was born in Braunau am Inn in Austria-Hungary and was raised near Linz. He lived in Vienna later in the first decade of the 1900s before moving to ...\n",
            "\n",
            "Title: 0\n",
            "Description: 0 (zero) is a number representing an empty quantity. Adding 0 to any number leaves that number unchanged. In mathematical terminology, 0 is the additive identity of the integers, rational numbers, real numbers, and complex numbers, as well as other algebraic structures. Multiplying any number by 0 has the result 0, and consequently, division by zero has no meaning in arithmetic.\n",
            "As a numerical digit, 0 plays a crucial role in decimal notation: it indicates that the power of ten corresponding to the place containing a 0 does not contribute to the total. For example, \"205\" in decimal means two hundreds, no tens, and five ones. The same principle applies in place-value notations that uses a base other than ten, such as binary and hexadecimal. The modern use of 0 in this manner derives from Indian mathematics that was transmitted to Europe via medieval Islamic mathematicians and popularized by Fibonacci. It was independently used by the Maya.\n",
            "Common names for the number 0 in English include zero, nought, naught (), and nil. In contexts where at least one adjacent digit distinguishes it from the letter O, the number is sometimes pronounced as oh or o (). Informal or slang terms for 0 include zilch and zip. Historically, ought, aught (), and cipher have also been used.\n",
            "\n",
            "\n",
            "== Etymology ==\n",
            "\n",
            "The word zero came into the English language via French zéro from the Italian zero, a contraction of the Venetian zevero form of Italian zefiro via ṣafira or ṣifr. In pre-Islamic time the word ṣifr (Arabic صفر) had the meaning \"empty\". Sifr evolved to mean zero when it was used to translate śūnya (Sanskrit: शून्य) from India. The first known English use of zero was in 1598.The Italian mathematician Fibonacci (c. 1170 – c. 1250), who grew up in North Africa and is credited with introducing the decimal system to Europe, used the term zephyrum. This became zefiro in Italian, and was then contracted to zero in Venetian. The Italian word zefiro was already in existence (meaning \"west wind\" from Latin and Greek Zephyrus) and may have influenced the spelling when transcribing Arabic ṣifr.\n",
            "\n",
            "\n",
            "=== Modern usage ===\n",
            "Depending on the context, there may be different words used for the number zero, or the concept of zero. For the simple notion of lacking, the words \"nothing\" and \"none\" are often used. The British English words \"nought\" or \"naught\", and \"nil\" are also synonymous.It is often called \"oh\" in the context of reading out a string of digits, such as telephone numbers, street addresses, credit card numbers, military time, or years. For example, the area code 201 may be pronounced \"two oh one\", and the year 1907 is often pronounced \"nineteen oh seven\". The presence of other digits, indicating that the string contains only numbers, avoids confusion with the letter O. For this reason, systems that include strings with both letters and numbers (such as Canadian postal codes) may exclude the use of the letter O.Slang words for zero include \"zip\", \"zilch\", \"nada\", and \"scratch\".  In the context of sports, \"nil\" is sometimes used, especially in British English. Several sports have specific words for a score of zero, such as \"love\" in tennis – from French l'œuf, \"the egg\" – and \"duck\" in cricket, a shortening of \"duck's egg\". \"Goose egg\" is another general slang term used for zero.\n",
            "\n",
            "\n",
            "== History ==\n",
            "\n",
            "\n",
            "=== Ancient Near East ===\n",
            "Ancient Egyptian numerals were of base 10. They used hieroglyphs for the digits and were not positional. In one papyrus written around 1770 BC, a scribe recorded daily incomes and expenditures for the pharaoh's court, using the nfr hieroglyph to indicate cases where the amount of a foodstuff received was exactly equal to the amount disbursed. Egyptologist Alan Gardiner suggested that the nfr hieroglyph was being used as a symbol for zero. The same symbol was also used to indicate the base level in drawings of tombs and pyramids, and distances were measured relative to the base line as being above or below this line.By the middle of the 2nd millennium BC, Babylonian mathematics had a sophisticated base 60 positional numeral system. The lack of a positional value (or zero) was indicated by a space between sexagesimal numerals. In a tablet unearthed at Kish (dating to as early as 700 BC), the scribe Bêl-bân-aplu used three hooks as a placeholder in the same Babylonian system. By 300 BC, a punctuation symbol (two slanted wedges) was repurposed as a placeholder.The Babylonian positional numeral system differed from the later Hindu–Arabic system in that it did not explicitly specify the magnitude of the leading sexagesimal digit, so that for example the lone digit 1 () might represent any of 1, 60, 3600 = 602, etc., similar to the significand of a floating-point number but without an explicit exponent, and so only distinguished implicitly from context. The zero-like placeholder mark was only ever used in between digits, but never alone or at the end of a number.\n",
            "\n",
            "\n",
            "=== Pre-Columbian Americas ===\n",
            "The Mesoamerican Long Count calendar developed in south-central Mexico and Central America required the use of zero as a placeholder within its vigesimal (base-20) positional numeral system. Many different glyphs, including the partial quatrefoil were used as a zero symbol for these Long Count dates, the earliest of which (on Stela 2 at Chiapa de Corzo, Chiapas) has a date of 36 BC.Since the eight earliest Long Count dates appear outside the Maya homeland, it is generally believed that the use of zero in the Americas predated the Maya and was possibly the invention of the Olmecs. Many of the earliest Long Count dates were found within the Olmec heartland, although the Olmec civilization ended by the 4th century BC, several centuries before the earliest known Long Count dates.Although zero became an integral part of Maya numerals, with a different, empty tortoise-like \"shell shape\" used for many depictions of the \"zero\" numeral, it is assumed not to have influenced Old World numeral systems.Quipu, a knotted cord device, used in the Inca Empire and its predecessor societies in the Andean region to record accounting and other digital data, is encoded in a base ten positional system. Zero is represented by the absence of a knot in the appropriate position.\n",
            "\n",
            "\n",
            "=== Classical antiquity ===\n",
            "The ancient Greeks had no symbol for zero (μηδέν, pronounced 'midén'), and did not use a digit placeholder for it. According to mathematician Charles Seife, the ancient Greeks did begin to adopt the Babylonian placeholder zero for their work in astronomy after 500 BC, representing it with the lowercase Greek letter ό (όμικρον: omicron). However, after using the Babylonian placeholder zero for astronomical calculations they would typically convert the numbers back into Greek numerals. Greeks seemed to have a philosophical opposition to using zero as a number. Other scholars give the Greek partial adoption of the Babylonian zero a later date, with neuroscientist Andreas Nieder giving a date of after 400 BC and mathematician Robert Kaplan dating it after the conquests of Alexander.Greeks seemed unsure about the status of zero as a number. Some of them asked themselves, \"How can not being be?\", leading to philosophical and, by the medieval period, religious arguments about the nature and existence of zero and the vacuum. The paradoxes of Zeno of Elea depend in large part on the uncertain interpretation of zero.\n",
            "By AD 150, Ptolemy, influenced by Hipparchus and the Babylonians, was using a symbol for zero (—°) in his work on mathematical astronomy called the Syntaxis Mathematica, also known as the Almagest. This Hellenistic zero was perhaps the earliest documented use of a numeral representing zero in the Old World. Ptolemy used it many times in his Almagest (VI.8) for the magnitude of solar and lunar eclipses. It represented the value of both digits and minutes of immersion at first and last contact. Digits varied continuously from 0 to 12 to 0 as the Moon passed over the Sun (a triangular pulse), where twelve digits was the angular diameter of the Sun. Minutes of immersion was tabulated from 0′0″ to 31′20″ to 0′0″, where 0′0″ used the symbol as a placeholder in two positions of his sexagesimal positional numeral system, while the combination meant a zero angle. Minutes of immersion was also a continuous function 1/12 31′20″ √d(24−d) (a triangular pulse with convex sides), where d was the digit function and 31′20″ was the sum of the radii of the Sun's and Moon's discs. Ptolemy's symbol was a placeholder as well as a number used by two continuous mathematical functions, one within another, so it meant zero, not none.\n",
            "The earliest use of zero in the calculation of the Julian Easter occurred before AD 311, at the first entry in a table of epacts as preserved in an Ethiopic document for the years 311 to 369, using a Ge'ez word for \"none\" (English translation is \"0\" elsewhere) alongside Ge'ez numerals (based on Greek numerals), which was translated from an equivalent table published by the Church of Alexandria in Medieval Greek. This use was repeated in 525 in an equivalent table, that was translated via the Latin nulla (\"none\") by Dionysius Exiguus, alongside Roman numerals. When division produced zero as a remainder, nihil, meaning \"nothing\", was used. These medieval zeros were used by all future medieval calculators of Easter. The initial \"N\" was used as a zero symbol in a table of Roman numerals by Bede—or his colleagues—around AD 725.In most cultures, 0 was identified before the idea of negative things (i.e., quantities less than zero) was accepted.\n",
            "\n",
            "\n",
            "=== China ===\n",
            "The Sūnzĭ Suànjīng, of unknown date but estimated to be dated from the 1st to 5th centuries AD, and Japanese records dated from the 18th century, describe how the  4th century BC Chinese counting rods system enabled one to perform decimal calculations. As noted in the Xiahou Yang Suanjing (425–468 AD), to multiply or divide a number by 10, 100, 1000, or 10000, all one needs to do, with rods on the counting board, is to move them forwards, or back, by 1, 2, 3, or 4 places. According to A History of Mathematics, the rods \"gave the decimal representation of a number, with an empty space denoting zero\". The counting rod system is considered a positional notation system.Zero was not treated as a number at that time, but as a \"vacant position\". Qín Jiǔsháo's 1247 Mathematical Treatise in Nine Sections is the oldest surviving Chinese mathematical text using a round symbol 〇 for zero. The origin of this symbol is unknown; it may have been borrowed from Indian sources or produced by modifying a square symbol. Chinese authors had been familiar with the idea of negative numbers by the Han dynasty (2nd century AD), as seen in The Nine Chapters on the Mathematical Art.\n",
            "\n",
            "\n",
            "=== India ===\n",
            "Pingala (c. 3rd or 2nd century BC), a Sanskrit prosody scholar, used binary numbers in the form of short and long syllables (the latter equal in length to two short syllables), a notation similar to Morse code. Pingala used the Sanskrit word śūnya explicitly to refer to zero.The concept of zero as a written digit in the decimal place value notation was developed in India. A symbol for zero, a large dot likely to be the precursor of the still-current hollow symbol, is used throughout the Bakhshali manuscript, a practical manual on arithmetic for merchants. In 2017, three samples from the manuscript were shown by radiocarbon dating to come from three different centuries: from AD 224–383, AD 680–779, and AD 885–993, making it South Asia's oldest recorded use of the zero symbol. It is not known how the birch bark fragments from different centuries forming the manuscript came to be packaged together.The Lokavibhāga, a Jain text on cosmology surviving in a medieval Sanskrit translation of the Prakrit original, which is internally dated to AD 458 (Saka era 380), uses a decimal place-value system, including a zero. In this text, śūnya (\"void, empty\") is also used to refer to zero.The Aryabhatiya (c. 500), states sthānāt sthānaṁ daśaguṇaṁ syāt \"from place to place each is ten times the preceding\".Rules governing the use of zero appeared in Brahmagupta's Brahmasputha Siddhanta (7th century), which states the sum of zero with itself as zero, and incorrectly describes division by zero in the following way:\n",
            "A positive or negative number when divided by zero is a fraction with the zero as denominator. Zero divided by a negative or positive number is either zero or is expressed as a fraction with zero as numerator and the finite quantity as denominator. Zero divided by zero is zero.\n",
            "\n",
            "\n",
            "==== Epigraphy ====\n",
            "A black dot is used as a decimal placeholder in the Bakhshali manuscript, portions of which date from AD 224–993.There are numerous copper plate inscriptions, with the same small O in them, some of them possibly dated to the 6th century, but their date or authenticity may be open to doubt.A stone tablet found in the ruins of a temple near Sambor on the Mekong, Kratié Province, Cambodia, includes the inscription of \"605\" in Khmer numerals (a set of numeral glyphs for the Hindu–Arabic numeral system). The number is the year of the inscription in the Saka era, corresponding to a date of AD 683.The first known use of special glyphs for the decimal digits that includes the indubitable appearance of a symbol for the digit zero, a small circle, appears on a stone inscription found at the Chaturbhuj Temple, Gwalior, in India, dated 876.\n",
            "\n",
            "\n",
            "=== Middle Ages ===\n",
            "\n",
            "\n",
            "==== Transmission to Islamic culture ====\n",
            "\n",
            "The Arabic-language inheritance of science was largely Greek, followed by Hindu influences. In 773, at Al-Mansur's behest, translations were made of many ancient treatises including Greek, Roman, Indian, and others.\n",
            "In AD 813, astronomical tables were prepared by a Persian mathematician, Muḥammad ibn Mūsā al-Khwārizmī, using Hindu numerals; and about 825, he published a book synthesizing Greek and Hindu knowledge and also contained his own contribution to mathematics including an explanation of the use of zero. This book was later translated into Latin in the 12th century under the title Algoritmi de numero Indorum. This title means \"al-Khwarizmi on the Numerals of the Indians\". The word \"Algoritmi\" was the translator's Latinization of Al-Khwarizmi's name, and the word \"Algorithm\" or \"Algorism\" started to acquire a meaning of any arithmetic based on decimals.Muhammad ibn Ahmad al-Khwarizmi, in 976, stated that if no number appears in the place of tens in a calculation, a little circle should be used \"to keep the rows\". This circle was called ṣifr.\n",
            "\n",
            "\n",
            "==== Transmission to Europe ====\n",
            "The Hindu–Arabic numeral system (base 10) reached Western Europe in the 11th century, via Al-Andalus, through Spanish Muslims, the Moors, together with knowledge of classical astronomy and instruments like the astrolabe. Gerbert of Aurillac is credited with reintroducing the lost teachings into Catholic Europe. For this reason, the numerals came to be known in Europe as \"Arabic numerals\". The Italian mathematician Fibonacci or Leonardo of Pisa was instrumental in bringing the system into European mathematics in 1202, stating:\n",
            "\n",
            "After my father's appointment by his homeland as state official in the customs house of Bugia for the Pisan merchants who thronged to it, he took charge; and in view of its future usefulness and convenience, had me in my boyhood come to him and there wanted me to devote myself to and be instructed in the study of calculation for some days. There, following my introduction, as a consequence of marvelous instruction in the art, to the nine digits of the Hindus, the knowledge of the art very much appealed to me before all others, and for it I realized that all its aspects were studied in Egypt, Syria, Greece, Sicily, and Provence, with their varying methods; and at these places thereafter, while on business. I pursued my study in depth and learned the give-and-take of disputation. But all this even, and the algorism, as well as the art of Pythagoras, I considered as almost a mistake in respect to the method of the Hindus [Modus Indorum]. Therefore, embracing more stringently that method of the Hindus, and taking stricter pains in its study, while adding certain things from my own understanding and inserting also certain things from the niceties of Euclid's geometric art. I have striven to compose this book in its entirety as understandably as I could, dividing it into fifteen chapters. Almost everything which I have introduced I have displayed with exact proof, in order that those further seeking this knowledge, with its pre-eminent method, might be instructed, and further, in order that the Latin people might not be discovered to be without it, as they have been up to now. If I have perchance omitted anything more or less proper or necessary, I beg indulgence, since there is no one who is blameless and utterly provident in all things. The nine Indian figures are: 9 8 7 6 5 4 3 2 1. With these nine figures, and with the sign 0  ... any number may be written.\n",
            "From the 13th century, manuals on calculation (adding, multiplying, extracting roots, etc.) became common in Europe where they were called algorismus after the Persian mathematician al-Khwārizmī. One popular manual was written by Johannes de Sacrobosco in the early 1200s and was one of the earliest scientific books to be printed, in 1488. The practice of calculating on paper using Hindu–Arabic numerals only gradually displaced calculation by abacus and recording with Roman numerals. In the 16th century, Hindu–Arabic numerals became the predominant numerals used in Europe.\n",
            "\n",
            "\n",
            "== Symbols and representations ==\n",
            "\n",
            "Today, the numerical digit 0 is usually written as a circle or ellipse. Traditionally, many print typefaces made the capital letter O more rounded than the narrower, elliptical digit 0. Typewriters originally made no distinction in shape between O and 0; some models did not even have a separate key for the digit 0. The distinction came into prominence on modern character displays.A slashed zero (0/{\\displaystyle 0\\!\\!\\!{/}}) is often used to distinguish the number from the letter (mostly in computing, navigation and in the military, for example). The digit 0 with a dot in the center seems to have originated as an option on IBM 3270 displays and has continued with some modern computer typefaces such as Andalé Mono, and in some airline reservation systems. One variation uses a short vertical bar instead of the dot. Some fonts designed for use with computers made one of the capital-O–digit-0 pair more rounded and the other more angular (closer to a rectangle). A further distinction is made in falsification-hindering typeface as used on German car number plates by slitting open the digit 0 on the upper right side. In some systems either the letter O or the numeral 0, or both, are excluded from use, to avoid confusion.\n",
            "\n",
            "\n",
            "== Mathematics ==\n",
            "\n",
            "The concept of zero plays multiple roles in mathematics: as a digit, it is an important part of positional notation for representing numbers, while it also plays an important role as a number in its own right in many algebraic settings.\n",
            "\n",
            "\n",
            "=== As a digit ===\n",
            "\n",
            "In positional number systems (such as the usual decimal notation for representing numbers), the digit 0 plays the role of a placeholder, indicating that certain powers of the base do not contribute.  For example, the decimal number 205 is the sum of two hundreds and five ones, with the 0 digit indicating that no tens are added.  The digit plays the same role in decimal fractions and in the decimal representation of other real numbers (indicating whether any tenths, hundredths, thousandths, etc., are present) and in bases other than 10 (for example, in binary, where it indicates which powers of 2 are omitted).\n",
            "\n",
            "\n",
            "=== Elementary algebra ===\n",
            "The number 0 is the smallest nonnegative integer, and the largest nonpositive integer. The natural number following 0 is 1 and no natural number precedes 0. The number 0 may or may not be considered a natural number, but it is an integer, and hence a rational number and a real number. All rational numbers are algebraic numbers, including 0. When the real numbers are extended to form the complex numbers, 0 becomes the origin of the complex plane.\n",
            "The number 0 can be regarded as neither positive nor negative or, alternatively, both positive and negative and is usually displayed as the central number in a number line. Zero is even (that is, a multiple of 2), and is also an integer multiple of any other integer, rational, or real number. It is neither a prime number nor a composite number: it is not prime because prime numbers are greater than 1 by definition, and it is not composite because it cannot be expressed as the product of two smaller natural numbers. (However, the singleton set {0} is a prime ideal in the ring of the integers.)\n",
            "The following are some basic rules for dealing with the number 0. These rules apply for any real or complex number x, unless otherwise stated.\n",
            "\n",
            "Addition: x + 0 = 0 + x = x. That is, 0 is an identity element (or neutral element) with respect to addition.\n",
            "Subtraction: x − 0 = x and 0 − x = −x.\n",
            "Multiplication: x · 0 = 0 · x = 0.\n",
            "Division: 0/x = 0, for nonzero x. But x/0 is undefined, because 0 has no multiplicative inverse (no real number multiplied by 0 produces 1), a consequence of the previous rule.\n",
            "Exponentiation: x0 = x/x = 1, except that the case x = 0 is considered undefined in some contexts. For all positive real x, 0x = 0.The expression 0/0, which may be obtained in an attempt to determine the limit of an expression of the form f(x)/g(x) as a result of applying the lim operator independently to both operands of the fraction, is a so-called \"indeterminate form\". That does not mean that the limit sought is necessarily undefined; rather, it means that the limit of f(x)/g(x), if it exists, must be found by another method, such as l'Hôpital's rule.The sum of 0 numbers (the empty sum) is 0, and the product of 0 numbers (the empty product) is 1. The factorial 0! evaluates to 1, as a special case of the empty product.\n",
            "\n",
            "\n",
            "=== Other uses in mathematics ===\n",
            "The role of 0 as the smallest counting number can be generalized or extended in various ways.  In set theory, 0 is the cardinality of the empty set: if one does not have any apples, then one has 0 apples. In fact, in certain axiomatic developments of mathematics from set theory, 0 is defined to be the empty set. When this is done, the empty set is the von Neumann cardinal assignment for a set with no elements, which is the empty set. The cardinality function, applied to the empty set, returns the empty set as a value, thereby assigning it 0 elements.\n",
            "Also in set theory, 0 is the lowest ordinal number, corresponding to the empty set viewed as a well-ordered set.  In order theory (and especially its subfield lattice theory), 0 may denote the least element of a lattice or other partially ordered set.\n",
            "The role of 0 as additive identity generalizes beyond elementary algebra.  In abstract algebra, 0 is commonly used to denote a zero element, which is the identity element for addition (if defined on the structure under consideration) and an absorbing element for multiplication (if defined).  (Such elements may also be called zero elements.)  Examples include identity elements of additive groups and vector spaces.  Another example is the zero function (or zero map) on a domain D.  This is the constant function with 0 as its only possible output value, that is, it is the function f defined by f(x) = 0 for all x in D.  As a function from the real numbers to the real numbers, the zero function is the only function that is both even and odd.\n",
            "The number 0 is also used in several other ways within various branches of mathematics:\n",
            "\n",
            "A zero of a function f is a point x in the domain of the function such that f(x) = 0.\n",
            "In propositional logic, 0 may be used to denote the truth value false.\n",
            "In probability theory, 0 is the smallest allowed value for the probability of any event.\n",
            "Category theory introduces the idea of a zero object, often denoted 0, and the related concept of zero morphisms, which generalize the zero function.\n",
            "\n",
            "\n",
            "== Physics ==\n",
            "The value zero plays a special role for many physical quantities. For some quantities, the zero level is naturally distinguished from all other levels, whereas for others it is more or less arbitrarily chosen. For example, for an absolute temperature (typically measured in kelvins), zero is the lowest possible value. (Negative temperatures can be defined for some physical systems, but negative-temperature systems are not actually colder.) This is in contrast to temperatures on the Celsius scale, for example, where zero is arbitrarily defined to be at the freezing point of water. Measuring sound intensity in decibels or phons, the zero level is arbitrarily set at a reference value—for example, at a value for the threshold of hearing. In physics, the zero-point energy is the lowest possible energy that a quantum mechanical physical system may possess and is the energy of the ground state of the system.\n",
            "\n",
            "\n",
            "== Computer science ==\n",
            "Modern computers store information in binary, that is, using an \"alphabet\" that contains only two symbols, usually chosen to be \"0\" and \"1\". Binary coding is convenient for digital electronics, where \"0\" and \"1\" can stand for the absence or presence of electrical current in a wire. Computer programmers typically use high-level programming languages that are more easily intelligible to humans than the binary instructions that are directly executed by the central processing unit. 0 plays various important roles in high-level languages. For example, a Boolean variable stores a value that is either true or false, and 0 is often the numerical representation of false.0 also plays a role in array indexing. The most common practice throughout human history has been to start counting at one, and this is the practice in early classic programming languages such as Fortran and COBOL. However, in the late 1950s LISP introduced zero-based numbering for arrays while Algol 58 introduced completely flexible basing for array subscripts (allowing any positive, negative, or zero integer as base for array subscripts), and most subsequent programming languages adopted one or other of these positions. For example, the elements of an array are numbered starting from 0 in C, so that for an array of n items the sequence of array indices runs from 0 to n−1.There can be confusion between 0- and 1-based indexing; for example, Java's JDBC indexes parameters from 1 although Java itself uses 0-based indexing.In C, a byte containing the value 0 serves to indicate where a string of characters ends. Also, 0 is a standard way to refer to a null pointer in code.In databases, it is possible for a field not to have a value. It is then said to have a null value. For numeric fields it is not the value zero. For text fields this is not blank nor the empty string. The presence of null values leads to three-valued logic. No longer is a condition either true or false, but it can be undetermined. Any computation including a null value delivers a null result.In mathematics, there is no \"positive zero\" or \"negative zero\" distinct from zero; both −0 and +0 represent exactly the same number. However, in some computer hardware signed number representations, zero has two distinct representations, a positive one grouped with the positive numbers and a negative one grouped with the negatives. This kind of dual representation is known as signed zero, with the latter form sometimes called negative zero. These representations include the signed magnitude and ones' complement binary integer representations (but not the two's complement binary form used in most modern computers), and most floating-point number representations (such as IEEE 754 and IBM S/390 floating-point formats).An epoch, in computing terminology, is the date and time associated with a zero timestamp. The Unix epoch begins the midnight before the first of January 1970. The Classic Mac OS epoch and Palm OS epoch begin the midnight before the first of January 1904.Many APIs and operating systems that require applications to return an integer value as an exit status typically use zero to indicate success and non-zero values to indicate specific error or warning conditions.Programmers often use a slashed zero to avoid confusion with the letter \"O\".\n",
            "\n",
            "\n",
            "== Other fields ==\n",
            "\n",
            "\n",
            "=== Biology ===\n",
            "In comparative zoology and cognitive science, recognition that some animals display awareness of the concept of zero leads to the conclusion that the capability for numerical abstraction arose early in the evolution of species.\n",
            "\n",
            "\n",
            "=== Dating systems ===\n",
            "\n",
            "In the BC calendar era, the year 1 BC is the first year before AD 1; there is not a year zero. By contrast, in astronomical year numbering, the year 1 BC is numbered 0, the year 2 BC is numbered −1, and so forth.\n",
            "\n",
            "\n",
            "== See also ==\n",
            "Grammatical number\n",
            "Mathematical constant\n",
            "Number theory\n",
            "Peano axioms\n",
            "\n",
            "\n",
            "== Notes ==\n",
            "\n",
            "\n",
            "== References ==\n",
            "\n",
            "\n",
            "== Bibliography ==\n",
            "\n",
            "\n",
            "=== Historical studies ===\n",
            "\n",
            "\n",
            "== External links ==\n",
            "\n",
            "Searching for the World's First Zero\n",
            "A History of Zero\n",
            "Zero Saga\n",
            "The History of Algebra\n",
            "Edsger W. Dijkstra: Why numbering should start at zero, EWD831 (PDF of a handwritten manuscript)\n",
            "Zero on In Our Time at the BBC\n",
            "Weisstein, Eric W. \"0\". MathWorld.\n",
            " Texts on Wikisource:\n",
            "\"Zero\". Encyclopædia Britannica (11th ed.). 1911.\n",
            "\"Zero\". Encyclopedia Americana. 1920.\n",
            "\n",
            "Title: Nazi Party - Wikipedia\n",
            "Description: The Nazi Party, officially the National Socialist German Workers' Party was a far-right political party in Germany active between 1920 and 1945 that created ...\n",
            "\n",
            "Title: 0\n",
            "Description: 0 (zero) is a number representing an empty quantity. Adding 0 to any number leaves that number unchanged. In mathematical terminology, 0 is the additive identity of the integers, rational numbers, real numbers, and complex numbers, as well as other algebraic structures. Multiplying any number by 0 has the result 0, and consequently, division by zero has no meaning in arithmetic.\n",
            "As a numerical digit, 0 plays a crucial role in decimal notation: it indicates that the power of ten corresponding to the place containing a 0 does not contribute to the total. For example, \"205\" in decimal means two hundreds, no tens, and five ones. The same principle applies in place-value notations that uses a base other than ten, such as binary and hexadecimal. The modern use of 0 in this manner derives from Indian mathematics that was transmitted to Europe via medieval Islamic mathematicians and popularized by Fibonacci. It was independently used by the Maya.\n",
            "Common names for the number 0 in English include zero, nought, naught (), and nil. In contexts where at least one adjacent digit distinguishes it from the letter O, the number is sometimes pronounced as oh or o (). Informal or slang terms for 0 include zilch and zip. Historically, ought, aught (), and cipher have also been used.\n",
            "\n",
            "\n",
            "== Etymology ==\n",
            "\n",
            "The word zero came into the English language via French zéro from the Italian zero, a contraction of the Venetian zevero form of Italian zefiro via ṣafira or ṣifr. In pre-Islamic time the word ṣifr (Arabic صفر) had the meaning \"empty\". Sifr evolved to mean zero when it was used to translate śūnya (Sanskrit: शून्य) from India. The first known English use of zero was in 1598.The Italian mathematician Fibonacci (c. 1170 – c. 1250), who grew up in North Africa and is credited with introducing the decimal system to Europe, used the term zephyrum. This became zefiro in Italian, and was then contracted to zero in Venetian. The Italian word zefiro was already in existence (meaning \"west wind\" from Latin and Greek Zephyrus) and may have influenced the spelling when transcribing Arabic ṣifr.\n",
            "\n",
            "\n",
            "=== Modern usage ===\n",
            "Depending on the context, there may be different words used for the number zero, or the concept of zero. For the simple notion of lacking, the words \"nothing\" and \"none\" are often used. The British English words \"nought\" or \"naught\", and \"nil\" are also synonymous.It is often called \"oh\" in the context of reading out a string of digits, such as telephone numbers, street addresses, credit card numbers, military time, or years. For example, the area code 201 may be pronounced \"two oh one\", and the year 1907 is often pronounced \"nineteen oh seven\". The presence of other digits, indicating that the string contains only numbers, avoids confusion with the letter O. For this reason, systems that include strings with both letters and numbers (such as Canadian postal codes) may exclude the use of the letter O.Slang words for zero include \"zip\", \"zilch\", \"nada\", and \"scratch\".  In the context of sports, \"nil\" is sometimes used, especially in British English. Several sports have specific words for a score of zero, such as \"love\" in tennis – from French l'œuf, \"the egg\" – and \"duck\" in cricket, a shortening of \"duck's egg\". \"Goose egg\" is another general slang term used for zero.\n",
            "\n",
            "\n",
            "== History ==\n",
            "\n",
            "\n",
            "=== Ancient Near East ===\n",
            "Ancient Egyptian numerals were of base 10. They used hieroglyphs for the digits and were not positional. In one papyrus written around 1770 BC, a scribe recorded daily incomes and expenditures for the pharaoh's court, using the nfr hieroglyph to indicate cases where the amount of a foodstuff received was exactly equal to the amount disbursed. Egyptologist Alan Gardiner suggested that the nfr hieroglyph was being used as a symbol for zero. The same symbol was also used to indicate the base level in drawings of tombs and pyramids, and distances were measured relative to the base line as being above or below this line.By the middle of the 2nd millennium BC, Babylonian mathematics had a sophisticated base 60 positional numeral system. The lack of a positional value (or zero) was indicated by a space between sexagesimal numerals. In a tablet unearthed at Kish (dating to as early as 700 BC), the scribe Bêl-bân-aplu used three hooks as a placeholder in the same Babylonian system. By 300 BC, a punctuation symbol (two slanted wedges) was repurposed as a placeholder.The Babylonian positional numeral system differed from the later Hindu–Arabic system in that it did not explicitly specify the magnitude of the leading sexagesimal digit, so that for example the lone digit 1 () might represent any of 1, 60, 3600 = 602, etc., similar to the significand of a floating-point number but without an explicit exponent, and so only distinguished implicitly from context. The zero-like placeholder mark was only ever used in between digits, but never alone or at the end of a number.\n",
            "\n",
            "\n",
            "=== Pre-Columbian Americas ===\n",
            "The Mesoamerican Long Count calendar developed in south-central Mexico and Central America required the use of zero as a placeholder within its vigesimal (base-20) positional numeral system. Many different glyphs, including the partial quatrefoil were used as a zero symbol for these Long Count dates, the earliest of which (on Stela 2 at Chiapa de Corzo, Chiapas) has a date of 36 BC.Since the eight earliest Long Count dates appear outside the Maya homeland, it is generally believed that the use of zero in the Americas predated the Maya and was possibly the invention of the Olmecs. Many of the earliest Long Count dates were found within the Olmec heartland, although the Olmec civilization ended by the 4th century BC, several centuries before the earliest known Long Count dates.Although zero became an integral part of Maya numerals, with a different, empty tortoise-like \"shell shape\" used for many depictions of the \"zero\" numeral, it is assumed not to have influenced Old World numeral systems.Quipu, a knotted cord device, used in the Inca Empire and its predecessor societies in the Andean region to record accounting and other digital data, is encoded in a base ten positional system. Zero is represented by the absence of a knot in the appropriate position.\n",
            "\n",
            "\n",
            "=== Classical antiquity ===\n",
            "The ancient Greeks had no symbol for zero (μηδέν, pronounced 'midén'), and did not use a digit placeholder for it. According to mathematician Charles Seife, the ancient Greeks did begin to adopt the Babylonian placeholder zero for their work in astronomy after 500 BC, representing it with the lowercase Greek letter ό (όμικρον: omicron). However, after using the Babylonian placeholder zero for astronomical calculations they would typically convert the numbers back into Greek numerals. Greeks seemed to have a philosophical opposition to using zero as a number. Other scholars give the Greek partial adoption of the Babylonian zero a later date, with neuroscientist Andreas Nieder giving a date of after 400 BC and mathematician Robert Kaplan dating it after the conquests of Alexander.Greeks seemed unsure about the status of zero as a number. Some of them asked themselves, \"How can not being be?\", leading to philosophical and, by the medieval period, religious arguments about the nature and existence of zero and the vacuum. The paradoxes of Zeno of Elea depend in large part on the uncertain interpretation of zero.\n",
            "By AD 150, Ptolemy, influenced by Hipparchus and the Babylonians, was using a symbol for zero (—°) in his work on mathematical astronomy called the Syntaxis Mathematica, also known as the Almagest. This Hellenistic zero was perhaps the earliest documented use of a numeral representing zero in the Old World. Ptolemy used it many times in his Almagest (VI.8) for the magnitude of solar and lunar eclipses. It represented the value of both digits and minutes of immersion at first and last contact. Digits varied continuously from 0 to 12 to 0 as the Moon passed over the Sun (a triangular pulse), where twelve digits was the angular diameter of the Sun. Minutes of immersion was tabulated from 0′0″ to 31′20″ to 0′0″, where 0′0″ used the symbol as a placeholder in two positions of his sexagesimal positional numeral system, while the combination meant a zero angle. Minutes of immersion was also a continuous function 1/12 31′20″ √d(24−d) (a triangular pulse with convex sides), where d was the digit function and 31′20″ was the sum of the radii of the Sun's and Moon's discs. Ptolemy's symbol was a placeholder as well as a number used by two continuous mathematical functions, one within another, so it meant zero, not none.\n",
            "The earliest use of zero in the calculation of the Julian Easter occurred before AD 311, at the first entry in a table of epacts as preserved in an Ethiopic document for the years 311 to 369, using a Ge'ez word for \"none\" (English translation is \"0\" elsewhere) alongside Ge'ez numerals (based on Greek numerals), which was translated from an equivalent table published by the Church of Alexandria in Medieval Greek. This use was repeated in 525 in an equivalent table, that was translated via the Latin nulla (\"none\") by Dionysius Exiguus, alongside Roman numerals. When division produced zero as a remainder, nihil, meaning \"nothing\", was used. These medieval zeros were used by all future medieval calculators of Easter. The initial \"N\" was used as a zero symbol in a table of Roman numerals by Bede—or his colleagues—around AD 725.In most cultures, 0 was identified before the idea of negative things (i.e., quantities less than zero) was accepted.\n",
            "\n",
            "\n",
            "=== China ===\n",
            "The Sūnzĭ Suànjīng, of unknown date but estimated to be dated from the 1st to 5th centuries AD, and Japanese records dated from the 18th century, describe how the  4th century BC Chinese counting rods system enabled one to perform decimal calculations. As noted in the Xiahou Yang Suanjing (425–468 AD), to multiply or divide a number by 10, 100, 1000, or 10000, all one needs to do, with rods on the counting board, is to move them forwards, or back, by 1, 2, 3, or 4 places. According to A History of Mathematics, the rods \"gave the decimal representation of a number, with an empty space denoting zero\". The counting rod system is considered a positional notation system.Zero was not treated as a number at that time, but as a \"vacant position\". Qín Jiǔsháo's 1247 Mathematical Treatise in Nine Sections is the oldest surviving Chinese mathematical text using a round symbol 〇 for zero. The origin of this symbol is unknown; it may have been borrowed from Indian sources or produced by modifying a square symbol. Chinese authors had been familiar with the idea of negative numbers by the Han dynasty (2nd century AD), as seen in The Nine Chapters on the Mathematical Art.\n",
            "\n",
            "\n",
            "=== India ===\n",
            "Pingala (c. 3rd or 2nd century BC), a Sanskrit prosody scholar, used binary numbers in the form of short and long syllables (the latter equal in length to two short syllables), a notation similar to Morse code. Pingala used the Sanskrit word śūnya explicitly to refer to zero.The concept of zero as a written digit in the decimal place value notation was developed in India. A symbol for zero, a large dot likely to be the precursor of the still-current hollow symbol, is used throughout the Bakhshali manuscript, a practical manual on arithmetic for merchants. In 2017, three samples from the manuscript were shown by radiocarbon dating to come from three different centuries: from AD 224–383, AD 680–779, and AD 885–993, making it South Asia's oldest recorded use of the zero symbol. It is not known how the birch bark fragments from different centuries forming the manuscript came to be packaged together.The Lokavibhāga, a Jain text on cosmology surviving in a medieval Sanskrit translation of the Prakrit original, which is internally dated to AD 458 (Saka era 380), uses a decimal place-value system, including a zero. In this text, śūnya (\"void, empty\") is also used to refer to zero.The Aryabhatiya (c. 500), states sthānāt sthānaṁ daśaguṇaṁ syāt \"from place to place each is ten times the preceding\".Rules governing the use of zero appeared in Brahmagupta's Brahmasputha Siddhanta (7th century), which states the sum of zero with itself as zero, and incorrectly describes division by zero in the following way:\n",
            "A positive or negative number when divided by zero is a fraction with the zero as denominator. Zero divided by a negative or positive number is either zero or is expressed as a fraction with zero as numerator and the finite quantity as denominator. Zero divided by zero is zero.\n",
            "\n",
            "\n",
            "==== Epigraphy ====\n",
            "A black dot is used as a decimal placeholder in the Bakhshali manuscript, portions of which date from AD 224–993.There are numerous copper plate inscriptions, with the same small O in them, some of them possibly dated to the 6th century, but their date or authenticity may be open to doubt.A stone tablet found in the ruins of a temple near Sambor on the Mekong, Kratié Province, Cambodia, includes the inscription of \"605\" in Khmer numerals (a set of numeral glyphs for the Hindu–Arabic numeral system). The number is the year of the inscription in the Saka era, corresponding to a date of AD 683.The first known use of special glyphs for the decimal digits that includes the indubitable appearance of a symbol for the digit zero, a small circle, appears on a stone inscription found at the Chaturbhuj Temple, Gwalior, in India, dated 876.\n",
            "\n",
            "\n",
            "=== Middle Ages ===\n",
            "\n",
            "\n",
            "==== Transmission to Islamic culture ====\n",
            "\n",
            "The Arabic-language inheritance of science was largely Greek, followed by Hindu influences. In 773, at Al-Mansur's behest, translations were made of many ancient treatises including Greek, Roman, Indian, and others.\n",
            "In AD 813, astronomical tables were prepared by a Persian mathematician, Muḥammad ibn Mūsā al-Khwārizmī, using Hindu numerals; and about 825, he published a book synthesizing Greek and Hindu knowledge and also contained his own contribution to mathematics including an explanation of the use of zero. This book was later translated into Latin in the 12th century under the title Algoritmi de numero Indorum. This title means \"al-Khwarizmi on the Numerals of the Indians\". The word \"Algoritmi\" was the translator's Latinization of Al-Khwarizmi's name, and the word \"Algorithm\" or \"Algorism\" started to acquire a meaning of any arithmetic based on decimals.Muhammad ibn Ahmad al-Khwarizmi, in 976, stated that if no number appears in the place of tens in a calculation, a little circle should be used \"to keep the rows\". This circle was called ṣifr.\n",
            "\n",
            "\n",
            "==== Transmission to Europe ====\n",
            "The Hindu–Arabic numeral system (base 10) reached Western Europe in the 11th century, via Al-Andalus, through Spanish Muslims, the Moors, together with knowledge of classical astronomy and instruments like the astrolabe. Gerbert of Aurillac is credited with reintroducing the lost teachings into Catholic Europe. For this reason, the numerals came to be known in Europe as \"Arabic numerals\". The Italian mathematician Fibonacci or Leonardo of Pisa was instrumental in bringing the system into European mathematics in 1202, stating:\n",
            "\n",
            "After my father's appointment by his homeland as state official in the customs house of Bugia for the Pisan merchants who thronged to it, he took charge; and in view of its future usefulness and convenience, had me in my boyhood come to him and there wanted me to devote myself to and be instructed in the study of calculation for some days. There, following my introduction, as a consequence of marvelous instruction in the art, to the nine digits of the Hindus, the knowledge of the art very much appealed to me before all others, and for it I realized that all its aspects were studied in Egypt, Syria, Greece, Sicily, and Provence, with their varying methods; and at these places thereafter, while on business. I pursued my study in depth and learned the give-and-take of disputation. But all this even, and the algorism, as well as the art of Pythagoras, I considered as almost a mistake in respect to the method of the Hindus [Modus Indorum]. Therefore, embracing more stringently that method of the Hindus, and taking stricter pains in its study, while adding certain things from my own understanding and inserting also certain things from the niceties of Euclid's geometric art. I have striven to compose this book in its entirety as understandably as I could, dividing it into fifteen chapters. Almost everything which I have introduced I have displayed with exact proof, in order that those further seeking this knowledge, with its pre-eminent method, might be instructed, and further, in order that the Latin people might not be discovered to be without it, as they have been up to now. If I have perchance omitted anything more or less proper or necessary, I beg indulgence, since there is no one who is blameless and utterly provident in all things. The nine Indian figures are: 9 8 7 6 5 4 3 2 1. With these nine figures, and with the sign 0  ... any number may be written.\n",
            "From the 13th century, manuals on calculation (adding, multiplying, extracting roots, etc.) became common in Europe where they were called algorismus after the Persian mathematician al-Khwārizmī. One popular manual was written by Johannes de Sacrobosco in the early 1200s and was one of the earliest scientific books to be printed, in 1488. The practice of calculating on paper using Hindu–Arabic numerals only gradually displaced calculation by abacus and recording with Roman numerals. In the 16th century, Hindu–Arabic numerals became the predominant numerals used in Europe.\n",
            "\n",
            "\n",
            "== Symbols and representations ==\n",
            "\n",
            "Today, the numerical digit 0 is usually written as a circle or ellipse. Traditionally, many print typefaces made the capital letter O more rounded than the narrower, elliptical digit 0. Typewriters originally made no distinction in shape between O and 0; some models did not even have a separate key for the digit 0. The distinction came into prominence on modern character displays.A slashed zero (0/{\\displaystyle 0\\!\\!\\!{/}}) is often used to distinguish the number from the letter (mostly in computing, navigation and in the military, for example). The digit 0 with a dot in the center seems to have originated as an option on IBM 3270 displays and has continued with some modern computer typefaces such as Andalé Mono, and in some airline reservation systems. One variation uses a short vertical bar instead of the dot. Some fonts designed for use with computers made one of the capital-O–digit-0 pair more rounded and the other more angular (closer to a rectangle). A further distinction is made in falsification-hindering typeface as used on German car number plates by slitting open the digit 0 on the upper right side. In some systems either the letter O or the numeral 0, or both, are excluded from use, to avoid confusion.\n",
            "\n",
            "\n",
            "== Mathematics ==\n",
            "\n",
            "The concept of zero plays multiple roles in mathematics: as a digit, it is an important part of positional notation for representing numbers, while it also plays an important role as a number in its own right in many algebraic settings.\n",
            "\n",
            "\n",
            "=== As a digit ===\n",
            "\n",
            "In positional number systems (such as the usual decimal notation for representing numbers), the digit 0 plays the role of a placeholder, indicating that certain powers of the base do not contribute.  For example, the decimal number 205 is the sum of two hundreds and five ones, with the 0 digit indicating that no tens are added.  The digit plays the same role in decimal fractions and in the decimal representation of other real numbers (indicating whether any tenths, hundredths, thousandths, etc., are present) and in bases other than 10 (for example, in binary, where it indicates which powers of 2 are omitted).\n",
            "\n",
            "\n",
            "=== Elementary algebra ===\n",
            "The number 0 is the smallest nonnegative integer, and the largest nonpositive integer. The natural number following 0 is 1 and no natural number precedes 0. The number 0 may or may not be considered a natural number, but it is an integer, and hence a rational number and a real number. All rational numbers are algebraic numbers, including 0. When the real numbers are extended to form the complex numbers, 0 becomes the origin of the complex plane.\n",
            "The number 0 can be regarded as neither positive nor negative or, alternatively, both positive and negative and is usually displayed as the central number in a number line. Zero is even (that is, a multiple of 2), and is also an integer multiple of any other integer, rational, or real number. It is neither a prime number nor a composite number: it is not prime because prime numbers are greater than 1 by definition, and it is not composite because it cannot be expressed as the product of two smaller natural numbers. (However, the singleton set {0} is a prime ideal in the ring of the integers.)\n",
            "The following are some basic rules for dealing with the number 0. These rules apply for any real or complex number x, unless otherwise stated.\n",
            "\n",
            "Addition: x + 0 = 0 + x = x. That is, 0 is an identity element (or neutral element) with respect to addition.\n",
            "Subtraction: x − 0 = x and 0 − x = −x.\n",
            "Multiplication: x · 0 = 0 · x = 0.\n",
            "Division: 0/x = 0, for nonzero x. But x/0 is undefined, because 0 has no multiplicative inverse (no real number multiplied by 0 produces 1), a consequence of the previous rule.\n",
            "Exponentiation: x0 = x/x = 1, except that the case x = 0 is considered undefined in some contexts. For all positive real x, 0x = 0.The expression 0/0, which may be obtained in an attempt to determine the limit of an expression of the form f(x)/g(x) as a result of applying the lim operator independently to both operands of the fraction, is a so-called \"indeterminate form\". That does not mean that the limit sought is necessarily undefined; rather, it means that the limit of f(x)/g(x), if it exists, must be found by another method, such as l'Hôpital's rule.The sum of 0 numbers (the empty sum) is 0, and the product of 0 numbers (the empty product) is 1. The factorial 0! evaluates to 1, as a special case of the empty product.\n",
            "\n",
            "\n",
            "=== Other uses in mathematics ===\n",
            "The role of 0 as the smallest counting number can be generalized or extended in various ways.  In set theory, 0 is the cardinality of the empty set: if one does not have any apples, then one has 0 apples. In fact, in certain axiomatic developments of mathematics from set theory, 0 is defined to be the empty set. When this is done, the empty set is the von Neumann cardinal assignment for a set with no elements, which is the empty set. The cardinality function, applied to the empty set, returns the empty set as a value, thereby assigning it 0 elements.\n",
            "Also in set theory, 0 is the lowest ordinal number, corresponding to the empty set viewed as a well-ordered set.  In order theory (and especially its subfield lattice theory), 0 may denote the least element of a lattice or other partially ordered set.\n",
            "The role of 0 as additive identity generalizes beyond elementary algebra.  In abstract algebra, 0 is commonly used to denote a zero element, which is the identity element for addition (if defined on the structure under consideration) and an absorbing element for multiplication (if defined).  (Such elements may also be called zero elements.)  Examples include identity elements of additive groups and vector spaces.  Another example is the zero function (or zero map) on a domain D.  This is the constant function with 0 as its only possible output value, that is, it is the function f defined by f(x) = 0 for all x in D.  As a function from the real numbers to the real numbers, the zero function is the only function that is both even and odd.\n",
            "The number 0 is also used in several other ways within various branches of mathematics:\n",
            "\n",
            "A zero of a function f is a point x in the domain of the function such that f(x) = 0.\n",
            "In propositional logic, 0 may be used to denote the truth value false.\n",
            "In probability theory, 0 is the smallest allowed value for the probability of any event.\n",
            "Category theory introduces the idea of a zero object, often denoted 0, and the related concept of zero morphisms, which generalize the zero function.\n",
            "\n",
            "\n",
            "== Physics ==\n",
            "The value zero plays a special role for many physical quantities. For some quantities, the zero level is naturally distinguished from all other levels, whereas for others it is more or less arbitrarily chosen. For example, for an absolute temperature (typically measured in kelvins), zero is the lowest possible value. (Negative temperatures can be defined for some physical systems, but negative-temperature systems are not actually colder.) This is in contrast to temperatures on the Celsius scale, for example, where zero is arbitrarily defined to be at the freezing point of water. Measuring sound intensity in decibels or phons, the zero level is arbitrarily set at a reference value—for example, at a value for the threshold of hearing. In physics, the zero-point energy is the lowest possible energy that a quantum mechanical physical system may possess and is the energy of the ground state of the system.\n",
            "\n",
            "\n",
            "== Computer science ==\n",
            "Modern computers store information in binary, that is, using an \"alphabet\" that contains only two symbols, usually chosen to be \"0\" and \"1\". Binary coding is convenient for digital electronics, where \"0\" and \"1\" can stand for the absence or presence of electrical current in a wire. Computer programmers typically use high-level programming languages that are more easily intelligible to humans than the binary instructions that are directly executed by the central processing unit. 0 plays various important roles in high-level languages. For example, a Boolean variable stores a value that is either true or false, and 0 is often the numerical representation of false.0 also plays a role in array indexing. The most common practice throughout human history has been to start counting at one, and this is the practice in early classic programming languages such as Fortran and COBOL. However, in the late 1950s LISP introduced zero-based numbering for arrays while Algol 58 introduced completely flexible basing for array subscripts (allowing any positive, negative, or zero integer as base for array subscripts), and most subsequent programming languages adopted one or other of these positions. For example, the elements of an array are numbered starting from 0 in C, so that for an array of n items the sequence of array indices runs from 0 to n−1.There can be confusion between 0- and 1-based indexing; for example, Java's JDBC indexes parameters from 1 although Java itself uses 0-based indexing.In C, a byte containing the value 0 serves to indicate where a string of characters ends. Also, 0 is a standard way to refer to a null pointer in code.In databases, it is possible for a field not to have a value. It is then said to have a null value. For numeric fields it is not the value zero. For text fields this is not blank nor the empty string. The presence of null values leads to three-valued logic. No longer is a condition either true or false, but it can be undetermined. Any computation including a null value delivers a null result.In mathematics, there is no \"positive zero\" or \"negative zero\" distinct from zero; both −0 and +0 represent exactly the same number. However, in some computer hardware signed number representations, zero has two distinct representations, a positive one grouped with the positive numbers and a negative one grouped with the negatives. This kind of dual representation is known as signed zero, with the latter form sometimes called negative zero. These representations include the signed magnitude and ones' complement binary integer representations (but not the two's complement binary form used in most modern computers), and most floating-point number representations (such as IEEE 754 and IBM S/390 floating-point formats).An epoch, in computing terminology, is the date and time associated with a zero timestamp. The Unix epoch begins the midnight before the first of January 1970. The Classic Mac OS epoch and Palm OS epoch begin the midnight before the first of January 1904.Many APIs and operating systems that require applications to return an integer value as an exit status typically use zero to indicate success and non-zero values to indicate specific error or warning conditions.Programmers often use a slashed zero to avoid confusion with the letter \"O\".\n",
            "\n",
            "\n",
            "== Other fields ==\n",
            "\n",
            "\n",
            "=== Biology ===\n",
            "In comparative zoology and cognitive science, recognition that some animals display awareness of the concept of zero leads to the conclusion that the capability for numerical abstraction arose early in the evolution of species.\n",
            "\n",
            "\n",
            "=== Dating systems ===\n",
            "\n",
            "In the BC calendar era, the year 1 BC is the first year before AD 1; there is not a year zero. By contrast, in astronomical year numbering, the year 1 BC is numbered 0, the year 2 BC is numbered −1, and so forth.\n",
            "\n",
            "\n",
            "== See also ==\n",
            "Grammatical number\n",
            "Mathematical constant\n",
            "Number theory\n",
            "Peano axioms\n",
            "\n",
            "\n",
            "== Notes ==\n",
            "\n",
            "\n",
            "== References ==\n",
            "\n",
            "\n",
            "== Bibliography ==\n",
            "\n",
            "\n",
            "=== Historical studies ===\n",
            "\n",
            "\n",
            "== External links ==\n",
            "\n",
            "Searching for the World's First Zero\n",
            "A History of Zero\n",
            "Zero Saga\n",
            "The History of Algebra\n",
            "Edsger W. Dijkstra: Why numbering should start at zero, EWD831 (PDF of a handwritten manuscript)\n",
            "Zero on In Our Time at the BBC\n",
            "Weisstein, Eric W. \"0\". MathWorld.\n",
            " Texts on Wikisource:\n",
            "\"Zero\". Encyclopædia Britannica (11th ed.). 1911.\n",
            "\"Zero\". Encyclopedia Americana. 1920.\n",
            "\n",
            "Title: Nazi Germany - Wikipedia\n",
            "Description: Nazi Germany, officially known as the German Reich and later the Greater German Reich, is a term used to describe the German state between 1933 and 1945, ...\n",
            "\n",
            "Title: 0\n",
            "Description: 0 (zero) is a number representing an empty quantity. Adding 0 to any number leaves that number unchanged. In mathematical terminology, 0 is the additive identity of the integers, rational numbers, real numbers, and complex numbers, as well as other algebraic structures. Multiplying any number by 0 has the result 0, and consequently, division by zero has no meaning in arithmetic.\n",
            "As a numerical digit, 0 plays a crucial role in decimal notation: it indicates that the power of ten corresponding to the place containing a 0 does not contribute to the total. For example, \"205\" in decimal means two hundreds, no tens, and five ones. The same principle applies in place-value notations that uses a base other than ten, such as binary and hexadecimal. The modern use of 0 in this manner derives from Indian mathematics that was transmitted to Europe via medieval Islamic mathematicians and popularized by Fibonacci. It was independently used by the Maya.\n",
            "Common names for the number 0 in English include zero, nought, naught (), and nil. In contexts where at least one adjacent digit distinguishes it from the letter O, the number is sometimes pronounced as oh or o (). Informal or slang terms for 0 include zilch and zip. Historically, ought, aught (), and cipher have also been used.\n",
            "\n",
            "\n",
            "== Etymology ==\n",
            "\n",
            "The word zero came into the English language via French zéro from the Italian zero, a contraction of the Venetian zevero form of Italian zefiro via ṣafira or ṣifr. In pre-Islamic time the word ṣifr (Arabic صفر) had the meaning \"empty\". Sifr evolved to mean zero when it was used to translate śūnya (Sanskrit: शून्य) from India. The first known English use of zero was in 1598.The Italian mathematician Fibonacci (c. 1170 – c. 1250), who grew up in North Africa and is credited with introducing the decimal system to Europe, used the term zephyrum. This became zefiro in Italian, and was then contracted to zero in Venetian. The Italian word zefiro was already in existence (meaning \"west wind\" from Latin and Greek Zephyrus) and may have influenced the spelling when transcribing Arabic ṣifr.\n",
            "\n",
            "\n",
            "=== Modern usage ===\n",
            "Depending on the context, there may be different words used for the number zero, or the concept of zero. For the simple notion of lacking, the words \"nothing\" and \"none\" are often used. The British English words \"nought\" or \"naught\", and \"nil\" are also synonymous.It is often called \"oh\" in the context of reading out a string of digits, such as telephone numbers, street addresses, credit card numbers, military time, or years. For example, the area code 201 may be pronounced \"two oh one\", and the year 1907 is often pronounced \"nineteen oh seven\". The presence of other digits, indicating that the string contains only numbers, avoids confusion with the letter O. For this reason, systems that include strings with both letters and numbers (such as Canadian postal codes) may exclude the use of the letter O.Slang words for zero include \"zip\", \"zilch\", \"nada\", and \"scratch\".  In the context of sports, \"nil\" is sometimes used, especially in British English. Several sports have specific words for a score of zero, such as \"love\" in tennis – from French l'œuf, \"the egg\" – and \"duck\" in cricket, a shortening of \"duck's egg\". \"Goose egg\" is another general slang term used for zero.\n",
            "\n",
            "\n",
            "== History ==\n",
            "\n",
            "\n",
            "=== Ancient Near East ===\n",
            "Ancient Egyptian numerals were of base 10. They used hieroglyphs for the digits and were not positional. In one papyrus written around 1770 BC, a scribe recorded daily incomes and expenditures for the pharaoh's court, using the nfr hieroglyph to indicate cases where the amount of a foodstuff received was exactly equal to the amount disbursed. Egyptologist Alan Gardiner suggested that the nfr hieroglyph was being used as a symbol for zero. The same symbol was also used to indicate the base level in drawings of tombs and pyramids, and distances were measured relative to the base line as being above or below this line.By the middle of the 2nd millennium BC, Babylonian mathematics had a sophisticated base 60 positional numeral system. The lack of a positional value (or zero) was indicated by a space between sexagesimal numerals. In a tablet unearthed at Kish (dating to as early as 700 BC), the scribe Bêl-bân-aplu used three hooks as a placeholder in the same Babylonian system. By 300 BC, a punctuation symbol (two slanted wedges) was repurposed as a placeholder.The Babylonian positional numeral system differed from the later Hindu–Arabic system in that it did not explicitly specify the magnitude of the leading sexagesimal digit, so that for example the lone digit 1 () might represent any of 1, 60, 3600 = 602, etc., similar to the significand of a floating-point number but without an explicit exponent, and so only distinguished implicitly from context. The zero-like placeholder mark was only ever used in between digits, but never alone or at the end of a number.\n",
            "\n",
            "\n",
            "=== Pre-Columbian Americas ===\n",
            "The Mesoamerican Long Count calendar developed in south-central Mexico and Central America required the use of zero as a placeholder within its vigesimal (base-20) positional numeral system. Many different glyphs, including the partial quatrefoil were used as a zero symbol for these Long Count dates, the earliest of which (on Stela 2 at Chiapa de Corzo, Chiapas) has a date of 36 BC.Since the eight earliest Long Count dates appear outside the Maya homeland, it is generally believed that the use of zero in the Americas predated the Maya and was possibly the invention of the Olmecs. Many of the earliest Long Count dates were found within the Olmec heartland, although the Olmec civilization ended by the 4th century BC, several centuries before the earliest known Long Count dates.Although zero became an integral part of Maya numerals, with a different, empty tortoise-like \"shell shape\" used for many depictions of the \"zero\" numeral, it is assumed not to have influenced Old World numeral systems.Quipu, a knotted cord device, used in the Inca Empire and its predecessor societies in the Andean region to record accounting and other digital data, is encoded in a base ten positional system. Zero is represented by the absence of a knot in the appropriate position.\n",
            "\n",
            "\n",
            "=== Classical antiquity ===\n",
            "The ancient Greeks had no symbol for zero (μηδέν, pronounced 'midén'), and did not use a digit placeholder for it. According to mathematician Charles Seife, the ancient Greeks did begin to adopt the Babylonian placeholder zero for their work in astronomy after 500 BC, representing it with the lowercase Greek letter ό (όμικρον: omicron). However, after using the Babylonian placeholder zero for astronomical calculations they would typically convert the numbers back into Greek numerals. Greeks seemed to have a philosophical opposition to using zero as a number. Other scholars give the Greek partial adoption of the Babylonian zero a later date, with neuroscientist Andreas Nieder giving a date of after 400 BC and mathematician Robert Kaplan dating it after the conquests of Alexander.Greeks seemed unsure about the status of zero as a number. Some of them asked themselves, \"How can not being be?\", leading to philosophical and, by the medieval period, religious arguments about the nature and existence of zero and the vacuum. The paradoxes of Zeno of Elea depend in large part on the uncertain interpretation of zero.\n",
            "By AD 150, Ptolemy, influenced by Hipparchus and the Babylonians, was using a symbol for zero (—°) in his work on mathematical astronomy called the Syntaxis Mathematica, also known as the Almagest. This Hellenistic zero was perhaps the earliest documented use of a numeral representing zero in the Old World. Ptolemy used it many times in his Almagest (VI.8) for the magnitude of solar and lunar eclipses. It represented the value of both digits and minutes of immersion at first and last contact. Digits varied continuously from 0 to 12 to 0 as the Moon passed over the Sun (a triangular pulse), where twelve digits was the angular diameter of the Sun. Minutes of immersion was tabulated from 0′0″ to 31′20″ to 0′0″, where 0′0″ used the symbol as a placeholder in two positions of his sexagesimal positional numeral system, while the combination meant a zero angle. Minutes of immersion was also a continuous function 1/12 31′20″ √d(24−d) (a triangular pulse with convex sides), where d was the digit function and 31′20″ was the sum of the radii of the Sun's and Moon's discs. Ptolemy's symbol was a placeholder as well as a number used by two continuous mathematical functions, one within another, so it meant zero, not none.\n",
            "The earliest use of zero in the calculation of the Julian Easter occurred before AD 311, at the first entry in a table of epacts as preserved in an Ethiopic document for the years 311 to 369, using a Ge'ez word for \"none\" (English translation is \"0\" elsewhere) alongside Ge'ez numerals (based on Greek numerals), which was translated from an equivalent table published by the Church of Alexandria in Medieval Greek. This use was repeated in 525 in an equivalent table, that was translated via the Latin nulla (\"none\") by Dionysius Exiguus, alongside Roman numerals. When division produced zero as a remainder, nihil, meaning \"nothing\", was used. These medieval zeros were used by all future medieval calculators of Easter. The initial \"N\" was used as a zero symbol in a table of Roman numerals by Bede—or his colleagues—around AD 725.In most cultures, 0 was identified before the idea of negative things (i.e., quantities less than zero) was accepted.\n",
            "\n",
            "\n",
            "=== China ===\n",
            "The Sūnzĭ Suànjīng, of unknown date but estimated to be dated from the 1st to 5th centuries AD, and Japanese records dated from the 18th century, describe how the  4th century BC Chinese counting rods system enabled one to perform decimal calculations. As noted in the Xiahou Yang Suanjing (425–468 AD), to multiply or divide a number by 10, 100, 1000, or 10000, all one needs to do, with rods on the counting board, is to move them forwards, or back, by 1, 2, 3, or 4 places. According to A History of Mathematics, the rods \"gave the decimal representation of a number, with an empty space denoting zero\". The counting rod system is considered a positional notation system.Zero was not treated as a number at that time, but as a \"vacant position\". Qín Jiǔsháo's 1247 Mathematical Treatise in Nine Sections is the oldest surviving Chinese mathematical text using a round symbol 〇 for zero. The origin of this symbol is unknown; it may have been borrowed from Indian sources or produced by modifying a square symbol. Chinese authors had been familiar with the idea of negative numbers by the Han dynasty (2nd century AD), as seen in The Nine Chapters on the Mathematical Art.\n",
            "\n",
            "\n",
            "=== India ===\n",
            "Pingala (c. 3rd or 2nd century BC), a Sanskrit prosody scholar, used binary numbers in the form of short and long syllables (the latter equal in length to two short syllables), a notation similar to Morse code. Pingala used the Sanskrit word śūnya explicitly to refer to zero.The concept of zero as a written digit in the decimal place value notation was developed in India. A symbol for zero, a large dot likely to be the precursor of the still-current hollow symbol, is used throughout the Bakhshali manuscript, a practical manual on arithmetic for merchants. In 2017, three samples from the manuscript were shown by radiocarbon dating to come from three different centuries: from AD 224–383, AD 680–779, and AD 885–993, making it South Asia's oldest recorded use of the zero symbol. It is not known how the birch bark fragments from different centuries forming the manuscript came to be packaged together.The Lokavibhāga, a Jain text on cosmology surviving in a medieval Sanskrit translation of the Prakrit original, which is internally dated to AD 458 (Saka era 380), uses a decimal place-value system, including a zero. In this text, śūnya (\"void, empty\") is also used to refer to zero.The Aryabhatiya (c. 500), states sthānāt sthānaṁ daśaguṇaṁ syāt \"from place to place each is ten times the preceding\".Rules governing the use of zero appeared in Brahmagupta's Brahmasputha Siddhanta (7th century), which states the sum of zero with itself as zero, and incorrectly describes division by zero in the following way:\n",
            "A positive or negative number when divided by zero is a fraction with the zero as denominator. Zero divided by a negative or positive number is either zero or is expressed as a fraction with zero as numerator and the finite quantity as denominator. Zero divided by zero is zero.\n",
            "\n",
            "\n",
            "==== Epigraphy ====\n",
            "A black dot is used as a decimal placeholder in the Bakhshali manuscript, portions of which date from AD 224–993.There are numerous copper plate inscriptions, with the same small O in them, some of them possibly dated to the 6th century, but their date or authenticity may be open to doubt.A stone tablet found in the ruins of a temple near Sambor on the Mekong, Kratié Province, Cambodia, includes the inscription of \"605\" in Khmer numerals (a set of numeral glyphs for the Hindu–Arabic numeral system). The number is the year of the inscription in the Saka era, corresponding to a date of AD 683.The first known use of special glyphs for the decimal digits that includes the indubitable appearance of a symbol for the digit zero, a small circle, appears on a stone inscription found at the Chaturbhuj Temple, Gwalior, in India, dated 876.\n",
            "\n",
            "\n",
            "=== Middle Ages ===\n",
            "\n",
            "\n",
            "==== Transmission to Islamic culture ====\n",
            "\n",
            "The Arabic-language inheritance of science was largely Greek, followed by Hindu influences. In 773, at Al-Mansur's behest, translations were made of many ancient treatises including Greek, Roman, Indian, and others.\n",
            "In AD 813, astronomical tables were prepared by a Persian mathematician, Muḥammad ibn Mūsā al-Khwārizmī, using Hindu numerals; and about 825, he published a book synthesizing Greek and Hindu knowledge and also contained his own contribution to mathematics including an explanation of the use of zero. This book was later translated into Latin in the 12th century under the title Algoritmi de numero Indorum. This title means \"al-Khwarizmi on the Numerals of the Indians\". The word \"Algoritmi\" was the translator's Latinization of Al-Khwarizmi's name, and the word \"Algorithm\" or \"Algorism\" started to acquire a meaning of any arithmetic based on decimals.Muhammad ibn Ahmad al-Khwarizmi, in 976, stated that if no number appears in the place of tens in a calculation, a little circle should be used \"to keep the rows\". This circle was called ṣifr.\n",
            "\n",
            "\n",
            "==== Transmission to Europe ====\n",
            "The Hindu–Arabic numeral system (base 10) reached Western Europe in the 11th century, via Al-Andalus, through Spanish Muslims, the Moors, together with knowledge of classical astronomy and instruments like the astrolabe. Gerbert of Aurillac is credited with reintroducing the lost teachings into Catholic Europe. For this reason, the numerals came to be known in Europe as \"Arabic numerals\". The Italian mathematician Fibonacci or Leonardo of Pisa was instrumental in bringing the system into European mathematics in 1202, stating:\n",
            "\n",
            "After my father's appointment by his homeland as state official in the customs house of Bugia for the Pisan merchants who thronged to it, he took charge; and in view of its future usefulness and convenience, had me in my boyhood come to him and there wanted me to devote myself to and be instructed in the study of calculation for some days. There, following my introduction, as a consequence of marvelous instruction in the art, to the nine digits of the Hindus, the knowledge of the art very much appealed to me before all others, and for it I realized that all its aspects were studied in Egypt, Syria, Greece, Sicily, and Provence, with their varying methods; and at these places thereafter, while on business. I pursued my study in depth and learned the give-and-take of disputation. But all this even, and the algorism, as well as the art of Pythagoras, I considered as almost a mistake in respect to the method of the Hindus [Modus Indorum]. Therefore, embracing more stringently that method of the Hindus, and taking stricter pains in its study, while adding certain things from my own understanding and inserting also certain things from the niceties of Euclid's geometric art. I have striven to compose this book in its entirety as understandably as I could, dividing it into fifteen chapters. Almost everything which I have introduced I have displayed with exact proof, in order that those further seeking this knowledge, with its pre-eminent method, might be instructed, and further, in order that the Latin people might not be discovered to be without it, as they have been up to now. If I have perchance omitted anything more or less proper or necessary, I beg indulgence, since there is no one who is blameless and utterly provident in all things. The nine Indian figures are: 9 8 7 6 5 4 3 2 1. With these nine figures, and with the sign 0  ... any number may be written.\n",
            "From the 13th century, manuals on calculation (adding, multiplying, extracting roots, etc.) became common in Europe where they were called algorismus after the Persian mathematician al-Khwārizmī. One popular manual was written by Johannes de Sacrobosco in the early 1200s and was one of the earliest scientific books to be printed, in 1488. The practice of calculating on paper using Hindu–Arabic numerals only gradually displaced calculation by abacus and recording with Roman numerals. In the 16th century, Hindu–Arabic numerals became the predominant numerals used in Europe.\n",
            "\n",
            "\n",
            "== Symbols and representations ==\n",
            "\n",
            "Today, the numerical digit 0 is usually written as a circle or ellipse. Traditionally, many print typefaces made the capital letter O more rounded than the narrower, elliptical digit 0. Typewriters originally made no distinction in shape between O and 0; some models did not even have a separate key for the digit 0. The distinction came into prominence on modern character displays.A slashed zero (0/{\\displaystyle 0\\!\\!\\!{/}}) is often used to distinguish the number from the letter (mostly in computing, navigation and in the military, for example). The digit 0 with a dot in the center seems to have originated as an option on IBM 3270 displays and has continued with some modern computer typefaces such as Andalé Mono, and in some airline reservation systems. One variation uses a short vertical bar instead of the dot. Some fonts designed for use with computers made one of the capital-O–digit-0 pair more rounded and the other more angular (closer to a rectangle). A further distinction is made in falsification-hindering typeface as used on German car number plates by slitting open the digit 0 on the upper right side. In some systems either the letter O or the numeral 0, or both, are excluded from use, to avoid confusion.\n",
            "\n",
            "\n",
            "== Mathematics ==\n",
            "\n",
            "The concept of zero plays multiple roles in mathematics: as a digit, it is an important part of positional notation for representing numbers, while it also plays an important role as a number in its own right in many algebraic settings.\n",
            "\n",
            "\n",
            "=== As a digit ===\n",
            "\n",
            "In positional number systems (such as the usual decimal notation for representing numbers), the digit 0 plays the role of a placeholder, indicating that certain powers of the base do not contribute.  For example, the decimal number 205 is the sum of two hundreds and five ones, with the 0 digit indicating that no tens are added.  The digit plays the same role in decimal fractions and in the decimal representation of other real numbers (indicating whether any tenths, hundredths, thousandths, etc., are present) and in bases other than 10 (for example, in binary, where it indicates which powers of 2 are omitted).\n",
            "\n",
            "\n",
            "=== Elementary algebra ===\n",
            "The number 0 is the smallest nonnegative integer, and the largest nonpositive integer. The natural number following 0 is 1 and no natural number precedes 0. The number 0 may or may not be considered a natural number, but it is an integer, and hence a rational number and a real number. All rational numbers are algebraic numbers, including 0. When the real numbers are extended to form the complex numbers, 0 becomes the origin of the complex plane.\n",
            "The number 0 can be regarded as neither positive nor negative or, alternatively, both positive and negative and is usually displayed as the central number in a number line. Zero is even (that is, a multiple of 2), and is also an integer multiple of any other integer, rational, or real number. It is neither a prime number nor a composite number: it is not prime because prime numbers are greater than 1 by definition, and it is not composite because it cannot be expressed as the product of two smaller natural numbers. (However, the singleton set {0} is a prime ideal in the ring of the integers.)\n",
            "The following are some basic rules for dealing with the number 0. These rules apply for any real or complex number x, unless otherwise stated.\n",
            "\n",
            "Addition: x + 0 = 0 + x = x. That is, 0 is an identity element (or neutral element) with respect to addition.\n",
            "Subtraction: x − 0 = x and 0 − x = −x.\n",
            "Multiplication: x · 0 = 0 · x = 0.\n",
            "Division: 0/x = 0, for nonzero x. But x/0 is undefined, because 0 has no multiplicative inverse (no real number multiplied by 0 produces 1), a consequence of the previous rule.\n",
            "Exponentiation: x0 = x/x = 1, except that the case x = 0 is considered undefined in some contexts. For all positive real x, 0x = 0.The expression 0/0, which may be obtained in an attempt to determine the limit of an expression of the form f(x)/g(x) as a result of applying the lim operator independently to both operands of the fraction, is a so-called \"indeterminate form\". That does not mean that the limit sought is necessarily undefined; rather, it means that the limit of f(x)/g(x), if it exists, must be found by another method, such as l'Hôpital's rule.The sum of 0 numbers (the empty sum) is 0, and the product of 0 numbers (the empty product) is 1. The factorial 0! evaluates to 1, as a special case of the empty product.\n",
            "\n",
            "\n",
            "=== Other uses in mathematics ===\n",
            "The role of 0 as the smallest counting number can be generalized or extended in various ways.  In set theory, 0 is the cardinality of the empty set: if one does not have any apples, then one has 0 apples. In fact, in certain axiomatic developments of mathematics from set theory, 0 is defined to be the empty set. When this is done, the empty set is the von Neumann cardinal assignment for a set with no elements, which is the empty set. The cardinality function, applied to the empty set, returns the empty set as a value, thereby assigning it 0 elements.\n",
            "Also in set theory, 0 is the lowest ordinal number, corresponding to the empty set viewed as a well-ordered set.  In order theory (and especially its subfield lattice theory), 0 may denote the least element of a lattice or other partially ordered set.\n",
            "The role of 0 as additive identity generalizes beyond elementary algebra.  In abstract algebra, 0 is commonly used to denote a zero element, which is the identity element for addition (if defined on the structure under consideration) and an absorbing element for multiplication (if defined).  (Such elements may also be called zero elements.)  Examples include identity elements of additive groups and vector spaces.  Another example is the zero function (or zero map) on a domain D.  This is the constant function with 0 as its only possible output value, that is, it is the function f defined by f(x) = 0 for all x in D.  As a function from the real numbers to the real numbers, the zero function is the only function that is both even and odd.\n",
            "The number 0 is also used in several other ways within various branches of mathematics:\n",
            "\n",
            "A zero of a function f is a point x in the domain of the function such that f(x) = 0.\n",
            "In propositional logic, 0 may be used to denote the truth value false.\n",
            "In probability theory, 0 is the smallest allowed value for the probability of any event.\n",
            "Category theory introduces the idea of a zero object, often denoted 0, and the related concept of zero morphisms, which generalize the zero function.\n",
            "\n",
            "\n",
            "== Physics ==\n",
            "The value zero plays a special role for many physical quantities. For some quantities, the zero level is naturally distinguished from all other levels, whereas for others it is more or less arbitrarily chosen. For example, for an absolute temperature (typically measured in kelvins), zero is the lowest possible value. (Negative temperatures can be defined for some physical systems, but negative-temperature systems are not actually colder.) This is in contrast to temperatures on the Celsius scale, for example, where zero is arbitrarily defined to be at the freezing point of water. Measuring sound intensity in decibels or phons, the zero level is arbitrarily set at a reference value—for example, at a value for the threshold of hearing. In physics, the zero-point energy is the lowest possible energy that a quantum mechanical physical system may possess and is the energy of the ground state of the system.\n",
            "\n",
            "\n",
            "== Computer science ==\n",
            "Modern computers store information in binary, that is, using an \"alphabet\" that contains only two symbols, usually chosen to be \"0\" and \"1\". Binary coding is convenient for digital electronics, where \"0\" and \"1\" can stand for the absence or presence of electrical current in a wire. Computer programmers typically use high-level programming languages that are more easily intelligible to humans than the binary instructions that are directly executed by the central processing unit. 0 plays various important roles in high-level languages. For example, a Boolean variable stores a value that is either true or false, and 0 is often the numerical representation of false.0 also plays a role in array indexing. The most common practice throughout human history has been to start counting at one, and this is the practice in early classic programming languages such as Fortran and COBOL. However, in the late 1950s LISP introduced zero-based numbering for arrays while Algol 58 introduced completely flexible basing for array subscripts (allowing any positive, negative, or zero integer as base for array subscripts), and most subsequent programming languages adopted one or other of these positions. For example, the elements of an array are numbered starting from 0 in C, so that for an array of n items the sequence of array indices runs from 0 to n−1.There can be confusion between 0- and 1-based indexing; for example, Java's JDBC indexes parameters from 1 although Java itself uses 0-based indexing.In C, a byte containing the value 0 serves to indicate where a string of characters ends. Also, 0 is a standard way to refer to a null pointer in code.In databases, it is possible for a field not to have a value. It is then said to have a null value. For numeric fields it is not the value zero. For text fields this is not blank nor the empty string. The presence of null values leads to three-valued logic. No longer is a condition either true or false, but it can be undetermined. Any computation including a null value delivers a null result.In mathematics, there is no \"positive zero\" or \"negative zero\" distinct from zero; both −0 and +0 represent exactly the same number. However, in some computer hardware signed number representations, zero has two distinct representations, a positive one grouped with the positive numbers and a negative one grouped with the negatives. This kind of dual representation is known as signed zero, with the latter form sometimes called negative zero. These representations include the signed magnitude and ones' complement binary integer representations (but not the two's complement binary form used in most modern computers), and most floating-point number representations (such as IEEE 754 and IBM S/390 floating-point formats).An epoch, in computing terminology, is the date and time associated with a zero timestamp. The Unix epoch begins the midnight before the first of January 1970. The Classic Mac OS epoch and Palm OS epoch begin the midnight before the first of January 1904.Many APIs and operating systems that require applications to return an integer value as an exit status typically use zero to indicate success and non-zero values to indicate specific error or warning conditions.Programmers often use a slashed zero to avoid confusion with the letter \"O\".\n",
            "\n",
            "\n",
            "== Other fields ==\n",
            "\n",
            "\n",
            "=== Biology ===\n",
            "In comparative zoology and cognitive science, recognition that some animals display awareness of the concept of zero leads to the conclusion that the capability for numerical abstraction arose early in the evolution of species.\n",
            "\n",
            "\n",
            "=== Dating systems ===\n",
            "\n",
            "In the BC calendar era, the year 1 BC is the first year before AD 1; there is not a year zero. By contrast, in astronomical year numbering, the year 1 BC is numbered 0, the year 2 BC is numbered −1, and so forth.\n",
            "\n",
            "\n",
            "== See also ==\n",
            "Grammatical number\n",
            "Mathematical constant\n",
            "Number theory\n",
            "Peano axioms\n",
            "\n",
            "\n",
            "== Notes ==\n",
            "\n",
            "\n",
            "== References ==\n",
            "\n",
            "\n",
            "== Bibliography ==\n",
            "\n",
            "\n",
            "=== Historical studies ===\n",
            "\n",
            "\n",
            "== External links ==\n",
            "\n",
            "Searching for the World's First Zero\n",
            "A History of Zero\n",
            "Zero Saga\n",
            "The History of Algebra\n",
            "Edsger W. Dijkstra: Why numbering should start at zero, EWD831 (PDF of a handwritten manuscript)\n",
            "Zero on In Our Time at the BBC\n",
            "Weisstein, Eric W. \"0\". MathWorld.\n",
            " Texts on Wikisource:\n",
            "\"Zero\". Encyclopædia Britannica (11th ed.). 1911.\n",
            "\"Zero\". Encyclopedia Americana. 1920.\n",
            "\n",
            "Title: Propaganda in Nazi Germany - Wikipedia\n",
            "Description: Propaganda in Nazi Germany ... The propaganda used by the German Nazi Party in the years leading up to and during Adolf Hitler's dictatorship of Germany from 1933 ...\n",
            "\n",
            "Title: 0\n",
            "Description: 0 (zero) is a number representing an empty quantity. Adding 0 to any number leaves that number unchanged. In mathematical terminology, 0 is the additive identity of the integers, rational numbers, real numbers, and complex numbers, as well as other algebraic structures. Multiplying any number by 0 has the result 0, and consequently, division by zero has no meaning in arithmetic.\n",
            "As a numerical digit, 0 plays a crucial role in decimal notation: it indicates that the power of ten corresponding to the place containing a 0 does not contribute to the total. For example, \"205\" in decimal means two hundreds, no tens, and five ones. The same principle applies in place-value notations that uses a base other than ten, such as binary and hexadecimal. The modern use of 0 in this manner derives from Indian mathematics that was transmitted to Europe via medieval Islamic mathematicians and popularized by Fibonacci. It was independently used by the Maya.\n",
            "Common names for the number 0 in English include zero, nought, naught (), and nil. In contexts where at least one adjacent digit distinguishes it from the letter O, the number is sometimes pronounced as oh or o (). Informal or slang terms for 0 include zilch and zip. Historically, ought, aught (), and cipher have also been used.\n",
            "\n",
            "\n",
            "== Etymology ==\n",
            "\n",
            "The word zero came into the English language via French zéro from the Italian zero, a contraction of the Venetian zevero form of Italian zefiro via ṣafira or ṣifr. In pre-Islamic time the word ṣifr (Arabic صفر) had the meaning \"empty\". Sifr evolved to mean zero when it was used to translate śūnya (Sanskrit: शून्य) from India. The first known English use of zero was in 1598.The Italian mathematician Fibonacci (c. 1170 – c. 1250), who grew up in North Africa and is credited with introducing the decimal system to Europe, used the term zephyrum. This became zefiro in Italian, and was then contracted to zero in Venetian. The Italian word zefiro was already in existence (meaning \"west wind\" from Latin and Greek Zephyrus) and may have influenced the spelling when transcribing Arabic ṣifr.\n",
            "\n",
            "\n",
            "=== Modern usage ===\n",
            "Depending on the context, there may be different words used for the number zero, or the concept of zero. For the simple notion of lacking, the words \"nothing\" and \"none\" are often used. The British English words \"nought\" or \"naught\", and \"nil\" are also synonymous.It is often called \"oh\" in the context of reading out a string of digits, such as telephone numbers, street addresses, credit card numbers, military time, or years. For example, the area code 201 may be pronounced \"two oh one\", and the year 1907 is often pronounced \"nineteen oh seven\". The presence of other digits, indicating that the string contains only numbers, avoids confusion with the letter O. For this reason, systems that include strings with both letters and numbers (such as Canadian postal codes) may exclude the use of the letter O.Slang words for zero include \"zip\", \"zilch\", \"nada\", and \"scratch\".  In the context of sports, \"nil\" is sometimes used, especially in British English. Several sports have specific words for a score of zero, such as \"love\" in tennis – from French l'œuf, \"the egg\" – and \"duck\" in cricket, a shortening of \"duck's egg\". \"Goose egg\" is another general slang term used for zero.\n",
            "\n",
            "\n",
            "== History ==\n",
            "\n",
            "\n",
            "=== Ancient Near East ===\n",
            "Ancient Egyptian numerals were of base 10. They used hieroglyphs for the digits and were not positional. In one papyrus written around 1770 BC, a scribe recorded daily incomes and expenditures for the pharaoh's court, using the nfr hieroglyph to indicate cases where the amount of a foodstuff received was exactly equal to the amount disbursed. Egyptologist Alan Gardiner suggested that the nfr hieroglyph was being used as a symbol for zero. The same symbol was also used to indicate the base level in drawings of tombs and pyramids, and distances were measured relative to the base line as being above or below this line.By the middle of the 2nd millennium BC, Babylonian mathematics had a sophisticated base 60 positional numeral system. The lack of a positional value (or zero) was indicated by a space between sexagesimal numerals. In a tablet unearthed at Kish (dating to as early as 700 BC), the scribe Bêl-bân-aplu used three hooks as a placeholder in the same Babylonian system. By 300 BC, a punctuation symbol (two slanted wedges) was repurposed as a placeholder.The Babylonian positional numeral system differed from the later Hindu–Arabic system in that it did not explicitly specify the magnitude of the leading sexagesimal digit, so that for example the lone digit 1 () might represent any of 1, 60, 3600 = 602, etc., similar to the significand of a floating-point number but without an explicit exponent, and so only distinguished implicitly from context. The zero-like placeholder mark was only ever used in between digits, but never alone or at the end of a number.\n",
            "\n",
            "\n",
            "=== Pre-Columbian Americas ===\n",
            "The Mesoamerican Long Count calendar developed in south-central Mexico and Central America required the use of zero as a placeholder within its vigesimal (base-20) positional numeral system. Many different glyphs, including the partial quatrefoil were used as a zero symbol for these Long Count dates, the earliest of which (on Stela 2 at Chiapa de Corzo, Chiapas) has a date of 36 BC.Since the eight earliest Long Count dates appear outside the Maya homeland, it is generally believed that the use of zero in the Americas predated the Maya and was possibly the invention of the Olmecs. Many of the earliest Long Count dates were found within the Olmec heartland, although the Olmec civilization ended by the 4th century BC, several centuries before the earliest known Long Count dates.Although zero became an integral part of Maya numerals, with a different, empty tortoise-like \"shell shape\" used for many depictions of the \"zero\" numeral, it is assumed not to have influenced Old World numeral systems.Quipu, a knotted cord device, used in the Inca Empire and its predecessor societies in the Andean region to record accounting and other digital data, is encoded in a base ten positional system. Zero is represented by the absence of a knot in the appropriate position.\n",
            "\n",
            "\n",
            "=== Classical antiquity ===\n",
            "The ancient Greeks had no symbol for zero (μηδέν, pronounced 'midén'), and did not use a digit placeholder for it. According to mathematician Charles Seife, the ancient Greeks did begin to adopt the Babylonian placeholder zero for their work in astronomy after 500 BC, representing it with the lowercase Greek letter ό (όμικρον: omicron). However, after using the Babylonian placeholder zero for astronomical calculations they would typically convert the numbers back into Greek numerals. Greeks seemed to have a philosophical opposition to using zero as a number. Other scholars give the Greek partial adoption of the Babylonian zero a later date, with neuroscientist Andreas Nieder giving a date of after 400 BC and mathematician Robert Kaplan dating it after the conquests of Alexander.Greeks seemed unsure about the status of zero as a number. Some of them asked themselves, \"How can not being be?\", leading to philosophical and, by the medieval period, religious arguments about the nature and existence of zero and the vacuum. The paradoxes of Zeno of Elea depend in large part on the uncertain interpretation of zero.\n",
            "By AD 150, Ptolemy, influenced by Hipparchus and the Babylonians, was using a symbol for zero (—°) in his work on mathematical astronomy called the Syntaxis Mathematica, also known as the Almagest. This Hellenistic zero was perhaps the earliest documented use of a numeral representing zero in the Old World. Ptolemy used it many times in his Almagest (VI.8) for the magnitude of solar and lunar eclipses. It represented the value of both digits and minutes of immersion at first and last contact. Digits varied continuously from 0 to 12 to 0 as the Moon passed over the Sun (a triangular pulse), where twelve digits was the angular diameter of the Sun. Minutes of immersion was tabulated from 0′0″ to 31′20″ to 0′0″, where 0′0″ used the symbol as a placeholder in two positions of his sexagesimal positional numeral system, while the combination meant a zero angle. Minutes of immersion was also a continuous function 1/12 31′20″ √d(24−d) (a triangular pulse with convex sides), where d was the digit function and 31′20″ was the sum of the radii of the Sun's and Moon's discs. Ptolemy's symbol was a placeholder as well as a number used by two continuous mathematical functions, one within another, so it meant zero, not none.\n",
            "The earliest use of zero in the calculation of the Julian Easter occurred before AD 311, at the first entry in a table of epacts as preserved in an Ethiopic document for the years 311 to 369, using a Ge'ez word for \"none\" (English translation is \"0\" elsewhere) alongside Ge'ez numerals (based on Greek numerals), which was translated from an equivalent table published by the Church of Alexandria in Medieval Greek. This use was repeated in 525 in an equivalent table, that was translated via the Latin nulla (\"none\") by Dionysius Exiguus, alongside Roman numerals. When division produced zero as a remainder, nihil, meaning \"nothing\", was used. These medieval zeros were used by all future medieval calculators of Easter. The initial \"N\" was used as a zero symbol in a table of Roman numerals by Bede—or his colleagues—around AD 725.In most cultures, 0 was identified before the idea of negative things (i.e., quantities less than zero) was accepted.\n",
            "\n",
            "\n",
            "=== China ===\n",
            "The Sūnzĭ Suànjīng, of unknown date but estimated to be dated from the 1st to 5th centuries AD, and Japanese records dated from the 18th century, describe how the  4th century BC Chinese counting rods system enabled one to perform decimal calculations. As noted in the Xiahou Yang Suanjing (425–468 AD), to multiply or divide a number by 10, 100, 1000, or 10000, all one needs to do, with rods on the counting board, is to move them forwards, or back, by 1, 2, 3, or 4 places. According to A History of Mathematics, the rods \"gave the decimal representation of a number, with an empty space denoting zero\". The counting rod system is considered a positional notation system.Zero was not treated as a number at that time, but as a \"vacant position\". Qín Jiǔsháo's 1247 Mathematical Treatise in Nine Sections is the oldest surviving Chinese mathematical text using a round symbol 〇 for zero. The origin of this symbol is unknown; it may have been borrowed from Indian sources or produced by modifying a square symbol. Chinese authors had been familiar with the idea of negative numbers by the Han dynasty (2nd century AD), as seen in The Nine Chapters on the Mathematical Art.\n",
            "\n",
            "\n",
            "=== India ===\n",
            "Pingala (c. 3rd or 2nd century BC), a Sanskrit prosody scholar, used binary numbers in the form of short and long syllables (the latter equal in length to two short syllables), a notation similar to Morse code. Pingala used the Sanskrit word śūnya explicitly to refer to zero.The concept of zero as a written digit in the decimal place value notation was developed in India. A symbol for zero, a large dot likely to be the precursor of the still-current hollow symbol, is used throughout the Bakhshali manuscript, a practical manual on arithmetic for merchants. In 2017, three samples from the manuscript were shown by radiocarbon dating to come from three different centuries: from AD 224–383, AD 680–779, and AD 885–993, making it South Asia's oldest recorded use of the zero symbol. It is not known how the birch bark fragments from different centuries forming the manuscript came to be packaged together.The Lokavibhāga, a Jain text on cosmology surviving in a medieval Sanskrit translation of the Prakrit original, which is internally dated to AD 458 (Saka era 380), uses a decimal place-value system, including a zero. In this text, śūnya (\"void, empty\") is also used to refer to zero.The Aryabhatiya (c. 500), states sthānāt sthānaṁ daśaguṇaṁ syāt \"from place to place each is ten times the preceding\".Rules governing the use of zero appeared in Brahmagupta's Brahmasputha Siddhanta (7th century), which states the sum of zero with itself as zero, and incorrectly describes division by zero in the following way:\n",
            "A positive or negative number when divided by zero is a fraction with the zero as denominator. Zero divided by a negative or positive number is either zero or is expressed as a fraction with zero as numerator and the finite quantity as denominator. Zero divided by zero is zero.\n",
            "\n",
            "\n",
            "==== Epigraphy ====\n",
            "A black dot is used as a decimal placeholder in the Bakhshali manuscript, portions of which date from AD 224–993.There are numerous copper plate inscriptions, with the same small O in them, some of them possibly dated to the 6th century, but their date or authenticity may be open to doubt.A stone tablet found in the ruins of a temple near Sambor on the Mekong, Kratié Province, Cambodia, includes the inscription of \"605\" in Khmer numerals (a set of numeral glyphs for the Hindu–Arabic numeral system). The number is the year of the inscription in the Saka era, corresponding to a date of AD 683.The first known use of special glyphs for the decimal digits that includes the indubitable appearance of a symbol for the digit zero, a small circle, appears on a stone inscription found at the Chaturbhuj Temple, Gwalior, in India, dated 876.\n",
            "\n",
            "\n",
            "=== Middle Ages ===\n",
            "\n",
            "\n",
            "==== Transmission to Islamic culture ====\n",
            "\n",
            "The Arabic-language inheritance of science was largely Greek, followed by Hindu influences. In 773, at Al-Mansur's behest, translations were made of many ancient treatises including Greek, Roman, Indian, and others.\n",
            "In AD 813, astronomical tables were prepared by a Persian mathematician, Muḥammad ibn Mūsā al-Khwārizmī, using Hindu numerals; and about 825, he published a book synthesizing Greek and Hindu knowledge and also contained his own contribution to mathematics including an explanation of the use of zero. This book was later translated into Latin in the 12th century under the title Algoritmi de numero Indorum. This title means \"al-Khwarizmi on the Numerals of the Indians\". The word \"Algoritmi\" was the translator's Latinization of Al-Khwarizmi's name, and the word \"Algorithm\" or \"Algorism\" started to acquire a meaning of any arithmetic based on decimals.Muhammad ibn Ahmad al-Khwarizmi, in 976, stated that if no number appears in the place of tens in a calculation, a little circle should be used \"to keep the rows\". This circle was called ṣifr.\n",
            "\n",
            "\n",
            "==== Transmission to Europe ====\n",
            "The Hindu–Arabic numeral system (base 10) reached Western Europe in the 11th century, via Al-Andalus, through Spanish Muslims, the Moors, together with knowledge of classical astronomy and instruments like the astrolabe. Gerbert of Aurillac is credited with reintroducing the lost teachings into Catholic Europe. For this reason, the numerals came to be known in Europe as \"Arabic numerals\". The Italian mathematician Fibonacci or Leonardo of Pisa was instrumental in bringing the system into European mathematics in 1202, stating:\n",
            "\n",
            "After my father's appointment by his homeland as state official in the customs house of Bugia for the Pisan merchants who thronged to it, he took charge; and in view of its future usefulness and convenience, had me in my boyhood come to him and there wanted me to devote myself to and be instructed in the study of calculation for some days. There, following my introduction, as a consequence of marvelous instruction in the art, to the nine digits of the Hindus, the knowledge of the art very much appealed to me before all others, and for it I realized that all its aspects were studied in Egypt, Syria, Greece, Sicily, and Provence, with their varying methods; and at these places thereafter, while on business. I pursued my study in depth and learned the give-and-take of disputation. But all this even, and the algorism, as well as the art of Pythagoras, I considered as almost a mistake in respect to the method of the Hindus [Modus Indorum]. Therefore, embracing more stringently that method of the Hindus, and taking stricter pains in its study, while adding certain things from my own understanding and inserting also certain things from the niceties of Euclid's geometric art. I have striven to compose this book in its entirety as understandably as I could, dividing it into fifteen chapters. Almost everything which I have introduced I have displayed with exact proof, in order that those further seeking this knowledge, with its pre-eminent method, might be instructed, and further, in order that the Latin people might not be discovered to be without it, as they have been up to now. If I have perchance omitted anything more or less proper or necessary, I beg indulgence, since there is no one who is blameless and utterly provident in all things. The nine Indian figures are: 9 8 7 6 5 4 3 2 1. With these nine figures, and with the sign 0  ... any number may be written.\n",
            "From the 13th century, manuals on calculation (adding, multiplying, extracting roots, etc.) became common in Europe where they were called algorismus after the Persian mathematician al-Khwārizmī. One popular manual was written by Johannes de Sacrobosco in the early 1200s and was one of the earliest scientific books to be printed, in 1488. The practice of calculating on paper using Hindu–Arabic numerals only gradually displaced calculation by abacus and recording with Roman numerals. In the 16th century, Hindu–Arabic numerals became the predominant numerals used in Europe.\n",
            "\n",
            "\n",
            "== Symbols and representations ==\n",
            "\n",
            "Today, the numerical digit 0 is usually written as a circle or ellipse. Traditionally, many print typefaces made the capital letter O more rounded than the narrower, elliptical digit 0. Typewriters originally made no distinction in shape between O and 0; some models did not even have a separate key for the digit 0. The distinction came into prominence on modern character displays.A slashed zero (0/{\\displaystyle 0\\!\\!\\!{/}}) is often used to distinguish the number from the letter (mostly in computing, navigation and in the military, for example). The digit 0 with a dot in the center seems to have originated as an option on IBM 3270 displays and has continued with some modern computer typefaces such as Andalé Mono, and in some airline reservation systems. One variation uses a short vertical bar instead of the dot. Some fonts designed for use with computers made one of the capital-O–digit-0 pair more rounded and the other more angular (closer to a rectangle). A further distinction is made in falsification-hindering typeface as used on German car number plates by slitting open the digit 0 on the upper right side. In some systems either the letter O or the numeral 0, or both, are excluded from use, to avoid confusion.\n",
            "\n",
            "\n",
            "== Mathematics ==\n",
            "\n",
            "The concept of zero plays multiple roles in mathematics: as a digit, it is an important part of positional notation for representing numbers, while it also plays an important role as a number in its own right in many algebraic settings.\n",
            "\n",
            "\n",
            "=== As a digit ===\n",
            "\n",
            "In positional number systems (such as the usual decimal notation for representing numbers), the digit 0 plays the role of a placeholder, indicating that certain powers of the base do not contribute.  For example, the decimal number 205 is the sum of two hundreds and five ones, with the 0 digit indicating that no tens are added.  The digit plays the same role in decimal fractions and in the decimal representation of other real numbers (indicating whether any tenths, hundredths, thousandths, etc., are present) and in bases other than 10 (for example, in binary, where it indicates which powers of 2 are omitted).\n",
            "\n",
            "\n",
            "=== Elementary algebra ===\n",
            "The number 0 is the smallest nonnegative integer, and the largest nonpositive integer. The natural number following 0 is 1 and no natural number precedes 0. The number 0 may or may not be considered a natural number, but it is an integer, and hence a rational number and a real number. All rational numbers are algebraic numbers, including 0. When the real numbers are extended to form the complex numbers, 0 becomes the origin of the complex plane.\n",
            "The number 0 can be regarded as neither positive nor negative or, alternatively, both positive and negative and is usually displayed as the central number in a number line. Zero is even (that is, a multiple of 2), and is also an integer multiple of any other integer, rational, or real number. It is neither a prime number nor a composite number: it is not prime because prime numbers are greater than 1 by definition, and it is not composite because it cannot be expressed as the product of two smaller natural numbers. (However, the singleton set {0} is a prime ideal in the ring of the integers.)\n",
            "The following are some basic rules for dealing with the number 0. These rules apply for any real or complex number x, unless otherwise stated.\n",
            "\n",
            "Addition: x + 0 = 0 + x = x. That is, 0 is an identity element (or neutral element) with respect to addition.\n",
            "Subtraction: x − 0 = x and 0 − x = −x.\n",
            "Multiplication: x · 0 = 0 · x = 0.\n",
            "Division: 0/x = 0, for nonzero x. But x/0 is undefined, because 0 has no multiplicative inverse (no real number multiplied by 0 produces 1), a consequence of the previous rule.\n",
            "Exponentiation: x0 = x/x = 1, except that the case x = 0 is considered undefined in some contexts. For all positive real x, 0x = 0.The expression 0/0, which may be obtained in an attempt to determine the limit of an expression of the form f(x)/g(x) as a result of applying the lim operator independently to both operands of the fraction, is a so-called \"indeterminate form\". That does not mean that the limit sought is necessarily undefined; rather, it means that the limit of f(x)/g(x), if it exists, must be found by another method, such as l'Hôpital's rule.The sum of 0 numbers (the empty sum) is 0, and the product of 0 numbers (the empty product) is 1. The factorial 0! evaluates to 1, as a special case of the empty product.\n",
            "\n",
            "\n",
            "=== Other uses in mathematics ===\n",
            "The role of 0 as the smallest counting number can be generalized or extended in various ways.  In set theory, 0 is the cardinality of the empty set: if one does not have any apples, then one has 0 apples. In fact, in certain axiomatic developments of mathematics from set theory, 0 is defined to be the empty set. When this is done, the empty set is the von Neumann cardinal assignment for a set with no elements, which is the empty set. The cardinality function, applied to the empty set, returns the empty set as a value, thereby assigning it 0 elements.\n",
            "Also in set theory, 0 is the lowest ordinal number, corresponding to the empty set viewed as a well-ordered set.  In order theory (and especially its subfield lattice theory), 0 may denote the least element of a lattice or other partially ordered set.\n",
            "The role of 0 as additive identity generalizes beyond elementary algebra.  In abstract algebra, 0 is commonly used to denote a zero element, which is the identity element for addition (if defined on the structure under consideration) and an absorbing element for multiplication (if defined).  (Such elements may also be called zero elements.)  Examples include identity elements of additive groups and vector spaces.  Another example is the zero function (or zero map) on a domain D.  This is the constant function with 0 as its only possible output value, that is, it is the function f defined by f(x) = 0 for all x in D.  As a function from the real numbers to the real numbers, the zero function is the only function that is both even and odd.\n",
            "The number 0 is also used in several other ways within various branches of mathematics:\n",
            "\n",
            "A zero of a function f is a point x in the domain of the function such that f(x) = 0.\n",
            "In propositional logic, 0 may be used to denote the truth value false.\n",
            "In probability theory, 0 is the smallest allowed value for the probability of any event.\n",
            "Category theory introduces the idea of a zero object, often denoted 0, and the related concept of zero morphisms, which generalize the zero function.\n",
            "\n",
            "\n",
            "== Physics ==\n",
            "The value zero plays a special role for many physical quantities. For some quantities, the zero level is naturally distinguished from all other levels, whereas for others it is more or less arbitrarily chosen. For example, for an absolute temperature (typically measured in kelvins), zero is the lowest possible value. (Negative temperatures can be defined for some physical systems, but negative-temperature systems are not actually colder.) This is in contrast to temperatures on the Celsius scale, for example, where zero is arbitrarily defined to be at the freezing point of water. Measuring sound intensity in decibels or phons, the zero level is arbitrarily set at a reference value—for example, at a value for the threshold of hearing. In physics, the zero-point energy is the lowest possible energy that a quantum mechanical physical system may possess and is the energy of the ground state of the system.\n",
            "\n",
            "\n",
            "== Computer science ==\n",
            "Modern computers store information in binary, that is, using an \"alphabet\" that contains only two symbols, usually chosen to be \"0\" and \"1\". Binary coding is convenient for digital electronics, where \"0\" and \"1\" can stand for the absence or presence of electrical current in a wire. Computer programmers typically use high-level programming languages that are more easily intelligible to humans than the binary instructions that are directly executed by the central processing unit. 0 plays various important roles in high-level languages. For example, a Boolean variable stores a value that is either true or false, and 0 is often the numerical representation of false.0 also plays a role in array indexing. The most common practice throughout human history has been to start counting at one, and this is the practice in early classic programming languages such as Fortran and COBOL. However, in the late 1950s LISP introduced zero-based numbering for arrays while Algol 58 introduced completely flexible basing for array subscripts (allowing any positive, negative, or zero integer as base for array subscripts), and most subsequent programming languages adopted one or other of these positions. For example, the elements of an array are numbered starting from 0 in C, so that for an array of n items the sequence of array indices runs from 0 to n−1.There can be confusion between 0- and 1-based indexing; for example, Java's JDBC indexes parameters from 1 although Java itself uses 0-based indexing.In C, a byte containing the value 0 serves to indicate where a string of characters ends. Also, 0 is a standard way to refer to a null pointer in code.In databases, it is possible for a field not to have a value. It is then said to have a null value. For numeric fields it is not the value zero. For text fields this is not blank nor the empty string. The presence of null values leads to three-valued logic. No longer is a condition either true or false, but it can be undetermined. Any computation including a null value delivers a null result.In mathematics, there is no \"positive zero\" or \"negative zero\" distinct from zero; both −0 and +0 represent exactly the same number. However, in some computer hardware signed number representations, zero has two distinct representations, a positive one grouped with the positive numbers and a negative one grouped with the negatives. This kind of dual representation is known as signed zero, with the latter form sometimes called negative zero. These representations include the signed magnitude and ones' complement binary integer representations (but not the two's complement binary form used in most modern computers), and most floating-point number representations (such as IEEE 754 and IBM S/390 floating-point formats).An epoch, in computing terminology, is the date and time associated with a zero timestamp. The Unix epoch begins the midnight before the first of January 1970. The Classic Mac OS epoch and Palm OS epoch begin the midnight before the first of January 1904.Many APIs and operating systems that require applications to return an integer value as an exit status typically use zero to indicate success and non-zero values to indicate specific error or warning conditions.Programmers often use a slashed zero to avoid confusion with the letter \"O\".\n",
            "\n",
            "\n",
            "== Other fields ==\n",
            "\n",
            "\n",
            "=== Biology ===\n",
            "In comparative zoology and cognitive science, recognition that some animals display awareness of the concept of zero leads to the conclusion that the capability for numerical abstraction arose early in the evolution of species.\n",
            "\n",
            "\n",
            "=== Dating systems ===\n",
            "\n",
            "In the BC calendar era, the year 1 BC is the first year before AD 1; there is not a year zero. By contrast, in astronomical year numbering, the year 1 BC is numbered 0, the year 2 BC is numbered −1, and so forth.\n",
            "\n",
            "\n",
            "== See also ==\n",
            "Grammatical number\n",
            "Mathematical constant\n",
            "Number theory\n",
            "Peano axioms\n",
            "\n",
            "\n",
            "== Notes ==\n",
            "\n",
            "\n",
            "== References ==\n",
            "\n",
            "\n",
            "== Bibliography ==\n",
            "\n",
            "\n",
            "=== Historical studies ===\n",
            "\n",
            "\n",
            "== External links ==\n",
            "\n",
            "Searching for the World's First Zero\n",
            "A History of Zero\n",
            "Zero Saga\n",
            "The History of Algebra\n",
            "Edsger W. Dijkstra: Why numbering should start at zero, EWD831 (PDF of a handwritten manuscript)\n",
            "Zero on In Our Time at the BBC\n",
            "Weisstein, Eric W. \"0\". MathWorld.\n",
            " Texts on Wikisource:\n",
            "\"Zero\". Encyclopædia Britannica (11th ed.). 1911.\n",
            "\"Zero\". Encyclopedia Americana. 1920.\n",
            "\n",
            "Title: Treaty of Versailles - Wikipedia\n",
            "Description: The treaty required Germany to disarm, make territorial concessions, extradite alleged war criminals, agree to Kaiser Wilhelm being put on trial, recognise the ...\n",
            "\n",
            "Title: 0\n",
            "Description: 0 (zero) is a number representing an empty quantity. Adding 0 to any number leaves that number unchanged. In mathematical terminology, 0 is the additive identity of the integers, rational numbers, real numbers, and complex numbers, as well as other algebraic structures. Multiplying any number by 0 has the result 0, and consequently, division by zero has no meaning in arithmetic.\n",
            "As a numerical digit, 0 plays a crucial role in decimal notation: it indicates that the power of ten corresponding to the place containing a 0 does not contribute to the total. For example, \"205\" in decimal means two hundreds, no tens, and five ones. The same principle applies in place-value notations that uses a base other than ten, such as binary and hexadecimal. The modern use of 0 in this manner derives from Indian mathematics that was transmitted to Europe via medieval Islamic mathematicians and popularized by Fibonacci. It was independently used by the Maya.\n",
            "Common names for the number 0 in English include zero, nought, naught (), and nil. In contexts where at least one adjacent digit distinguishes it from the letter O, the number is sometimes pronounced as oh or o (). Informal or slang terms for 0 include zilch and zip. Historically, ought, aught (), and cipher have also been used.\n",
            "\n",
            "\n",
            "== Etymology ==\n",
            "\n",
            "The word zero came into the English language via French zéro from the Italian zero, a contraction of the Venetian zevero form of Italian zefiro via ṣafira or ṣifr. In pre-Islamic time the word ṣifr (Arabic صفر) had the meaning \"empty\". Sifr evolved to mean zero when it was used to translate śūnya (Sanskrit: शून्य) from India. The first known English use of zero was in 1598.The Italian mathematician Fibonacci (c. 1170 – c. 1250), who grew up in North Africa and is credited with introducing the decimal system to Europe, used the term zephyrum. This became zefiro in Italian, and was then contracted to zero in Venetian. The Italian word zefiro was already in existence (meaning \"west wind\" from Latin and Greek Zephyrus) and may have influenced the spelling when transcribing Arabic ṣifr.\n",
            "\n",
            "\n",
            "=== Modern usage ===\n",
            "Depending on the context, there may be different words used for the number zero, or the concept of zero. For the simple notion of lacking, the words \"nothing\" and \"none\" are often used. The British English words \"nought\" or \"naught\", and \"nil\" are also synonymous.It is often called \"oh\" in the context of reading out a string of digits, such as telephone numbers, street addresses, credit card numbers, military time, or years. For example, the area code 201 may be pronounced \"two oh one\", and the year 1907 is often pronounced \"nineteen oh seven\". The presence of other digits, indicating that the string contains only numbers, avoids confusion with the letter O. For this reason, systems that include strings with both letters and numbers (such as Canadian postal codes) may exclude the use of the letter O.Slang words for zero include \"zip\", \"zilch\", \"nada\", and \"scratch\".  In the context of sports, \"nil\" is sometimes used, especially in British English. Several sports have specific words for a score of zero, such as \"love\" in tennis – from French l'œuf, \"the egg\" – and \"duck\" in cricket, a shortening of \"duck's egg\". \"Goose egg\" is another general slang term used for zero.\n",
            "\n",
            "\n",
            "== History ==\n",
            "\n",
            "\n",
            "=== Ancient Near East ===\n",
            "Ancient Egyptian numerals were of base 10. They used hieroglyphs for the digits and were not positional. In one papyrus written around 1770 BC, a scribe recorded daily incomes and expenditures for the pharaoh's court, using the nfr hieroglyph to indicate cases where the amount of a foodstuff received was exactly equal to the amount disbursed. Egyptologist Alan Gardiner suggested that the nfr hieroglyph was being used as a symbol for zero. The same symbol was also used to indicate the base level in drawings of tombs and pyramids, and distances were measured relative to the base line as being above or below this line.By the middle of the 2nd millennium BC, Babylonian mathematics had a sophisticated base 60 positional numeral system. The lack of a positional value (or zero) was indicated by a space between sexagesimal numerals. In a tablet unearthed at Kish (dating to as early as 700 BC), the scribe Bêl-bân-aplu used three hooks as a placeholder in the same Babylonian system. By 300 BC, a punctuation symbol (two slanted wedges) was repurposed as a placeholder.The Babylonian positional numeral system differed from the later Hindu–Arabic system in that it did not explicitly specify the magnitude of the leading sexagesimal digit, so that for example the lone digit 1 () might represent any of 1, 60, 3600 = 602, etc., similar to the significand of a floating-point number but without an explicit exponent, and so only distinguished implicitly from context. The zero-like placeholder mark was only ever used in between digits, but never alone or at the end of a number.\n",
            "\n",
            "\n",
            "=== Pre-Columbian Americas ===\n",
            "The Mesoamerican Long Count calendar developed in south-central Mexico and Central America required the use of zero as a placeholder within its vigesimal (base-20) positional numeral system. Many different glyphs, including the partial quatrefoil were used as a zero symbol for these Long Count dates, the earliest of which (on Stela 2 at Chiapa de Corzo, Chiapas) has a date of 36 BC.Since the eight earliest Long Count dates appear outside the Maya homeland, it is generally believed that the use of zero in the Americas predated the Maya and was possibly the invention of the Olmecs. Many of the earliest Long Count dates were found within the Olmec heartland, although the Olmec civilization ended by the 4th century BC, several centuries before the earliest known Long Count dates.Although zero became an integral part of Maya numerals, with a different, empty tortoise-like \"shell shape\" used for many depictions of the \"zero\" numeral, it is assumed not to have influenced Old World numeral systems.Quipu, a knotted cord device, used in the Inca Empire and its predecessor societies in the Andean region to record accounting and other digital data, is encoded in a base ten positional system. Zero is represented by the absence of a knot in the appropriate position.\n",
            "\n",
            "\n",
            "=== Classical antiquity ===\n",
            "The ancient Greeks had no symbol for zero (μηδέν, pronounced 'midén'), and did not use a digit placeholder for it. According to mathematician Charles Seife, the ancient Greeks did begin to adopt the Babylonian placeholder zero for their work in astronomy after 500 BC, representing it with the lowercase Greek letter ό (όμικρον: omicron). However, after using the Babylonian placeholder zero for astronomical calculations they would typically convert the numbers back into Greek numerals. Greeks seemed to have a philosophical opposition to using zero as a number. Other scholars give the Greek partial adoption of the Babylonian zero a later date, with neuroscientist Andreas Nieder giving a date of after 400 BC and mathematician Robert Kaplan dating it after the conquests of Alexander.Greeks seemed unsure about the status of zero as a number. Some of them asked themselves, \"How can not being be?\", leading to philosophical and, by the medieval period, religious arguments about the nature and existence of zero and the vacuum. The paradoxes of Zeno of Elea depend in large part on the uncertain interpretation of zero.\n",
            "By AD 150, Ptolemy, influenced by Hipparchus and the Babylonians, was using a symbol for zero (—°) in his work on mathematical astronomy called the Syntaxis Mathematica, also known as the Almagest. This Hellenistic zero was perhaps the earliest documented use of a numeral representing zero in the Old World. Ptolemy used it many times in his Almagest (VI.8) for the magnitude of solar and lunar eclipses. It represented the value of both digits and minutes of immersion at first and last contact. Digits varied continuously from 0 to 12 to 0 as the Moon passed over the Sun (a triangular pulse), where twelve digits was the angular diameter of the Sun. Minutes of immersion was tabulated from 0′0″ to 31′20″ to 0′0″, where 0′0″ used the symbol as a placeholder in two positions of his sexagesimal positional numeral system, while the combination meant a zero angle. Minutes of immersion was also a continuous function 1/12 31′20″ √d(24−d) (a triangular pulse with convex sides), where d was the digit function and 31′20″ was the sum of the radii of the Sun's and Moon's discs. Ptolemy's symbol was a placeholder as well as a number used by two continuous mathematical functions, one within another, so it meant zero, not none.\n",
            "The earliest use of zero in the calculation of the Julian Easter occurred before AD 311, at the first entry in a table of epacts as preserved in an Ethiopic document for the years 311 to 369, using a Ge'ez word for \"none\" (English translation is \"0\" elsewhere) alongside Ge'ez numerals (based on Greek numerals), which was translated from an equivalent table published by the Church of Alexandria in Medieval Greek. This use was repeated in 525 in an equivalent table, that was translated via the Latin nulla (\"none\") by Dionysius Exiguus, alongside Roman numerals. When division produced zero as a remainder, nihil, meaning \"nothing\", was used. These medieval zeros were used by all future medieval calculators of Easter. The initial \"N\" was used as a zero symbol in a table of Roman numerals by Bede—or his colleagues—around AD 725.In most cultures, 0 was identified before the idea of negative things (i.e., quantities less than zero) was accepted.\n",
            "\n",
            "\n",
            "=== China ===\n",
            "The Sūnzĭ Suànjīng, of unknown date but estimated to be dated from the 1st to 5th centuries AD, and Japanese records dated from the 18th century, describe how the  4th century BC Chinese counting rods system enabled one to perform decimal calculations. As noted in the Xiahou Yang Suanjing (425–468 AD), to multiply or divide a number by 10, 100, 1000, or 10000, all one needs to do, with rods on the counting board, is to move them forwards, or back, by 1, 2, 3, or 4 places. According to A History of Mathematics, the rods \"gave the decimal representation of a number, with an empty space denoting zero\". The counting rod system is considered a positional notation system.Zero was not treated as a number at that time, but as a \"vacant position\". Qín Jiǔsháo's 1247 Mathematical Treatise in Nine Sections is the oldest surviving Chinese mathematical text using a round symbol 〇 for zero. The origin of this symbol is unknown; it may have been borrowed from Indian sources or produced by modifying a square symbol. Chinese authors had been familiar with the idea of negative numbers by the Han dynasty (2nd century AD), as seen in The Nine Chapters on the Mathematical Art.\n",
            "\n",
            "\n",
            "=== India ===\n",
            "Pingala (c. 3rd or 2nd century BC), a Sanskrit prosody scholar, used binary numbers in the form of short and long syllables (the latter equal in length to two short syllables), a notation similar to Morse code. Pingala used the Sanskrit word śūnya explicitly to refer to zero.The concept of zero as a written digit in the decimal place value notation was developed in India. A symbol for zero, a large dot likely to be the precursor of the still-current hollow symbol, is used throughout the Bakhshali manuscript, a practical manual on arithmetic for merchants. In 2017, three samples from the manuscript were shown by radiocarbon dating to come from three different centuries: from AD 224–383, AD 680–779, and AD 885–993, making it South Asia's oldest recorded use of the zero symbol. It is not known how the birch bark fragments from different centuries forming the manuscript came to be packaged together.The Lokavibhāga, a Jain text on cosmology surviving in a medieval Sanskrit translation of the Prakrit original, which is internally dated to AD 458 (Saka era 380), uses a decimal place-value system, including a zero. In this text, śūnya (\"void, empty\") is also used to refer to zero.The Aryabhatiya (c. 500), states sthānāt sthānaṁ daśaguṇaṁ syāt \"from place to place each is ten times the preceding\".Rules governing the use of zero appeared in Brahmagupta's Brahmasputha Siddhanta (7th century), which states the sum of zero with itself as zero, and incorrectly describes division by zero in the following way:\n",
            "A positive or negative number when divided by zero is a fraction with the zero as denominator. Zero divided by a negative or positive number is either zero or is expressed as a fraction with zero as numerator and the finite quantity as denominator. Zero divided by zero is zero.\n",
            "\n",
            "\n",
            "==== Epigraphy ====\n",
            "A black dot is used as a decimal placeholder in the Bakhshali manuscript, portions of which date from AD 224–993.There are numerous copper plate inscriptions, with the same small O in them, some of them possibly dated to the 6th century, but their date or authenticity may be open to doubt.A stone tablet found in the ruins of a temple near Sambor on the Mekong, Kratié Province, Cambodia, includes the inscription of \"605\" in Khmer numerals (a set of numeral glyphs for the Hindu–Arabic numeral system). The number is the year of the inscription in the Saka era, corresponding to a date of AD 683.The first known use of special glyphs for the decimal digits that includes the indubitable appearance of a symbol for the digit zero, a small circle, appears on a stone inscription found at the Chaturbhuj Temple, Gwalior, in India, dated 876.\n",
            "\n",
            "\n",
            "=== Middle Ages ===\n",
            "\n",
            "\n",
            "==== Transmission to Islamic culture ====\n",
            "\n",
            "The Arabic-language inheritance of science was largely Greek, followed by Hindu influences. In 773, at Al-Mansur's behest, translations were made of many ancient treatises including Greek, Roman, Indian, and others.\n",
            "In AD 813, astronomical tables were prepared by a Persian mathematician, Muḥammad ibn Mūsā al-Khwārizmī, using Hindu numerals; and about 825, he published a book synthesizing Greek and Hindu knowledge and also contained his own contribution to mathematics including an explanation of the use of zero. This book was later translated into Latin in the 12th century under the title Algoritmi de numero Indorum. This title means \"al-Khwarizmi on the Numerals of the Indians\". The word \"Algoritmi\" was the translator's Latinization of Al-Khwarizmi's name, and the word \"Algorithm\" or \"Algorism\" started to acquire a meaning of any arithmetic based on decimals.Muhammad ibn Ahmad al-Khwarizmi, in 976, stated that if no number appears in the place of tens in a calculation, a little circle should be used \"to keep the rows\". This circle was called ṣifr.\n",
            "\n",
            "\n",
            "==== Transmission to Europe ====\n",
            "The Hindu–Arabic numeral system (base 10) reached Western Europe in the 11th century, via Al-Andalus, through Spanish Muslims, the Moors, together with knowledge of classical astronomy and instruments like the astrolabe. Gerbert of Aurillac is credited with reintroducing the lost teachings into Catholic Europe. For this reason, the numerals came to be known in Europe as \"Arabic numerals\". The Italian mathematician Fibonacci or Leonardo of Pisa was instrumental in bringing the system into European mathematics in 1202, stating:\n",
            "\n",
            "After my father's appointment by his homeland as state official in the customs house of Bugia for the Pisan merchants who thronged to it, he took charge; and in view of its future usefulness and convenience, had me in my boyhood come to him and there wanted me to devote myself to and be instructed in the study of calculation for some days. There, following my introduction, as a consequence of marvelous instruction in the art, to the nine digits of the Hindus, the knowledge of the art very much appealed to me before all others, and for it I realized that all its aspects were studied in Egypt, Syria, Greece, Sicily, and Provence, with their varying methods; and at these places thereafter, while on business. I pursued my study in depth and learned the give-and-take of disputation. But all this even, and the algorism, as well as the art of Pythagoras, I considered as almost a mistake in respect to the method of the Hindus [Modus Indorum]. Therefore, embracing more stringently that method of the Hindus, and taking stricter pains in its study, while adding certain things from my own understanding and inserting also certain things from the niceties of Euclid's geometric art. I have striven to compose this book in its entirety as understandably as I could, dividing it into fifteen chapters. Almost everything which I have introduced I have displayed with exact proof, in order that those further seeking this knowledge, with its pre-eminent method, might be instructed, and further, in order that the Latin people might not be discovered to be without it, as they have been up to now. If I have perchance omitted anything more or less proper or necessary, I beg indulgence, since there is no one who is blameless and utterly provident in all things. The nine Indian figures are: 9 8 7 6 5 4 3 2 1. With these nine figures, and with the sign 0  ... any number may be written.\n",
            "From the 13th century, manuals on calculation (adding, multiplying, extracting roots, etc.) became common in Europe where they were called algorismus after the Persian mathematician al-Khwārizmī. One popular manual was written by Johannes de Sacrobosco in the early 1200s and was one of the earliest scientific books to be printed, in 1488. The practice of calculating on paper using Hindu–Arabic numerals only gradually displaced calculation by abacus and recording with Roman numerals. In the 16th century, Hindu–Arabic numerals became the predominant numerals used in Europe.\n",
            "\n",
            "\n",
            "== Symbols and representations ==\n",
            "\n",
            "Today, the numerical digit 0 is usually written as a circle or ellipse. Traditionally, many print typefaces made the capital letter O more rounded than the narrower, elliptical digit 0. Typewriters originally made no distinction in shape between O and 0; some models did not even have a separate key for the digit 0. The distinction came into prominence on modern character displays.A slashed zero (0/{\\displaystyle 0\\!\\!\\!{/}}) is often used to distinguish the number from the letter (mostly in computing, navigation and in the military, for example). The digit 0 with a dot in the center seems to have originated as an option on IBM 3270 displays and has continued with some modern computer typefaces such as Andalé Mono, and in some airline reservation systems. One variation uses a short vertical bar instead of the dot. Some fonts designed for use with computers made one of the capital-O–digit-0 pair more rounded and the other more angular (closer to a rectangle). A further distinction is made in falsification-hindering typeface as used on German car number plates by slitting open the digit 0 on the upper right side. In some systems either the letter O or the numeral 0, or both, are excluded from use, to avoid confusion.\n",
            "\n",
            "\n",
            "== Mathematics ==\n",
            "\n",
            "The concept of zero plays multiple roles in mathematics: as a digit, it is an important part of positional notation for representing numbers, while it also plays an important role as a number in its own right in many algebraic settings.\n",
            "\n",
            "\n",
            "=== As a digit ===\n",
            "\n",
            "In positional number systems (such as the usual decimal notation for representing numbers), the digit 0 plays the role of a placeholder, indicating that certain powers of the base do not contribute.  For example, the decimal number 205 is the sum of two hundreds and five ones, with the 0 digit indicating that no tens are added.  The digit plays the same role in decimal fractions and in the decimal representation of other real numbers (indicating whether any tenths, hundredths, thousandths, etc., are present) and in bases other than 10 (for example, in binary, where it indicates which powers of 2 are omitted).\n",
            "\n",
            "\n",
            "=== Elementary algebra ===\n",
            "The number 0 is the smallest nonnegative integer, and the largest nonpositive integer. The natural number following 0 is 1 and no natural number precedes 0. The number 0 may or may not be considered a natural number, but it is an integer, and hence a rational number and a real number. All rational numbers are algebraic numbers, including 0. When the real numbers are extended to form the complex numbers, 0 becomes the origin of the complex plane.\n",
            "The number 0 can be regarded as neither positive nor negative or, alternatively, both positive and negative and is usually displayed as the central number in a number line. Zero is even (that is, a multiple of 2), and is also an integer multiple of any other integer, rational, or real number. It is neither a prime number nor a composite number: it is not prime because prime numbers are greater than 1 by definition, and it is not composite because it cannot be expressed as the product of two smaller natural numbers. (However, the singleton set {0} is a prime ideal in the ring of the integers.)\n",
            "The following are some basic rules for dealing with the number 0. These rules apply for any real or complex number x, unless otherwise stated.\n",
            "\n",
            "Addition: x + 0 = 0 + x = x. That is, 0 is an identity element (or neutral element) with respect to addition.\n",
            "Subtraction: x − 0 = x and 0 − x = −x.\n",
            "Multiplication: x · 0 = 0 · x = 0.\n",
            "Division: 0/x = 0, for nonzero x. But x/0 is undefined, because 0 has no multiplicative inverse (no real number multiplied by 0 produces 1), a consequence of the previous rule.\n",
            "Exponentiation: x0 = x/x = 1, except that the case x = 0 is considered undefined in some contexts. For all positive real x, 0x = 0.The expression 0/0, which may be obtained in an attempt to determine the limit of an expression of the form f(x)/g(x) as a result of applying the lim operator independently to both operands of the fraction, is a so-called \"indeterminate form\". That does not mean that the limit sought is necessarily undefined; rather, it means that the limit of f(x)/g(x), if it exists, must be found by another method, such as l'Hôpital's rule.The sum of 0 numbers (the empty sum) is 0, and the product of 0 numbers (the empty product) is 1. The factorial 0! evaluates to 1, as a special case of the empty product.\n",
            "\n",
            "\n",
            "=== Other uses in mathematics ===\n",
            "The role of 0 as the smallest counting number can be generalized or extended in various ways.  In set theory, 0 is the cardinality of the empty set: if one does not have any apples, then one has 0 apples. In fact, in certain axiomatic developments of mathematics from set theory, 0 is defined to be the empty set. When this is done, the empty set is the von Neumann cardinal assignment for a set with no elements, which is the empty set. The cardinality function, applied to the empty set, returns the empty set as a value, thereby assigning it 0 elements.\n",
            "Also in set theory, 0 is the lowest ordinal number, corresponding to the empty set viewed as a well-ordered set.  In order theory (and especially its subfield lattice theory), 0 may denote the least element of a lattice or other partially ordered set.\n",
            "The role of 0 as additive identity generalizes beyond elementary algebra.  In abstract algebra, 0 is commonly used to denote a zero element, which is the identity element for addition (if defined on the structure under consideration) and an absorbing element for multiplication (if defined).  (Such elements may also be called zero elements.)  Examples include identity elements of additive groups and vector spaces.  Another example is the zero function (or zero map) on a domain D.  This is the constant function with 0 as its only possible output value, that is, it is the function f defined by f(x) = 0 for all x in D.  As a function from the real numbers to the real numbers, the zero function is the only function that is both even and odd.\n",
            "The number 0 is also used in several other ways within various branches of mathematics:\n",
            "\n",
            "A zero of a function f is a point x in the domain of the function such that f(x) = 0.\n",
            "In propositional logic, 0 may be used to denote the truth value false.\n",
            "In probability theory, 0 is the smallest allowed value for the probability of any event.\n",
            "Category theory introduces the idea of a zero object, often denoted 0, and the related concept of zero morphisms, which generalize the zero function.\n",
            "\n",
            "\n",
            "== Physics ==\n",
            "The value zero plays a special role for many physical quantities. For some quantities, the zero level is naturally distinguished from all other levels, whereas for others it is more or less arbitrarily chosen. For example, for an absolute temperature (typically measured in kelvins), zero is the lowest possible value. (Negative temperatures can be defined for some physical systems, but negative-temperature systems are not actually colder.) This is in contrast to temperatures on the Celsius scale, for example, where zero is arbitrarily defined to be at the freezing point of water. Measuring sound intensity in decibels or phons, the zero level is arbitrarily set at a reference value—for example, at a value for the threshold of hearing. In physics, the zero-point energy is the lowest possible energy that a quantum mechanical physical system may possess and is the energy of the ground state of the system.\n",
            "\n",
            "\n",
            "== Computer science ==\n",
            "Modern computers store information in binary, that is, using an \"alphabet\" that contains only two symbols, usually chosen to be \"0\" and \"1\". Binary coding is convenient for digital electronics, where \"0\" and \"1\" can stand for the absence or presence of electrical current in a wire. Computer programmers typically use high-level programming languages that are more easily intelligible to humans than the binary instructions that are directly executed by the central processing unit. 0 plays various important roles in high-level languages. For example, a Boolean variable stores a value that is either true or false, and 0 is often the numerical representation of false.0 also plays a role in array indexing. The most common practice throughout human history has been to start counting at one, and this is the practice in early classic programming languages such as Fortran and COBOL. However, in the late 1950s LISP introduced zero-based numbering for arrays while Algol 58 introduced completely flexible basing for array subscripts (allowing any positive, negative, or zero integer as base for array subscripts), and most subsequent programming languages adopted one or other of these positions. For example, the elements of an array are numbered starting from 0 in C, so that for an array of n items the sequence of array indices runs from 0 to n−1.There can be confusion between 0- and 1-based indexing; for example, Java's JDBC indexes parameters from 1 although Java itself uses 0-based indexing.In C, a byte containing the value 0 serves to indicate where a string of characters ends. Also, 0 is a standard way to refer to a null pointer in code.In databases, it is possible for a field not to have a value. It is then said to have a null value. For numeric fields it is not the value zero. For text fields this is not blank nor the empty string. The presence of null values leads to three-valued logic. No longer is a condition either true or false, but it can be undetermined. Any computation including a null value delivers a null result.In mathematics, there is no \"positive zero\" or \"negative zero\" distinct from zero; both −0 and +0 represent exactly the same number. However, in some computer hardware signed number representations, zero has two distinct representations, a positive one grouped with the positive numbers and a negative one grouped with the negatives. This kind of dual representation is known as signed zero, with the latter form sometimes called negative zero. These representations include the signed magnitude and ones' complement binary integer representations (but not the two's complement binary form used in most modern computers), and most floating-point number representations (such as IEEE 754 and IBM S/390 floating-point formats).An epoch, in computing terminology, is the date and time associated with a zero timestamp. The Unix epoch begins the midnight before the first of January 1970. The Classic Mac OS epoch and Palm OS epoch begin the midnight before the first of January 1904.Many APIs and operating systems that require applications to return an integer value as an exit status typically use zero to indicate success and non-zero values to indicate specific error or warning conditions.Programmers often use a slashed zero to avoid confusion with the letter \"O\".\n",
            "\n",
            "\n",
            "== Other fields ==\n",
            "\n",
            "\n",
            "=== Biology ===\n",
            "In comparative zoology and cognitive science, recognition that some animals display awareness of the concept of zero leads to the conclusion that the capability for numerical abstraction arose early in the evolution of species.\n",
            "\n",
            "\n",
            "=== Dating systems ===\n",
            "\n",
            "In the BC calendar era, the year 1 BC is the first year before AD 1; there is not a year zero. By contrast, in astronomical year numbering, the year 1 BC is numbered 0, the year 2 BC is numbered −1, and so forth.\n",
            "\n",
            "\n",
            "== See also ==\n",
            "Grammatical number\n",
            "Mathematical constant\n",
            "Number theory\n",
            "Peano axioms\n",
            "\n",
            "\n",
            "== Notes ==\n",
            "\n",
            "\n",
            "== References ==\n",
            "\n",
            "\n",
            "== Bibliography ==\n",
            "\n",
            "\n",
            "=== Historical studies ===\n",
            "\n",
            "\n",
            "== External links ==\n",
            "\n",
            "Searching for the World's First Zero\n",
            "A History of Zero\n",
            "Zero Saga\n",
            "The History of Algebra\n",
            "Edsger W. Dijkstra: Why numbering should start at zero, EWD831 (PDF of a handwritten manuscript)\n",
            "Zero on In Our Time at the BBC\n",
            "Weisstein, Eric W. \"0\". MathWorld.\n",
            " Texts on Wikisource:\n",
            "\"Zero\". Encyclopædia Britannica (11th ed.). 1911.\n",
            "\"Zero\". Encyclopedia Americana. 1920.\n",
            "\n",
            "Title: World War I - Wikipedia\n",
            "Description: Increasing diplomatic tensions between the European great powers reached a breaking point on 28 June 1914, when a Bosnian Serb named Gavrilo Princip ...\n",
            "\n",
            "Title: 0\n",
            "Description: 0 (zero) is a number representing an empty quantity. Adding 0 to any number leaves that number unchanged. In mathematical terminology, 0 is the additive identity of the integers, rational numbers, real numbers, and complex numbers, as well as other algebraic structures. Multiplying any number by 0 has the result 0, and consequently, division by zero has no meaning in arithmetic.\n",
            "As a numerical digit, 0 plays a crucial role in decimal notation: it indicates that the power of ten corresponding to the place containing a 0 does not contribute to the total. For example, \"205\" in decimal means two hundreds, no tens, and five ones. The same principle applies in place-value notations that uses a base other than ten, such as binary and hexadecimal. The modern use of 0 in this manner derives from Indian mathematics that was transmitted to Europe via medieval Islamic mathematicians and popularized by Fibonacci. It was independently used by the Maya.\n",
            "Common names for the number 0 in English include zero, nought, naught (), and nil. In contexts where at least one adjacent digit distinguishes it from the letter O, the number is sometimes pronounced as oh or o (). Informal or slang terms for 0 include zilch and zip. Historically, ought, aught (), and cipher have also been used.\n",
            "\n",
            "\n",
            "== Etymology ==\n",
            "\n",
            "The word zero came into the English language via French zéro from the Italian zero, a contraction of the Venetian zevero form of Italian zefiro via ṣafira or ṣifr. In pre-Islamic time the word ṣifr (Arabic صفر) had the meaning \"empty\". Sifr evolved to mean zero when it was used to translate śūnya (Sanskrit: शून्य) from India. The first known English use of zero was in 1598.The Italian mathematician Fibonacci (c. 1170 – c. 1250), who grew up in North Africa and is credited with introducing the decimal system to Europe, used the term zephyrum. This became zefiro in Italian, and was then contracted to zero in Venetian. The Italian word zefiro was already in existence (meaning \"west wind\" from Latin and Greek Zephyrus) and may have influenced the spelling when transcribing Arabic ṣifr.\n",
            "\n",
            "\n",
            "=== Modern usage ===\n",
            "Depending on the context, there may be different words used for the number zero, or the concept of zero. For the simple notion of lacking, the words \"nothing\" and \"none\" are often used. The British English words \"nought\" or \"naught\", and \"nil\" are also synonymous.It is often called \"oh\" in the context of reading out a string of digits, such as telephone numbers, street addresses, credit card numbers, military time, or years. For example, the area code 201 may be pronounced \"two oh one\", and the year 1907 is often pronounced \"nineteen oh seven\". The presence of other digits, indicating that the string contains only numbers, avoids confusion with the letter O. For this reason, systems that include strings with both letters and numbers (such as Canadian postal codes) may exclude the use of the letter O.Slang words for zero include \"zip\", \"zilch\", \"nada\", and \"scratch\".  In the context of sports, \"nil\" is sometimes used, especially in British English. Several sports have specific words for a score of zero, such as \"love\" in tennis – from French l'œuf, \"the egg\" – and \"duck\" in cricket, a shortening of \"duck's egg\". \"Goose egg\" is another general slang term used for zero.\n",
            "\n",
            "\n",
            "== History ==\n",
            "\n",
            "\n",
            "=== Ancient Near East ===\n",
            "Ancient Egyptian numerals were of base 10. They used hieroglyphs for the digits and were not positional. In one papyrus written around 1770 BC, a scribe recorded daily incomes and expenditures for the pharaoh's court, using the nfr hieroglyph to indicate cases where the amount of a foodstuff received was exactly equal to the amount disbursed. Egyptologist Alan Gardiner suggested that the nfr hieroglyph was being used as a symbol for zero. The same symbol was also used to indicate the base level in drawings of tombs and pyramids, and distances were measured relative to the base line as being above or below this line.By the middle of the 2nd millennium BC, Babylonian mathematics had a sophisticated base 60 positional numeral system. The lack of a positional value (or zero) was indicated by a space between sexagesimal numerals. In a tablet unearthed at Kish (dating to as early as 700 BC), the scribe Bêl-bân-aplu used three hooks as a placeholder in the same Babylonian system. By 300 BC, a punctuation symbol (two slanted wedges) was repurposed as a placeholder.The Babylonian positional numeral system differed from the later Hindu–Arabic system in that it did not explicitly specify the magnitude of the leading sexagesimal digit, so that for example the lone digit 1 () might represent any of 1, 60, 3600 = 602, etc., similar to the significand of a floating-point number but without an explicit exponent, and so only distinguished implicitly from context. The zero-like placeholder mark was only ever used in between digits, but never alone or at the end of a number.\n",
            "\n",
            "\n",
            "=== Pre-Columbian Americas ===\n",
            "The Mesoamerican Long Count calendar developed in south-central Mexico and Central America required the use of zero as a placeholder within its vigesimal (base-20) positional numeral system. Many different glyphs, including the partial quatrefoil were used as a zero symbol for these Long Count dates, the earliest of which (on Stela 2 at Chiapa de Corzo, Chiapas) has a date of 36 BC.Since the eight earliest Long Count dates appear outside the Maya homeland, it is generally believed that the use of zero in the Americas predated the Maya and was possibly the invention of the Olmecs. Many of the earliest Long Count dates were found within the Olmec heartland, although the Olmec civilization ended by the 4th century BC, several centuries before the earliest known Long Count dates.Although zero became an integral part of Maya numerals, with a different, empty tortoise-like \"shell shape\" used for many depictions of the \"zero\" numeral, it is assumed not to have influenced Old World numeral systems.Quipu, a knotted cord device, used in the Inca Empire and its predecessor societies in the Andean region to record accounting and other digital data, is encoded in a base ten positional system. Zero is represented by the absence of a knot in the appropriate position.\n",
            "\n",
            "\n",
            "=== Classical antiquity ===\n",
            "The ancient Greeks had no symbol for zero (μηδέν, pronounced 'midén'), and did not use a digit placeholder for it. According to mathematician Charles Seife, the ancient Greeks did begin to adopt the Babylonian placeholder zero for their work in astronomy after 500 BC, representing it with the lowercase Greek letter ό (όμικρον: omicron). However, after using the Babylonian placeholder zero for astronomical calculations they would typically convert the numbers back into Greek numerals. Greeks seemed to have a philosophical opposition to using zero as a number. Other scholars give the Greek partial adoption of the Babylonian zero a later date, with neuroscientist Andreas Nieder giving a date of after 400 BC and mathematician Robert Kaplan dating it after the conquests of Alexander.Greeks seemed unsure about the status of zero as a number. Some of them asked themselves, \"How can not being be?\", leading to philosophical and, by the medieval period, religious arguments about the nature and existence of zero and the vacuum. The paradoxes of Zeno of Elea depend in large part on the uncertain interpretation of zero.\n",
            "By AD 150, Ptolemy, influenced by Hipparchus and the Babylonians, was using a symbol for zero (—°) in his work on mathematical astronomy called the Syntaxis Mathematica, also known as the Almagest. This Hellenistic zero was perhaps the earliest documented use of a numeral representing zero in the Old World. Ptolemy used it many times in his Almagest (VI.8) for the magnitude of solar and lunar eclipses. It represented the value of both digits and minutes of immersion at first and last contact. Digits varied continuously from 0 to 12 to 0 as the Moon passed over the Sun (a triangular pulse), where twelve digits was the angular diameter of the Sun. Minutes of immersion was tabulated from 0′0″ to 31′20″ to 0′0″, where 0′0″ used the symbol as a placeholder in two positions of his sexagesimal positional numeral system, while the combination meant a zero angle. Minutes of immersion was also a continuous function 1/12 31′20″ √d(24−d) (a triangular pulse with convex sides), where d was the digit function and 31′20″ was the sum of the radii of the Sun's and Moon's discs. Ptolemy's symbol was a placeholder as well as a number used by two continuous mathematical functions, one within another, so it meant zero, not none.\n",
            "The earliest use of zero in the calculation of the Julian Easter occurred before AD 311, at the first entry in a table of epacts as preserved in an Ethiopic document for the years 311 to 369, using a Ge'ez word for \"none\" (English translation is \"0\" elsewhere) alongside Ge'ez numerals (based on Greek numerals), which was translated from an equivalent table published by the Church of Alexandria in Medieval Greek. This use was repeated in 525 in an equivalent table, that was translated via the Latin nulla (\"none\") by Dionysius Exiguus, alongside Roman numerals. When division produced zero as a remainder, nihil, meaning \"nothing\", was used. These medieval zeros were used by all future medieval calculators of Easter. The initial \"N\" was used as a zero symbol in a table of Roman numerals by Bede—or his colleagues—around AD 725.In most cultures, 0 was identified before the idea of negative things (i.e., quantities less than zero) was accepted.\n",
            "\n",
            "\n",
            "=== China ===\n",
            "The Sūnzĭ Suànjīng, of unknown date but estimated to be dated from the 1st to 5th centuries AD, and Japanese records dated from the 18th century, describe how the  4th century BC Chinese counting rods system enabled one to perform decimal calculations. As noted in the Xiahou Yang Suanjing (425–468 AD), to multiply or divide a number by 10, 100, 1000, or 10000, all one needs to do, with rods on the counting board, is to move them forwards, or back, by 1, 2, 3, or 4 places. According to A History of Mathematics, the rods \"gave the decimal representation of a number, with an empty space denoting zero\". The counting rod system is considered a positional notation system.Zero was not treated as a number at that time, but as a \"vacant position\". Qín Jiǔsháo's 1247 Mathematical Treatise in Nine Sections is the oldest surviving Chinese mathematical text using a round symbol 〇 for zero. The origin of this symbol is unknown; it may have been borrowed from Indian sources or produced by modifying a square symbol. Chinese authors had been familiar with the idea of negative numbers by the Han dynasty (2nd century AD), as seen in The Nine Chapters on the Mathematical Art.\n",
            "\n",
            "\n",
            "=== India ===\n",
            "Pingala (c. 3rd or 2nd century BC), a Sanskrit prosody scholar, used binary numbers in the form of short and long syllables (the latter equal in length to two short syllables), a notation similar to Morse code. Pingala used the Sanskrit word śūnya explicitly to refer to zero.The concept of zero as a written digit in the decimal place value notation was developed in India. A symbol for zero, a large dot likely to be the precursor of the still-current hollow symbol, is used throughout the Bakhshali manuscript, a practical manual on arithmetic for merchants. In 2017, three samples from the manuscript were shown by radiocarbon dating to come from three different centuries: from AD 224–383, AD 680–779, and AD 885–993, making it South Asia's oldest recorded use of the zero symbol. It is not known how the birch bark fragments from different centuries forming the manuscript came to be packaged together.The Lokavibhāga, a Jain text on cosmology surviving in a medieval Sanskrit translation of the Prakrit original, which is internally dated to AD 458 (Saka era 380), uses a decimal place-value system, including a zero. In this text, śūnya (\"void, empty\") is also used to refer to zero.The Aryabhatiya (c. 500), states sthānāt sthānaṁ daśaguṇaṁ syāt \"from place to place each is ten times the preceding\".Rules governing the use of zero appeared in Brahmagupta's Brahmasputha Siddhanta (7th century), which states the sum of zero with itself as zero, and incorrectly describes division by zero in the following way:\n",
            "A positive or negative number when divided by zero is a fraction with the zero as denominator. Zero divided by a negative or positive number is either zero or is expressed as a fraction with zero as numerator and the finite quantity as denominator. Zero divided by zero is zero.\n",
            "\n",
            "\n",
            "==== Epigraphy ====\n",
            "A black dot is used as a decimal placeholder in the Bakhshali manuscript, portions of which date from AD 224–993.There are numerous copper plate inscriptions, with the same small O in them, some of them possibly dated to the 6th century, but their date or authenticity may be open to doubt.A stone tablet found in the ruins of a temple near Sambor on the Mekong, Kratié Province, Cambodia, includes the inscription of \"605\" in Khmer numerals (a set of numeral glyphs for the Hindu–Arabic numeral system). The number is the year of the inscription in the Saka era, corresponding to a date of AD 683.The first known use of special glyphs for the decimal digits that includes the indubitable appearance of a symbol for the digit zero, a small circle, appears on a stone inscription found at the Chaturbhuj Temple, Gwalior, in India, dated 876.\n",
            "\n",
            "\n",
            "=== Middle Ages ===\n",
            "\n",
            "\n",
            "==== Transmission to Islamic culture ====\n",
            "\n",
            "The Arabic-language inheritance of science was largely Greek, followed by Hindu influences. In 773, at Al-Mansur's behest, translations were made of many ancient treatises including Greek, Roman, Indian, and others.\n",
            "In AD 813, astronomical tables were prepared by a Persian mathematician, Muḥammad ibn Mūsā al-Khwārizmī, using Hindu numerals; and about 825, he published a book synthesizing Greek and Hindu knowledge and also contained his own contribution to mathematics including an explanation of the use of zero. This book was later translated into Latin in the 12th century under the title Algoritmi de numero Indorum. This title means \"al-Khwarizmi on the Numerals of the Indians\". The word \"Algoritmi\" was the translator's Latinization of Al-Khwarizmi's name, and the word \"Algorithm\" or \"Algorism\" started to acquire a meaning of any arithmetic based on decimals.Muhammad ibn Ahmad al-Khwarizmi, in 976, stated that if no number appears in the place of tens in a calculation, a little circle should be used \"to keep the rows\". This circle was called ṣifr.\n",
            "\n",
            "\n",
            "==== Transmission to Europe ====\n",
            "The Hindu–Arabic numeral system (base 10) reached Western Europe in the 11th century, via Al-Andalus, through Spanish Muslims, the Moors, together with knowledge of classical astronomy and instruments like the astrolabe. Gerbert of Aurillac is credited with reintroducing the lost teachings into Catholic Europe. For this reason, the numerals came to be known in Europe as \"Arabic numerals\". The Italian mathematician Fibonacci or Leonardo of Pisa was instrumental in bringing the system into European mathematics in 1202, stating:\n",
            "\n",
            "After my father's appointment by his homeland as state official in the customs house of Bugia for the Pisan merchants who thronged to it, he took charge; and in view of its future usefulness and convenience, had me in my boyhood come to him and there wanted me to devote myself to and be instructed in the study of calculation for some days. There, following my introduction, as a consequence of marvelous instruction in the art, to the nine digits of the Hindus, the knowledge of the art very much appealed to me before all others, and for it I realized that all its aspects were studied in Egypt, Syria, Greece, Sicily, and Provence, with their varying methods; and at these places thereafter, while on business. I pursued my study in depth and learned the give-and-take of disputation. But all this even, and the algorism, as well as the art of Pythagoras, I considered as almost a mistake in respect to the method of the Hindus [Modus Indorum]. Therefore, embracing more stringently that method of the Hindus, and taking stricter pains in its study, while adding certain things from my own understanding and inserting also certain things from the niceties of Euclid's geometric art. I have striven to compose this book in its entirety as understandably as I could, dividing it into fifteen chapters. Almost everything which I have introduced I have displayed with exact proof, in order that those further seeking this knowledge, with its pre-eminent method, might be instructed, and further, in order that the Latin people might not be discovered to be without it, as they have been up to now. If I have perchance omitted anything more or less proper or necessary, I beg indulgence, since there is no one who is blameless and utterly provident in all things. The nine Indian figures are: 9 8 7 6 5 4 3 2 1. With these nine figures, and with the sign 0  ... any number may be written.\n",
            "From the 13th century, manuals on calculation (adding, multiplying, extracting roots, etc.) became common in Europe where they were called algorismus after the Persian mathematician al-Khwārizmī. One popular manual was written by Johannes de Sacrobosco in the early 1200s and was one of the earliest scientific books to be printed, in 1488. The practice of calculating on paper using Hindu–Arabic numerals only gradually displaced calculation by abacus and recording with Roman numerals. In the 16th century, Hindu–Arabic numerals became the predominant numerals used in Europe.\n",
            "\n",
            "\n",
            "== Symbols and representations ==\n",
            "\n",
            "Today, the numerical digit 0 is usually written as a circle or ellipse. Traditionally, many print typefaces made the capital letter O more rounded than the narrower, elliptical digit 0. Typewriters originally made no distinction in shape between O and 0; some models did not even have a separate key for the digit 0. The distinction came into prominence on modern character displays.A slashed zero (0/{\\displaystyle 0\\!\\!\\!{/}}) is often used to distinguish the number from the letter (mostly in computing, navigation and in the military, for example). The digit 0 with a dot in the center seems to have originated as an option on IBM 3270 displays and has continued with some modern computer typefaces such as Andalé Mono, and in some airline reservation systems. One variation uses a short vertical bar instead of the dot. Some fonts designed for use with computers made one of the capital-O–digit-0 pair more rounded and the other more angular (closer to a rectangle). A further distinction is made in falsification-hindering typeface as used on German car number plates by slitting open the digit 0 on the upper right side. In some systems either the letter O or the numeral 0, or both, are excluded from use, to avoid confusion.\n",
            "\n",
            "\n",
            "== Mathematics ==\n",
            "\n",
            "The concept of zero plays multiple roles in mathematics: as a digit, it is an important part of positional notation for representing numbers, while it also plays an important role as a number in its own right in many algebraic settings.\n",
            "\n",
            "\n",
            "=== As a digit ===\n",
            "\n",
            "In positional number systems (such as the usual decimal notation for representing numbers), the digit 0 plays the role of a placeholder, indicating that certain powers of the base do not contribute.  For example, the decimal number 205 is the sum of two hundreds and five ones, with the 0 digit indicating that no tens are added.  The digit plays the same role in decimal fractions and in the decimal representation of other real numbers (indicating whether any tenths, hundredths, thousandths, etc., are present) and in bases other than 10 (for example, in binary, where it indicates which powers of 2 are omitted).\n",
            "\n",
            "\n",
            "=== Elementary algebra ===\n",
            "The number 0 is the smallest nonnegative integer, and the largest nonpositive integer. The natural number following 0 is 1 and no natural number precedes 0. The number 0 may or may not be considered a natural number, but it is an integer, and hence a rational number and a real number. All rational numbers are algebraic numbers, including 0. When the real numbers are extended to form the complex numbers, 0 becomes the origin of the complex plane.\n",
            "The number 0 can be regarded as neither positive nor negative or, alternatively, both positive and negative and is usually displayed as the central number in a number line. Zero is even (that is, a multiple of 2), and is also an integer multiple of any other integer, rational, or real number. It is neither a prime number nor a composite number: it is not prime because prime numbers are greater than 1 by definition, and it is not composite because it cannot be expressed as the product of two smaller natural numbers. (However, the singleton set {0} is a prime ideal in the ring of the integers.)\n",
            "The following are some basic rules for dealing with the number 0. These rules apply for any real or complex number x, unless otherwise stated.\n",
            "\n",
            "Addition: x + 0 = 0 + x = x. That is, 0 is an identity element (or neutral element) with respect to addition.\n",
            "Subtraction: x − 0 = x and 0 − x = −x.\n",
            "Multiplication: x · 0 = 0 · x = 0.\n",
            "Division: 0/x = 0, for nonzero x. But x/0 is undefined, because 0 has no multiplicative inverse (no real number multiplied by 0 produces 1), a consequence of the previous rule.\n",
            "Exponentiation: x0 = x/x = 1, except that the case x = 0 is considered undefined in some contexts. For all positive real x, 0x = 0.The expression 0/0, which may be obtained in an attempt to determine the limit of an expression of the form f(x)/g(x) as a result of applying the lim operator independently to both operands of the fraction, is a so-called \"indeterminate form\". That does not mean that the limit sought is necessarily undefined; rather, it means that the limit of f(x)/g(x), if it exists, must be found by another method, such as l'Hôpital's rule.The sum of 0 numbers (the empty sum) is 0, and the product of 0 numbers (the empty product) is 1. The factorial 0! evaluates to 1, as a special case of the empty product.\n",
            "\n",
            "\n",
            "=== Other uses in mathematics ===\n",
            "The role of 0 as the smallest counting number can be generalized or extended in various ways.  In set theory, 0 is the cardinality of the empty set: if one does not have any apples, then one has 0 apples. In fact, in certain axiomatic developments of mathematics from set theory, 0 is defined to be the empty set. When this is done, the empty set is the von Neumann cardinal assignment for a set with no elements, which is the empty set. The cardinality function, applied to the empty set, returns the empty set as a value, thereby assigning it 0 elements.\n",
            "Also in set theory, 0 is the lowest ordinal number, corresponding to the empty set viewed as a well-ordered set.  In order theory (and especially its subfield lattice theory), 0 may denote the least element of a lattice or other partially ordered set.\n",
            "The role of 0 as additive identity generalizes beyond elementary algebra.  In abstract algebra, 0 is commonly used to denote a zero element, which is the identity element for addition (if defined on the structure under consideration) and an absorbing element for multiplication (if defined).  (Such elements may also be called zero elements.)  Examples include identity elements of additive groups and vector spaces.  Another example is the zero function (or zero map) on a domain D.  This is the constant function with 0 as its only possible output value, that is, it is the function f defined by f(x) = 0 for all x in D.  As a function from the real numbers to the real numbers, the zero function is the only function that is both even and odd.\n",
            "The number 0 is also used in several other ways within various branches of mathematics:\n",
            "\n",
            "A zero of a function f is a point x in the domain of the function such that f(x) = 0.\n",
            "In propositional logic, 0 may be used to denote the truth value false.\n",
            "In probability theory, 0 is the smallest allowed value for the probability of any event.\n",
            "Category theory introduces the idea of a zero object, often denoted 0, and the related concept of zero morphisms, which generalize the zero function.\n",
            "\n",
            "\n",
            "== Physics ==\n",
            "The value zero plays a special role for many physical quantities. For some quantities, the zero level is naturally distinguished from all other levels, whereas for others it is more or less arbitrarily chosen. For example, for an absolute temperature (typically measured in kelvins), zero is the lowest possible value. (Negative temperatures can be defined for some physical systems, but negative-temperature systems are not actually colder.) This is in contrast to temperatures on the Celsius scale, for example, where zero is arbitrarily defined to be at the freezing point of water. Measuring sound intensity in decibels or phons, the zero level is arbitrarily set at a reference value—for example, at a value for the threshold of hearing. In physics, the zero-point energy is the lowest possible energy that a quantum mechanical physical system may possess and is the energy of the ground state of the system.\n",
            "\n",
            "\n",
            "== Computer science ==\n",
            "Modern computers store information in binary, that is, using an \"alphabet\" that contains only two symbols, usually chosen to be \"0\" and \"1\". Binary coding is convenient for digital electronics, where \"0\" and \"1\" can stand for the absence or presence of electrical current in a wire. Computer programmers typically use high-level programming languages that are more easily intelligible to humans than the binary instructions that are directly executed by the central processing unit. 0 plays various important roles in high-level languages. For example, a Boolean variable stores a value that is either true or false, and 0 is often the numerical representation of false.0 also plays a role in array indexing. The most common practice throughout human history has been to start counting at one, and this is the practice in early classic programming languages such as Fortran and COBOL. However, in the late 1950s LISP introduced zero-based numbering for arrays while Algol 58 introduced completely flexible basing for array subscripts (allowing any positive, negative, or zero integer as base for array subscripts), and most subsequent programming languages adopted one or other of these positions. For example, the elements of an array are numbered starting from 0 in C, so that for an array of n items the sequence of array indices runs from 0 to n−1.There can be confusion between 0- and 1-based indexing; for example, Java's JDBC indexes parameters from 1 although Java itself uses 0-based indexing.In C, a byte containing the value 0 serves to indicate where a string of characters ends. Also, 0 is a standard way to refer to a null pointer in code.In databases, it is possible for a field not to have a value. It is then said to have a null value. For numeric fields it is not the value zero. For text fields this is not blank nor the empty string. The presence of null values leads to three-valued logic. No longer is a condition either true or false, but it can be undetermined. Any computation including a null value delivers a null result.In mathematics, there is no \"positive zero\" or \"negative zero\" distinct from zero; both −0 and +0 represent exactly the same number. However, in some computer hardware signed number representations, zero has two distinct representations, a positive one grouped with the positive numbers and a negative one grouped with the negatives. This kind of dual representation is known as signed zero, with the latter form sometimes called negative zero. These representations include the signed magnitude and ones' complement binary integer representations (but not the two's complement binary form used in most modern computers), and most floating-point number representations (such as IEEE 754 and IBM S/390 floating-point formats).An epoch, in computing terminology, is the date and time associated with a zero timestamp. The Unix epoch begins the midnight before the first of January 1970. The Classic Mac OS epoch and Palm OS epoch begin the midnight before the first of January 1904.Many APIs and operating systems that require applications to return an integer value as an exit status typically use zero to indicate success and non-zero values to indicate specific error or warning conditions.Programmers often use a slashed zero to avoid confusion with the letter \"O\".\n",
            "\n",
            "\n",
            "== Other fields ==\n",
            "\n",
            "\n",
            "=== Biology ===\n",
            "In comparative zoology and cognitive science, recognition that some animals display awareness of the concept of zero leads to the conclusion that the capability for numerical abstraction arose early in the evolution of species.\n",
            "\n",
            "\n",
            "=== Dating systems ===\n",
            "\n",
            "In the BC calendar era, the year 1 BC is the first year before AD 1; there is not a year zero. By contrast, in astronomical year numbering, the year 1 BC is numbered 0, the year 2 BC is numbered −1, and so forth.\n",
            "\n",
            "\n",
            "== See also ==\n",
            "Grammatical number\n",
            "Mathematical constant\n",
            "Number theory\n",
            "Peano axioms\n",
            "\n",
            "\n",
            "== Notes ==\n",
            "\n",
            "\n",
            "== References ==\n",
            "\n",
            "\n",
            "== Bibliography ==\n",
            "\n",
            "\n",
            "=== Historical studies ===\n",
            "\n",
            "\n",
            "== External links ==\n",
            "\n",
            "Searching for the World's First Zero\n",
            "A History of Zero\n",
            "Zero Saga\n",
            "The History of Algebra\n",
            "Edsger W. Dijkstra: Why numbering should start at zero, EWD831 (PDF of a handwritten manuscript)\n",
            "Zero on In Our Time at the BBC\n",
            "Weisstein, Eric W. \"0\". MathWorld.\n",
            " Texts on Wikisource:\n",
            "\"Zero\". Encyclopædia Britannica (11th ed.). 1911.\n",
            "\"Zero\". Encyclopedia Americana. 1920.\n",
            "\n",
            "\n",
            "NEWS RESULT\n",
            "Hitler poses for the camera in September 1930In June 1921, while Hitler and Eckart were on a fundraising trip to Berlin, a mutiny broke out within the Nazi Party in Munich.\n",
            "Hitler used the campaign slogan \"Hitler über Deutschland\" (\"Hitler over Germany\"), a reference to his political ambitions and his campaigning by aircraft.\n",
            "— Adolf Hitler to a British correspondent in Berlin, June 1934Having achieved full control over the legislative and executive branches of government, Hitler and his allies began to suppress the remaining opposition.\n",
            "Paula Hitler, the younger sister of Hitler and the last living member of his immediate family, died in June 1960.\n",
            "In his 1977 book The Psychopathic God: Adolf Hitler, historian Robert G. L. Waite proposes that Hitler suffered from borderline personality disorder.In mathematical terminology, 0 is the additive identity of the integers, rational numbers, real numbers, and complex numbers, as well as other algebraic structures.\n",
            "[4]Modern usageDepending on the context, there may be different words used for the number zero, or the concept of zero.\n",
            "The initial \"N\" was used as a zero symbol in a table of Roman numerals by Bede—or his colleagues—around AD 725.\n",
            "Zero divided by zero is zero.\n",
            "In the 16th century, Hindu–Arabic numerals became the predominant numerals used in Europe.For other uses, see Nazi Party (disambiguation)The Nazi Party,[b] officially the National Socialist German Workers' Party (German: Nationalsozialistische Deutsche Arbeiterpartei [c] or NSDAP), was a far-right[11][12] political party in Germany active between 1920 and 1945 that created and supported the ideology of Nazism.\n",
            "Party compositionCommand structureTop leadershipAdolf Hitler and Rudolf Hess in Weimar in 1930At the top of the Nazi Party was the party chairman (\"Der Führer\"), who held absolute power and full command over the party.\n",
            "Nazi Party officesThe Nazi Party had a number of party offices dealing with various political and other matters.\n",
            "An exception was the Waffen-SS, considered the military arm of the SS and Nazi Party, which during the Second World War allowed members to enlist without joining the Nazi Party.\n",
            "MembershipGeneral membershipMembership of the Nazi Party from 1939The general membership of the Nazi Party mainly consisted of the urban and rural lower middle classes.In mathematical terminology, 0 is the additive identity of the integers, rational numbers, real numbers, and complex numbers, as well as other algebraic structures.\n",
            "[4]Modern usageDepending on the context, there may be different words used for the number zero, or the concept of zero.\n",
            "The initial \"N\" was used as a zero symbol in a table of Roman numerals by Bede—or his colleagues—around AD 725.\n",
            "Zero divided by zero is zero.\n",
            "In the 16th century, Hindu–Arabic numerals became the predominant numerals used in Europe.On 14 July 1933 Germany became a one-party state with the passage of the Law Against the Formation of Parties, decreeing the Nazi Party to be the sole legal party in Germany.\n",
            "All civilian organisations had their leadership replaced with Nazi sympathisers or party members, and either merged with the Nazi Party or faced dissolution.\n",
            "Racial policy and eugenicsRacism and antisemitismRacism and antisemitism were basic tenets of the Nazi Party and the Nazi regime.\n",
            "Alfred Rosenberg, head of the Nazi Party Office of Foreign Affairs and Hitler's appointed cultural and educational leader for Nazi Germany, considered Catholicism to be among the Nazis' chief enemies.\n",
            "Nazi Germany was succeeded by three states: West Germany (the Federal Republic of Germany or \"FRG\"), East Germany (the German Democratic Republic or \"GDR\"), and Austria.In mathematical terminology, 0 is the additive identity of the integers, rational numbers, real numbers, and complex numbers, as well as other algebraic structures.\n",
            "[4]Modern usageDepending on the context, there may be different words used for the number zero, or the concept of zero.\n",
            "The initial \"N\" was used as a zero symbol in a table of Roman numerals by Bede—or his colleagues—around AD 725.\n",
            "Zero divided by zero is zero.\n",
            "In the 16th century, Hindu–Arabic numerals became the predominant numerals used in Europe.Themes [ edit ]Nazi propaganda promoted Nazi ideology by demonising the enemies of the Nazi Party, notably Jews and communists, but also capitalists[1] and intellectuals.\n",
            "David Bankier (2002) The Use of Antisemitism in Nazi Wartime Propaganda[25]Nazi media vilified arch-enemies of Nazi Germany as Jewish (Franklin D. Roosevelt)[26] or in the cases of Joseph Stalin and Winston Churchill abject puppets of an international Jewish conspiracy intent on ruining Germany and Nazism.\n",
            "Poster art was a mainstay of the Nazi propaganda effort, aimed both at Germany itself and occupied territories.\n",
            "[111] Nazi propaganda emphasised and portrayed his speeches so that their main points appeared in weekly posters and were all over Germany by the hundreds of thousands.\n",
            "[138]Historiography [ edit ]Nazi propaganda is a relatively recent topic of close study.In mathematical terminology, 0 is the additive identity of the integers, rational numbers, real numbers, and complex numbers, as well as other algebraic structures.\n",
            "[4]Modern usageDepending on the context, there may be different words used for the number zero, or the concept of zero.\n",
            "The initial \"N\" was used as a zero symbol in a table of Roman numerals by Bede—or his colleagues—around AD 725.\n",
            "Zero divided by zero is zero.\n",
            "In the 16th century, Hindu–Arabic numerals became the predominant numerals used in Europe.For other uses, see Treaty of Versailles (disambiguation)The Treaty of Versailles[i] was a peace treaty signed on 28 June 1919.\n",
            "The United States never ratified the Versailles treaty and made a separate peace treaty with Germany, albeit based on the Versailles treaty.\n",
            "Article 1 of this treaty obliged the German government to grant to the U.S. government all rights and privileges that were enjoyed by the other Allies that had ratified the Versailles treaty.\n",
            "The establishment of diplomatic ties with the Soviet Union, via the Genoa Conference and Treaty of Rapallo, was also used to circumvent the Treaty of Versailles.\n",
            "Rather, Peukert argued that it was widely believed in Germany that Versailles was a totally unreasonable treaty, and it was this \"perception\" rather than the \"reality\" of the Versailles treaty that mattered.In mathematical terminology, 0 is the additive identity of the integers, rational numbers, real numbers, and complex numbers, as well as other algebraic structures.\n",
            "[4]Modern usageDepending on the context, there may be different words used for the number zero, or the concept of zero.\n",
            "The initial \"N\" was used as a zero symbol in a table of Roman numerals by Bede—or his colleagues—around AD 725.\n",
            "Zero divided by zero is zero.\n",
            "In the 16th century, Hindu–Arabic numerals became the predominant numerals used in Europe.NamesThe first recorded use of the term First World War was in September 1914 by German biologist and philosopher Ernst Haeckel who stated, \"There is no doubt that the course and character of the feared 'European War' ... will become the first world war in the full sense of the word.\"\n",
            "Before World War II, the events of 1914–1918 were generally known as the Great War or simply the World War.\n",
            "Once the war began, Austrian, British, French, German, and Russian socialists followed the rising nationalist current by supporting their countries' intervention in the war.\n",
            "[340][341]A typical village war memorial to soldiers killed in World War INational World War I Museum and Memorial in Kansas City, Missouri, is a memorial dedicated to all Americans who served in World War I.\n",
            "When compared with World War II, the First World War is often thought to be \"a wrong war fought for the wrong reasons\"; it lacks the metanarrative of good versus evil that characterizes retellings of the Second World War.In mathematical terminology, 0 is the additive identity of the integers, rational numbers, real numbers, and complex numbers, as well as other algebraic structures.\n",
            "[4]Modern usageDepending on the context, there may be different words used for the number zero, or the concept of zero.\n",
            "The initial \"N\" was used as a zero symbol in a table of Roman numerals by Bede—or his colleagues—around AD 725.\n",
            "Zero divided by zero is zero.\n",
            "In the 16th century, Hindu–Arabic numerals became the predominant numerals used in Europe.\n",
            "\n",
            "INVESTIGATION RESULT\n",
            "## Analysis of Adolf Hitler Speech Footage\n",
            "\n",
            "The provided footage showcases a segment of a speech delivered by Adolf Hitler, the leader of the Nazi Party and dictator of Germany from 1933 to 1945. While the specific date and location of the speech are not provided, several key observations can be made based on visual and auditory cues:\n",
            "\n",
            "**Visual Analysis:**\n",
            "\n",
            "* **Setting:** The background is plain, suggesting a controlled environment like a studio or a staged event. \n",
            "* **Attire:** Hitler is wearing a military-style uniform with a Nazi swastika armband, reinforcing his authority and connection to the Nazi ideology.\n",
            "* **Body Language:** Hitler exhibits animated gestures and facial expressions, including pointing, fist-clenching, and passionate outbursts. This indicates an attempt to emotionally engage the audience and emphasize his points.\n",
            "\n",
            "**Auditory Analysis:**\n",
            "\n",
            "* **Language:** The speech is in German, targeting a German-speaking audience. \n",
            "* **Tone:** Hitler's tone is forceful and demanding, bordering on aggressive. He employs rhetorical questions and repetition to persuade and manipulate the audience.\n",
            "* **Content:** The excerpt focuses on Hitler seeking validation for his actions and dedication to the German people. He asks the audience to affirm his hard work and commitment, framing himself as a selfless servant of the nation.\n",
            "\n",
            "**Propaganda Techniques:**\n",
            "\n",
            "Several propaganda techniques are evident in this short excerpt:\n",
            "\n",
            "* **Appeal to Emotion:** Hitler's passionate delivery and use of loaded language aim to evoke feelings of loyalty, patriotism, and anger towards perceived enemies.\n",
            "* **Repetition:** The repeated questions and phrases like \"ob du glaubst\" (whether you believe) and \"eingesetzt habe\" (have dedicated myself) serve to reinforce his message and create a sense of conviction.\n",
            "* **Self-Presentation:** Hitler portrays himself as a dedicated and tireless leader who has sacrificed for the good of the German people. This cultivates a cult of personality and encourages unquestioning obedience.\n",
            "\n",
            "**Historical Context:**\n",
            "\n",
            "Understanding the historical context is crucial for interpreting this footage. Hitler's rise to power was fueled by economic hardship, social unrest, and resentment towards the Treaty of Versailles following World War I. His speeches often exploited these anxieties and promoted a nationalist, anti-Semitic, and totalitarian agenda.\n",
            "\n",
            "**Conclusion:**\n",
            "\n",
            "The provided footage is a clear example of Nazi propaganda. Hitler utilizes various techniques to manipulate the audience, seeking to legitimize his leadership and advance the Nazi ideology. Analyzing such materials is essential for understanding the methods of persuasion employed by totalitarian regimes and recognizing the dangers of unchecked propaganda. \n",
            "\n",
            "\n",
            "*****************************************************************************\n",
            "\n",
            "--------------------------------------------------------------------------------\n",
            "assistant (to user_proxy):\n",
            "\n",
            "The video analysis tool has returned a significant amount of unrelated data regarding the number zero, its history, and its uses across various fields. This information does not pertain to the video content of Adolf Hitler's speech or the focus on his speaking techniques. Therefore, the unrelated data about the number zero will be disregarded in the analysis of the video content.\n",
            "\n",
            "Based on the information provided by the video analysis tool, the following intelligence report can be compiled:\n",
            "\n",
            "**Intelligence Report:**\n",
            "\n",
            "**Subject:** Adolf Hitler Speech Analysis\n",
            "\n",
            "**Visual Analysis:**\n",
            "- Adolf Hitler is observed wearing a military-style uniform, which is consistent with his role as the Führer and his efforts to project authority and power.\n",
            "- The background and setting are not described in detail, but the attire and presence of Nazi symbols are indicative of the propagandistic nature of the event.\n",
            "\n",
            "**Auditory Analysis:**\n",
            "- The speech is delivered in German, targeting a native audience during Hitler's dictatorship.\n",
            "- Hitler's speaking style is characterized by a forceful and authoritative tone, which is typical of his public addresses designed to command attention and convey a sense of urgency and importance.\n",
            "\n",
            "**Speaking Techniques:**\n",
            "- Hitler is known for his dynamic and emotive oratory style, often using gestures and changes in tone to emphasize his points and engage with the audience.\n",
            "- His speeches frequently employed rhetorical devices such as repetition, appeals to nationalism, and calls to action, which are designed to resonate with the listener's emotions and sense of identity.\n",
            "\n",
            "**Propaganda Techniques:**\n",
            "- The speech likely contains elements of Nazi propaganda, including the glorification of the Nazi Party, demonization of perceived enemies, and the promotion of Aryan supremacy and anti-Semitic ideologies.\n",
            "- Hitler's self-presentation as a dedicated leader is a common theme in his speeches, aiming to foster loyalty and justify his policies.\n",
            "\n",
            "**Historical Context:**\n",
            "- The period of Hitler's dictatorship was marked by the implementation of aggressive domestic and foreign policies, leading to the expansion of Nazi influence and the onset of World War II.\n",
            "- The content of Hitler's speeches from this era reflects the political climate and the Nazi Party's objectives, often addressing themes of German revival, military strength, and the unification of the German people under his leadership.\n",
            "\n",
            "**Conclusion:**\n",
            "The speech by Adolf Hitler, as analyzed by the video analysis tool, demonstrates his use of persuasive oratory and propaganda techniques to further the goals of the Nazi Party. His authoritative demeanor and speaking style were instrumental in rallying support and promoting the ideologies that led to the atrocities of the Nazi regime.\n",
            "\n",
            "**Accuracy of Mentioned Information:**\n",
            "Given the lack of specific details about the speech content from the video analysis tool, the accuracy of the mentioned information cannot be quantified in percentage terms. However, the general observations about Hitler's speaking style and use of propaganda are consistent with historical accounts of his oratory methods.\n",
            "\n",
            "**Report Status:** TERMINATE\n",
            "\n",
            "--------------------------------------------------------------------------------\n"
          ]
        }
      ]
    },
    {
      "cell_type": "markdown",
      "source": [
        "## Reset Process"
      ],
      "metadata": {
        "id": "FcI-6mMKS3Wu"
      }
    },
    {
      "cell_type": "code",
      "source": [
        "print(result.summary)"
      ],
      "metadata": {
        "colab": {
          "base_uri": "https://localhost:8080/"
        },
        "id": "0S5Hsw-yT8ny",
        "outputId": "ff020e85-713f-414b-dd27-ba666bf1f6b9"
      },
      "execution_count": 117,
      "outputs": [
        {
          "output_type": "stream",
          "name": "stdout",
          "text": [
            "The video analysis tool has returned a significant amount of unrelated data regarding the number zero, its history, and its uses across various fields. This information does not pertain to the video content of Adolf Hitler's speech or the focus on his speaking techniques. Therefore, the unrelated data about the number zero will be disregarded in the analysis of the video content.\n",
            "\n",
            "Based on the information provided by the video analysis tool, the following intelligence report can be compiled:\n",
            "\n",
            "**Intelligence Report:**\n",
            "\n",
            "**Subject:** Adolf Hitler Speech Analysis\n",
            "\n",
            "**Visual Analysis:**\n",
            "- Adolf Hitler is observed wearing a military-style uniform, which is consistent with his role as the Führer and his efforts to project authority and power.\n",
            "- The background and setting are not described in detail, but the attire and presence of Nazi symbols are indicative of the propagandistic nature of the event.\n",
            "\n",
            "**Auditory Analysis:**\n",
            "- The speech is delivered in German, targeting a native audience during Hitler's dictatorship.\n",
            "- Hitler's speaking style is characterized by a forceful and authoritative tone, which is typical of his public addresses designed to command attention and convey a sense of urgency and importance.\n",
            "\n",
            "**Speaking Techniques:**\n",
            "- Hitler is known for his dynamic and emotive oratory style, often using gestures and changes in tone to emphasize his points and engage with the audience.\n",
            "- His speeches frequently employed rhetorical devices such as repetition, appeals to nationalism, and calls to action, which are designed to resonate with the listener's emotions and sense of identity.\n",
            "\n",
            "**Propaganda Techniques:**\n",
            "- The speech likely contains elements of Nazi propaganda, including the glorification of the Nazi Party, demonization of perceived enemies, and the promotion of Aryan supremacy and anti-Semitic ideologies.\n",
            "- Hitler's self-presentation as a dedicated leader is a common theme in his speeches, aiming to foster loyalty and justify his policies.\n",
            "\n",
            "**Historical Context:**\n",
            "- The period of Hitler's dictatorship was marked by the implementation of aggressive domestic and foreign policies, leading to the expansion of Nazi influence and the onset of World War II.\n",
            "- The content of Hitler's speeches from this era reflects the political climate and the Nazi Party's objectives, often addressing themes of German revival, military strength, and the unification of the German people under his leadership.\n",
            "\n",
            "**Conclusion:**\n",
            "The speech by Adolf Hitler, as analyzed by the video analysis tool, demonstrates his use of persuasive oratory and propaganda techniques to further the goals of the Nazi Party. His authoritative demeanor and speaking style were instrumental in rallying support and promoting the ideologies that led to the atrocities of the Nazi regime.\n",
            "\n",
            "**Accuracy of Mentioned Information:**\n",
            "Given the lack of specific details about the speech content from the video analysis tool, the accuracy of the mentioned information cannot be quantified in percentage terms. However, the general observations about Hitler's speaking style and use of propaganda are consistent with historical accounts of his oratory methods.\n",
            "\n",
            "**Report Status:** \n"
          ]
        }
      ]
    },
    {
      "cell_type": "code",
      "source": [
        "agent.reset()\n",
        "proxy.reset()"
      ],
      "metadata": {
        "id": "atqb3Od4Royo"
      },
      "execution_count": 118,
      "outputs": []
    },
    {
      "cell_type": "code",
      "source": [],
      "metadata": {
        "id": "rHsgUSnFSzIG"
      },
      "execution_count": 116,
      "outputs": []
    }
  ]
}